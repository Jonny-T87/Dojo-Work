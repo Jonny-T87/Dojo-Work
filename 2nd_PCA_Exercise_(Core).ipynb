{
  "nbformat": 4,
  "nbformat_minor": 0,
  "metadata": {
    "colab": {
      "name": "PCA Exercise (Core).ipynb",
      "provenance": [],
      "collapsed_sections": [],
      "mount_file_id": "1HD9dQTM7H30TpWMiCiletYwcZkXHdo0n",
      "authorship_tag": "ABX9TyMmDvP5QFMpDDDaSABa0MOx",
      "include_colab_link": true
    },
    "kernelspec": {
      "name": "python3",
      "display_name": "Python 3"
    },
    "language_info": {
      "name": "python"
    }
  },
  "cells": [
    {
      "cell_type": "markdown",
      "metadata": {
        "id": "view-in-github",
        "colab_type": "text"
      },
      "source": [
        "<a href=\"https://colab.research.google.com/github/Jonny-T87/Dojo-Work/blob/main/2nd_PCA_Exercise_(Core).ipynb\" target=\"_parent\"><img src=\"https://colab.research.google.com/assets/colab-badge.svg\" alt=\"Open In Colab\"/></a>"
      ]
    },
    {
      "cell_type": "markdown",
      "source": [
        "##PCA Exercise (Core)\n",
        "\n",
        "Jonny Tesfahun\n",
        "- 07/25/2022"
      ],
      "metadata": {
        "id": "7AAY-ZY-abxd"
      }
    },
    {
      "cell_type": "code",
      "source": [
        "import numpy as np\n",
        "import matplotlib.pyplot as plt\n",
        "import pandas as pd\n",
        "from sklearn.preprocessing import StandardScaler\n",
        "from sklearn import preprocessing\n",
        "from sklearn.model_selection import train_test_split\n",
        "from sklearn.pipeline import make_pipeline\n",
        "from sklearn.neighbors import KNeighborsClassifier\n",
        "from sklearn.decomposition import PCA\n",
        "from sklearn.metrics import classification_report"
      ],
      "metadata": {
        "id": "2f_tOgByckG5"
      },
      "execution_count": 7,
      "outputs": []
    },
    {
      "cell_type": "code",
      "source": [
        "# load the dataset\n",
        "from sklearn.datasets import fetch_openml\n",
        "mnist = fetch_openml('mnist_784')\n",
        "# view the shape of the dataset\n",
        "mnist.data.shape\n"
      ],
      "metadata": {
        "colab": {
          "base_uri": "https://localhost:8080/"
        },
        "id": "-rF2rrpzvDdu",
        "outputId": "4c072b81-2330-4ecd-8d13-90702789eb82"
      },
      "execution_count": 8,
      "outputs": [
        {
          "output_type": "execute_result",
          "data": {
            "text/plain": [
              "(70000, 784)"
            ]
          },
          "metadata": {},
          "execution_count": 8
        }
      ]
    },
    {
      "cell_type": "code",
      "source": [
        "mnist.target.shape"
      ],
      "metadata": {
        "colab": {
          "base_uri": "https://localhost:8080/"
        },
        "id": "7sw45R5vxX5C",
        "outputId": "91cdfd57-d13e-43fc-9359-f75d0b0bd2aa"
      },
      "execution_count": 9,
      "outputs": [
        {
          "output_type": "execute_result",
          "data": {
            "text/plain": [
              "(70000,)"
            ]
          },
          "metadata": {},
          "execution_count": 9
        }
      ]
    },
    {
      "cell_type": "code",
      "source": [
        "X = mnist.data\n",
        "y = mnist.target\n",
        "\n",
        "X_train, X_test, y_train, y_test = train_test_split(X, y, random_state=42)"
      ],
      "metadata": {
        "id": "T9153sjC9tGz"
      },
      "execution_count": 10,
      "outputs": []
    },
    {
      "cell_type": "markdown",
      "source": [
        "2. Prepare the Data:"
      ],
      "metadata": {
        "id": "aRvmho7ptKz3"
      }
    },
    {
      "cell_type": "code",
      "source": [
        "#scaling data\n",
        "scaler = StandardScaler()\n",
        "\n",
        "#scaler.fit(X_train)\n",
        "#X_train_scaled = scaler.fit_transform(X_train)\n",
        "\n",
        "# using pca with 95% varience\n",
        "pca = PCA(n_components=.95)"
      ],
      "metadata": {
        "id": "HxHTbmrMXTns"
      },
      "execution_count": 11,
      "outputs": []
    },
    {
      "cell_type": "code",
      "source": [
        "#using fit and transform on X train scaled data\n",
        "#df_transformer_pca = pca.fit_transform(X_train_scaled)"
      ],
      "metadata": {
        "id": "pbep40_yXc9J"
      },
      "execution_count": 12,
      "outputs": []
    },
    {
      "cell_type": "markdown",
      "source": [
        "3. Create 2 KNN models:"
      ],
      "metadata": {
        "id": "MrbjVYHEtQY4"
      }
    },
    {
      "cell_type": "code",
      "source": [
        "#Using knn and pca model\n",
        "pca_knn_reg = KNeighborsClassifier()\n",
        "pca_knn_reg.fit(X_train, y_train)\n",
        "pca_knn_reg_pipe = make_pipeline(StandardScaler(), pca, pca_knn_reg)\n",
        "pca_knn_reg_pipe.fit(X_train, y_train)"
      ],
      "metadata": {
        "id": "t88i347jf-OP",
        "colab": {
          "base_uri": "https://localhost:8080/"
        },
        "outputId": "14d59e4a-9bcf-436a-9783-07e6f4d8209d"
      },
      "execution_count": 13,
      "outputs": [
        {
          "output_type": "execute_result",
          "data": {
            "text/plain": [
              "Pipeline(steps=[('standardscaler', StandardScaler()),\n",
              "                ('pca', PCA(n_components=0.95)),\n",
              "                ('kneighborsclassifier', KNeighborsClassifier())])"
            ]
          },
          "metadata": {},
          "execution_count": 13
        }
      ]
    },
    {
      "cell_type": "code",
      "source": [
        "#Using no pca model\n",
        "knn_reg = KNeighborsClassifier()\n",
        "no_pca_knn_reg_pipe = make_pipeline(StandardScaler(), knn_reg)\n",
        "no_pca_knn_reg_pipe.fit(X_train, y_train)"
      ],
      "metadata": {
        "id": "5NfcZdWXpVIr",
        "colab": {
          "base_uri": "https://localhost:8080/"
        },
        "outputId": "70592ed2-257f-47b8-db63-f43cbd08abd2"
      },
      "execution_count": 14,
      "outputs": [
        {
          "output_type": "execute_result",
          "data": {
            "text/plain": [
              "Pipeline(steps=[('standardscaler', StandardScaler()),\n",
              "                ('kneighborsclassifier', KNeighborsClassifier())])"
            ]
          },
          "metadata": {},
          "execution_count": 14
        }
      ]
    },
    {
      "cell_type": "markdown",
      "source": [
        "4. Evaluate and compare the models:"
      ],
      "metadata": {
        "id": "GewKhLngtmAt"
      }
    },
    {
      "cell_type": "code",
      "source": [
        "#Evaluating model with pca\n",
        "%%time\n",
        "preds_pca = pca_knn_reg_pipe.predict(X_test)"
      ],
      "metadata": {
        "id": "d7FRWIOrsv05",
        "colab": {
          "base_uri": "https://localhost:8080/"
        },
        "outputId": "350d66a2-060d-4f46-9376-24b3cb97adba"
      },
      "execution_count": 15,
      "outputs": [
        {
          "output_type": "stream",
          "name": "stdout",
          "text": [
            "CPU times: user 56.7 s, sys: 2.97 s, total: 59.7 s\n",
            "Wall time: 42.4 s\n"
          ]
        }
      ]
    },
    {
      "cell_type": "code",
      "source": [
        "##Evaluating model without pca\n",
        "%%time\n",
        "preds_no_pca = no_pca_knn_reg_pipe.predict(X_test)"
      ],
      "metadata": {
        "id": "uRwUwcaEyIEw",
        "colab": {
          "base_uri": "https://localhost:8080/"
        },
        "outputId": "1106125d-df4b-49c8-ac1b-68332e76a002"
      },
      "execution_count": 16,
      "outputs": [
        {
          "output_type": "stream",
          "name": "stdout",
          "text": [
            "CPU times: user 1min 47s, sys: 1.96 s, total: 1min 49s\n",
            "Wall time: 1min 7s\n"
          ]
        }
      ]
    },
    {
      "cell_type": "markdown",
      "source": [
        "##Conclusion:\n",
        "\n",
        "Definitely from both KNeighbors Classifier models, the model with the PCA ran faster in both CPU and Wall time. That model made the prediction in 42.4 seconds Wall time and 59.7 seconds CPU time. While the  KNeighbors Classifier model with no PCA, took 1 minute and 7 seconds Wall time and 1 minute 49 seconds CPU time to load. That is 24.6 seconds faster in Wall time and 50 seconds in CPU time. This is a big difference when considering that it had no hyper tuning or other manipulation of the data."
      ],
      "metadata": {
        "id": "eeLxTpUlkdOT"
      }
    }
  ]
}