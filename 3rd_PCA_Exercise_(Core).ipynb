{
  "nbformat": 4,
  "nbformat_minor": 0,
  "metadata": {
    "colab": {
      "name": "PCA Exercise (Core).ipynb",
      "provenance": [],
      "collapsed_sections": [],
      "mount_file_id": "1HD9dQTM7H30TpWMiCiletYwcZkXHdo0n",
      "authorship_tag": "ABX9TyP7rcRDqATTNWxkdaNBA2SD",
      "include_colab_link": true
    },
    "kernelspec": {
      "name": "python3",
      "display_name": "Python 3"
    },
    "language_info": {
      "name": "python"
    }
  },
  "cells": [
    {
      "cell_type": "markdown",
      "metadata": {
        "id": "view-in-github",
        "colab_type": "text"
      },
      "source": [
        "<a href=\"https://colab.research.google.com/github/Jonny-T87/Dojo-Work/blob/main/3rd_PCA_Exercise_(Core).ipynb\" target=\"_parent\"><img src=\"https://colab.research.google.com/assets/colab-badge.svg\" alt=\"Open In Colab\"/></a>"
      ]
    },
    {
      "cell_type": "markdown",
      "source": [
        "##PCA Exercise (Core)\n",
        "\n",
        "Jonny Tesfahun\n",
        "- 07/25/2022"
      ],
      "metadata": {
        "id": "7AAY-ZY-abxd"
      }
    },
    {
      "cell_type": "code",
      "source": [
        "import numpy as np\n",
        "import matplotlib.pyplot as plt\n",
        "import pandas as pd\n",
        "from sklearn.preprocessing import StandardScaler\n",
        "from sklearn import preprocessing\n",
        "from sklearn.model_selection import train_test_split\n",
        "from sklearn.pipeline import make_pipeline\n",
        "from sklearn.neighbors import KNeighborsClassifier\n",
        "from sklearn.decomposition import PCA\n",
        "from sklearn.metrics import classification_report"
      ],
      "metadata": {
        "id": "2f_tOgByckG5"
      },
      "execution_count": 17,
      "outputs": []
    },
    {
      "cell_type": "code",
      "source": [
        "# load the dataset\n",
        "from sklearn.datasets import fetch_openml\n",
        "mnist = fetch_openml('mnist_784')\n",
        "# view the shape of the dataset\n",
        "mnist.data.shape\n"
      ],
      "metadata": {
        "colab": {
          "base_uri": "https://localhost:8080/"
        },
        "id": "-rF2rrpzvDdu",
        "outputId": "c5a58b1d-6eaa-40ae-d93d-729d98a7d3e1"
      },
      "execution_count": 18,
      "outputs": [
        {
          "output_type": "execute_result",
          "data": {
            "text/plain": [
              "(70000, 784)"
            ]
          },
          "metadata": {},
          "execution_count": 18
        }
      ]
    },
    {
      "cell_type": "code",
      "source": [
        "mnist.target.shape"
      ],
      "metadata": {
        "colab": {
          "base_uri": "https://localhost:8080/"
        },
        "id": "7sw45R5vxX5C",
        "outputId": "016c2fba-5414-4d9b-9f35-60d5e85a4313"
      },
      "execution_count": 19,
      "outputs": [
        {
          "output_type": "execute_result",
          "data": {
            "text/plain": [
              "(70000,)"
            ]
          },
          "metadata": {},
          "execution_count": 19
        }
      ]
    },
    {
      "cell_type": "code",
      "source": [
        "X = mnist.data\n",
        "y = mnist.target\n",
        "\n",
        "X_train, X_test, y_train, y_test = train_test_split(X, y, random_state=42)"
      ],
      "metadata": {
        "id": "T9153sjC9tGz"
      },
      "execution_count": 20,
      "outputs": []
    },
    {
      "cell_type": "markdown",
      "source": [
        "2. Prepare the Data:"
      ],
      "metadata": {
        "id": "aRvmho7ptKz3"
      }
    },
    {
      "cell_type": "code",
      "source": [
        "#scaling data\n",
        "scaler = StandardScaler()\n",
        "\n",
        "#scaler.fit(X_train)\n",
        "#X_train_scaled = scaler.fit_transform(X_train)\n",
        "\n",
        "# using pca with 95% varience\n",
        "pca = PCA(n_components=.95)"
      ],
      "metadata": {
        "id": "HxHTbmrMXTns"
      },
      "execution_count": 21,
      "outputs": []
    },
    {
      "cell_type": "markdown",
      "source": [
        "3. Create 2 KNN models:"
      ],
      "metadata": {
        "id": "MrbjVYHEtQY4"
      }
    },
    {
      "cell_type": "code",
      "source": [
        "#Using knn and pca model\n",
        "pca_knn_reg = KNeighborsClassifier()\n",
        "pca_knn_reg.fit(X_train, y_train)\n",
        "pca_knn_reg_pipe = make_pipeline(StandardScaler(), pca, pca_knn_reg)\n",
        "pca_knn_reg_pipe.fit(X_train, y_train)"
      ],
      "metadata": {
        "id": "t88i347jf-OP",
        "colab": {
          "base_uri": "https://localhost:8080/"
        },
        "outputId": "10f7c8bd-5e99-4c76-b993-16673046051c"
      },
      "execution_count": 22,
      "outputs": [
        {
          "output_type": "execute_result",
          "data": {
            "text/plain": [
              "Pipeline(steps=[('standardscaler', StandardScaler()),\n",
              "                ('pca', PCA(n_components=0.95)),\n",
              "                ('kneighborsclassifier', KNeighborsClassifier())])"
            ]
          },
          "metadata": {},
          "execution_count": 22
        }
      ]
    },
    {
      "cell_type": "code",
      "source": [
        "#Using no pca model\n",
        "knn_reg = KNeighborsClassifier()\n",
        "no_pca_knn_reg_pipe = make_pipeline(StandardScaler(), knn_reg)\n",
        "no_pca_knn_reg_pipe.fit(X_train, y_train)"
      ],
      "metadata": {
        "id": "5NfcZdWXpVIr",
        "colab": {
          "base_uri": "https://localhost:8080/"
        },
        "outputId": "b50e4453-c41e-4a71-9dba-c0ca5ba56cff"
      },
      "execution_count": 23,
      "outputs": [
        {
          "output_type": "execute_result",
          "data": {
            "text/plain": [
              "Pipeline(steps=[('standardscaler', StandardScaler()),\n",
              "                ('kneighborsclassifier', KNeighborsClassifier())])"
            ]
          },
          "metadata": {},
          "execution_count": 23
        }
      ]
    },
    {
      "cell_type": "markdown",
      "source": [
        "4. Evaluate and compare the models:"
      ],
      "metadata": {
        "id": "GewKhLngtmAt"
      }
    },
    {
      "cell_type": "code",
      "source": [
        "#Evaluating model with pca\n",
        "%%time\n",
        "preds_pca = pca_knn_reg_pipe.predict(X_test)"
      ],
      "metadata": {
        "id": "d7FRWIOrsv05",
        "colab": {
          "base_uri": "https://localhost:8080/"
        },
        "outputId": "6363b5a5-14be-454d-8774-696b09f9ba1e"
      },
      "execution_count": 24,
      "outputs": [
        {
          "output_type": "stream",
          "name": "stdout",
          "text": [
            "CPU times: user 58.4 s, sys: 2.65 s, total: 1min 1s\n",
            "Wall time: 41.6 s\n"
          ]
        }
      ]
    },
    {
      "cell_type": "code",
      "source": [
        "#Evaluating model with pca accuracy\n",
        "print('PCA KNN Testing accuracy:', pca_knn_reg_pipe.score(X_test, y_test))"
      ],
      "metadata": {
        "colab": {
          "base_uri": "https://localhost:8080/"
        },
        "id": "9DLONZ1Boocz",
        "outputId": "a5eabfe4-5e09-401d-9fc1-483debe1b097"
      },
      "execution_count": 25,
      "outputs": [
        {
          "output_type": "stream",
          "name": "stdout",
          "text": [
            "PCA KNN Testing accuracy: 0.9477714285714286\n"
          ]
        }
      ]
    },
    {
      "cell_type": "code",
      "source": [
        "##Evaluating model without pca\n",
        "%%time\n",
        "preds_no_pca = no_pca_knn_reg_pipe.predict(X_test)"
      ],
      "metadata": {
        "id": "uRwUwcaEyIEw",
        "colab": {
          "base_uri": "https://localhost:8080/"
        },
        "outputId": "b3ed10a3-e4be-41f1-9252-a9ae01e0202b"
      },
      "execution_count": 26,
      "outputs": [
        {
          "output_type": "stream",
          "name": "stdout",
          "text": [
            "CPU times: user 1min 47s, sys: 1.52 s, total: 1min 48s\n",
            "Wall time: 1min 7s\n"
          ]
        }
      ]
    },
    {
      "cell_type": "code",
      "source": [
        "##Evaluating model with no pca accuracy\n",
        "print('No PCA KNN Testing accuracy:', no_pca_knn_reg_pipe.score(X_test, y_test))"
      ],
      "metadata": {
        "colab": {
          "base_uri": "https://localhost:8080/"
        },
        "id": "eqngM9A_oyQz",
        "outputId": "7c633ce9-57e8-4353-e2c2-e675e75c96dd"
      },
      "execution_count": 27,
      "outputs": [
        {
          "output_type": "stream",
          "name": "stdout",
          "text": [
            "No PCA KNN Testing accuracy: 0.9442285714285714\n"
          ]
        }
      ]
    },
    {
      "cell_type": "markdown",
      "source": [
        "##Conclusion:\n",
        "\n",
        "Definitely from both KNeighbors Classifier models, the model with the PCA ran faster in both CPU and Wall time. That model made the prediction in 42.4 seconds Wall time and 59.7 seconds CPU time. While the  KNeighbors Classifier model with no PCA, took 1 minute and 7 seconds Wall time and 1 minute 49 seconds CPU time to load. That is 24.6 seconds faster in Wall time and 50 seconds in CPU time. This is a big difference when considering that it had no hyper tuning or other manipulation of the data. In addition, both accuracies were similar. So not much benefit to the KNeighbors Classifier model without PCA.  "
      ],
      "metadata": {
        "id": "eeLxTpUlkdOT"
      }
    }
  ]
}