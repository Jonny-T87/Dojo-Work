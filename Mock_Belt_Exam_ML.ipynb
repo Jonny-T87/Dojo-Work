{
  "nbformat": 4,
  "nbformat_minor": 0,
  "metadata": {
    "colab": {
      "name": "Mock Belt Exam ML.ipynb",
      "provenance": [],
      "collapsed_sections": [],
      "mount_file_id": "1JfjcaeX8oEOLPd7dLbFQuOt0uNIGFBS6",
      "authorship_tag": "ABX9TyP9EvEjVay5JQctP4JZzQfn",
      "include_colab_link": true
    },
    "kernelspec": {
      "name": "python3",
      "display_name": "Python 3"
    },
    "language_info": {
      "name": "python"
    }
  },
  "cells": [
    {
      "cell_type": "markdown",
      "metadata": {
        "id": "view-in-github",
        "colab_type": "text"
      },
      "source": [
        "<a href=\"https://colab.research.google.com/github/Jonny-T87/Dojo-Work/blob/main/Mock_Belt_Exam_ML.ipynb\" target=\"_parent\"><img src=\"https://colab.research.google.com/assets/colab-badge.svg\" alt=\"Open In Colab\"/></a>"
      ]
    },
    {
      "cell_type": "markdown",
      "source": [
        "##Mock Belt Exam \n",
        "Machine Learning - Belt Exam Practice\n",
        "\n",
        "Jonny Tesfahun\n",
        "- 07/08/22\n"
      ],
      "metadata": {
        "id": "TBqL2AEGlO7X"
      }
    },
    {
      "cell_type": "code",
      "execution_count": 163,
      "metadata": {
        "id": "SBeZ0wKDlHGc"
      },
      "outputs": [],
      "source": [
        "import numpy as np\n",
        "import matplotlib.pyplot as plt\n",
        "import seaborn as sns\n",
        "import pandas as pd\n",
        "\n",
        "from sklearn.model_selection import train_test_split\n",
        "from sklearn.pipeline import make_pipeline\n",
        "from sklearn.impute import SimpleImputer\n",
        "from sklearn.preprocessing import StandardScaler, OneHotEncoder\n",
        "from sklearn.compose import make_column_selector, make_column_transformer\n",
        "\n",
        "from sklearn.ensemble import RandomForestRegressor\n",
        "from sklearn.linear_model import LinearRegression\n",
        "from sklearn.metrics import mean_squared_error, mean_absolute_error, r2_score\n",
        "\n",
        "from sklearn.model_selection import GridSearchCV\n",
        "from sklearn.metrics import roc_auc_score, RocCurveDisplay\n",
        "from sklearn import set_config\n",
        "set_config(display='diagram')"
      ]
    },
    {
      "cell_type": "code",
      "source": [
        "#Source from class lecture\n",
        "# Create a function to take the true and predicted labels and print MAE, MSE, RMSE, and R2 metrics\n",
        "def evaluate_regression(y_true, y_pred):\n",
        "  \"\"\"Takes true target and predicted target and prints MAE, MSE, RMSE and R2\"\"\"\n",
        "  \n",
        "  mae = mean_absolute_error(y_true, y_pred)\n",
        "  mse = mean_squared_error(y_true, y_pred)\n",
        "  rmse = np.sqrt(mse)\n",
        "  r2 = r2_score(y_true, y_pred)\n",
        "\n",
        "  print(f'scores: \\nMAE: {mae:,.2f} \\nMSE: {mse:,.2f} \\nRMSE: {rmse:,.2f} \\nR2: {r2:.2f}')"
      ],
      "metadata": {
        "id": "OHTALaeQOfoP"
      },
      "execution_count": 109,
      "outputs": []
    },
    {
      "cell_type": "code",
      "source": [
        "df = pd.read_csv('/content/drive/MyDrive/DojoBootCamp/Project Files/Fish - Fish.csv')\n",
        "df.head()"
      ],
      "metadata": {
        "colab": {
          "base_uri": "https://localhost:8080/",
          "height": 206
        },
        "id": "Lj7b4OrIm9tv",
        "outputId": "3d286d29-ac12-4bfc-ca64-b3c3c8466598"
      },
      "execution_count": 53,
      "outputs": [
        {
          "output_type": "execute_result",
          "data": {
            "text/plain": [
              "  Species  Weight  Length1  Length2  Length3   Height   Width\n",
              "0   Bream   242.0     23.2     25.4     30.0  11.5200  4.0200\n",
              "1   Bream   290.0     24.0     26.3     31.2  12.4800  4.3056\n",
              "2   Bream   340.0     23.9     26.5     31.1  12.3778  4.6961\n",
              "3   Bream   363.0     26.3     29.0     33.5  12.7300  4.4555\n",
              "4   Bream   430.0     26.5     29.0     34.0  12.4440  5.1340"
            ],
            "text/html": [
              "\n",
              "  <div id=\"df-92900329-2805-4e4a-b393-989678556fe4\">\n",
              "    <div class=\"colab-df-container\">\n",
              "      <div>\n",
              "<style scoped>\n",
              "    .dataframe tbody tr th:only-of-type {\n",
              "        vertical-align: middle;\n",
              "    }\n",
              "\n",
              "    .dataframe tbody tr th {\n",
              "        vertical-align: top;\n",
              "    }\n",
              "\n",
              "    .dataframe thead th {\n",
              "        text-align: right;\n",
              "    }\n",
              "</style>\n",
              "<table border=\"1\" class=\"dataframe\">\n",
              "  <thead>\n",
              "    <tr style=\"text-align: right;\">\n",
              "      <th></th>\n",
              "      <th>Species</th>\n",
              "      <th>Weight</th>\n",
              "      <th>Length1</th>\n",
              "      <th>Length2</th>\n",
              "      <th>Length3</th>\n",
              "      <th>Height</th>\n",
              "      <th>Width</th>\n",
              "    </tr>\n",
              "  </thead>\n",
              "  <tbody>\n",
              "    <tr>\n",
              "      <th>0</th>\n",
              "      <td>Bream</td>\n",
              "      <td>242.0</td>\n",
              "      <td>23.2</td>\n",
              "      <td>25.4</td>\n",
              "      <td>30.0</td>\n",
              "      <td>11.5200</td>\n",
              "      <td>4.0200</td>\n",
              "    </tr>\n",
              "    <tr>\n",
              "      <th>1</th>\n",
              "      <td>Bream</td>\n",
              "      <td>290.0</td>\n",
              "      <td>24.0</td>\n",
              "      <td>26.3</td>\n",
              "      <td>31.2</td>\n",
              "      <td>12.4800</td>\n",
              "      <td>4.3056</td>\n",
              "    </tr>\n",
              "    <tr>\n",
              "      <th>2</th>\n",
              "      <td>Bream</td>\n",
              "      <td>340.0</td>\n",
              "      <td>23.9</td>\n",
              "      <td>26.5</td>\n",
              "      <td>31.1</td>\n",
              "      <td>12.3778</td>\n",
              "      <td>4.6961</td>\n",
              "    </tr>\n",
              "    <tr>\n",
              "      <th>3</th>\n",
              "      <td>Bream</td>\n",
              "      <td>363.0</td>\n",
              "      <td>26.3</td>\n",
              "      <td>29.0</td>\n",
              "      <td>33.5</td>\n",
              "      <td>12.7300</td>\n",
              "      <td>4.4555</td>\n",
              "    </tr>\n",
              "    <tr>\n",
              "      <th>4</th>\n",
              "      <td>Bream</td>\n",
              "      <td>430.0</td>\n",
              "      <td>26.5</td>\n",
              "      <td>29.0</td>\n",
              "      <td>34.0</td>\n",
              "      <td>12.4440</td>\n",
              "      <td>5.1340</td>\n",
              "    </tr>\n",
              "  </tbody>\n",
              "</table>\n",
              "</div>\n",
              "      <button class=\"colab-df-convert\" onclick=\"convertToInteractive('df-92900329-2805-4e4a-b393-989678556fe4')\"\n",
              "              title=\"Convert this dataframe to an interactive table.\"\n",
              "              style=\"display:none;\">\n",
              "        \n",
              "  <svg xmlns=\"http://www.w3.org/2000/svg\" height=\"24px\"viewBox=\"0 0 24 24\"\n",
              "       width=\"24px\">\n",
              "    <path d=\"M0 0h24v24H0V0z\" fill=\"none\"/>\n",
              "    <path d=\"M18.56 5.44l.94 2.06.94-2.06 2.06-.94-2.06-.94-.94-2.06-.94 2.06-2.06.94zm-11 1L8.5 8.5l.94-2.06 2.06-.94-2.06-.94L8.5 2.5l-.94 2.06-2.06.94zm10 10l.94 2.06.94-2.06 2.06-.94-2.06-.94-.94-2.06-.94 2.06-2.06.94z\"/><path d=\"M17.41 7.96l-1.37-1.37c-.4-.4-.92-.59-1.43-.59-.52 0-1.04.2-1.43.59L10.3 9.45l-7.72 7.72c-.78.78-.78 2.05 0 2.83L4 21.41c.39.39.9.59 1.41.59.51 0 1.02-.2 1.41-.59l7.78-7.78 2.81-2.81c.8-.78.8-2.07 0-2.86zM5.41 20L4 18.59l7.72-7.72 1.47 1.35L5.41 20z\"/>\n",
              "  </svg>\n",
              "      </button>\n",
              "      \n",
              "  <style>\n",
              "    .colab-df-container {\n",
              "      display:flex;\n",
              "      flex-wrap:wrap;\n",
              "      gap: 12px;\n",
              "    }\n",
              "\n",
              "    .colab-df-convert {\n",
              "      background-color: #E8F0FE;\n",
              "      border: none;\n",
              "      border-radius: 50%;\n",
              "      cursor: pointer;\n",
              "      display: none;\n",
              "      fill: #1967D2;\n",
              "      height: 32px;\n",
              "      padding: 0 0 0 0;\n",
              "      width: 32px;\n",
              "    }\n",
              "\n",
              "    .colab-df-convert:hover {\n",
              "      background-color: #E2EBFA;\n",
              "      box-shadow: 0px 1px 2px rgba(60, 64, 67, 0.3), 0px 1px 3px 1px rgba(60, 64, 67, 0.15);\n",
              "      fill: #174EA6;\n",
              "    }\n",
              "\n",
              "    [theme=dark] .colab-df-convert {\n",
              "      background-color: #3B4455;\n",
              "      fill: #D2E3FC;\n",
              "    }\n",
              "\n",
              "    [theme=dark] .colab-df-convert:hover {\n",
              "      background-color: #434B5C;\n",
              "      box-shadow: 0px 1px 3px 1px rgba(0, 0, 0, 0.15);\n",
              "      filter: drop-shadow(0px 1px 2px rgba(0, 0, 0, 0.3));\n",
              "      fill: #FFFFFF;\n",
              "    }\n",
              "  </style>\n",
              "\n",
              "      <script>\n",
              "        const buttonEl =\n",
              "          document.querySelector('#df-92900329-2805-4e4a-b393-989678556fe4 button.colab-df-convert');\n",
              "        buttonEl.style.display =\n",
              "          google.colab.kernel.accessAllowed ? 'block' : 'none';\n",
              "\n",
              "        async function convertToInteractive(key) {\n",
              "          const element = document.querySelector('#df-92900329-2805-4e4a-b393-989678556fe4');\n",
              "          const dataTable =\n",
              "            await google.colab.kernel.invokeFunction('convertToInteractive',\n",
              "                                                     [key], {});\n",
              "          if (!dataTable) return;\n",
              "\n",
              "          const docLinkHtml = 'Like what you see? Visit the ' +\n",
              "            '<a target=\"_blank\" href=https://colab.research.google.com/notebooks/data_table.ipynb>data table notebook</a>'\n",
              "            + ' to learn more about interactive tables.';\n",
              "          element.innerHTML = '';\n",
              "          dataTable['output_type'] = 'display_data';\n",
              "          await google.colab.output.renderOutput(dataTable, element);\n",
              "          const docLink = document.createElement('div');\n",
              "          docLink.innerHTML = docLinkHtml;\n",
              "          element.appendChild(docLink);\n",
              "        }\n",
              "      </script>\n",
              "    </div>\n",
              "  </div>\n",
              "  "
            ]
          },
          "metadata": {},
          "execution_count": 53
        }
      ]
    },
    {
      "cell_type": "code",
      "source": [
        "df.info()"
      ],
      "metadata": {
        "colab": {
          "base_uri": "https://localhost:8080/"
        },
        "id": "jE3HfLefnY5b",
        "outputId": "5685e425-db44-48b6-c4de-657d94ac13cc"
      },
      "execution_count": 54,
      "outputs": [
        {
          "output_type": "stream",
          "name": "stdout",
          "text": [
            "<class 'pandas.core.frame.DataFrame'>\n",
            "RangeIndex: 159 entries, 0 to 158\n",
            "Data columns (total 7 columns):\n",
            " #   Column   Non-Null Count  Dtype  \n",
            "---  ------   --------------  -----  \n",
            " 0   Species  155 non-null    object \n",
            " 1   Weight   159 non-null    float64\n",
            " 2   Length1  157 non-null    float64\n",
            " 3   Length2  157 non-null    float64\n",
            " 4   Length3  150 non-null    float64\n",
            " 5   Height   156 non-null    float64\n",
            " 6   Width    157 non-null    float64\n",
            "dtypes: float64(6), object(1)\n",
            "memory usage: 8.8+ KB\n"
          ]
        }
      ]
    },
    {
      "cell_type": "code",
      "source": [
        "df.describe()"
      ],
      "metadata": {
        "colab": {
          "base_uri": "https://localhost:8080/",
          "height": 300
        },
        "id": "tVhcYCGLqFq-",
        "outputId": "c4a6aa5a-763f-4392-9eed-7c5b149b078d"
      },
      "execution_count": 55,
      "outputs": [
        {
          "output_type": "execute_result",
          "data": {
            "text/plain": [
              "            Weight     Length1     Length2     Length3      Height       Width\n",
              "count   159.000000  157.000000  157.000000  150.000000  156.000000  157.000000\n",
              "mean    398.326415   26.080255   28.168153   31.196000    8.907132    4.416820\n",
              "std     357.978317    9.939357   10.407117   11.071718    4.250476    1.695044\n",
              "min       0.000000    7.500000    8.400000   10.800000    1.728400    1.047600\n",
              "25%     120.000000   19.000000   21.000000   23.275000    5.949000    3.375600\n",
              "50%     273.000000   25.000000   27.000000   29.700000    7.733000    4.248500\n",
              "75%     650.000000   32.500000   35.000000   39.575000   12.038100    5.589000\n",
              "max    1650.000000   59.000000   60.000000   64.000000   18.957000    8.142000"
            ],
            "text/html": [
              "\n",
              "  <div id=\"df-3163ef34-a400-4039-9aa3-6edf186f1c52\">\n",
              "    <div class=\"colab-df-container\">\n",
              "      <div>\n",
              "<style scoped>\n",
              "    .dataframe tbody tr th:only-of-type {\n",
              "        vertical-align: middle;\n",
              "    }\n",
              "\n",
              "    .dataframe tbody tr th {\n",
              "        vertical-align: top;\n",
              "    }\n",
              "\n",
              "    .dataframe thead th {\n",
              "        text-align: right;\n",
              "    }\n",
              "</style>\n",
              "<table border=\"1\" class=\"dataframe\">\n",
              "  <thead>\n",
              "    <tr style=\"text-align: right;\">\n",
              "      <th></th>\n",
              "      <th>Weight</th>\n",
              "      <th>Length1</th>\n",
              "      <th>Length2</th>\n",
              "      <th>Length3</th>\n",
              "      <th>Height</th>\n",
              "      <th>Width</th>\n",
              "    </tr>\n",
              "  </thead>\n",
              "  <tbody>\n",
              "    <tr>\n",
              "      <th>count</th>\n",
              "      <td>159.000000</td>\n",
              "      <td>157.000000</td>\n",
              "      <td>157.000000</td>\n",
              "      <td>150.000000</td>\n",
              "      <td>156.000000</td>\n",
              "      <td>157.000000</td>\n",
              "    </tr>\n",
              "    <tr>\n",
              "      <th>mean</th>\n",
              "      <td>398.326415</td>\n",
              "      <td>26.080255</td>\n",
              "      <td>28.168153</td>\n",
              "      <td>31.196000</td>\n",
              "      <td>8.907132</td>\n",
              "      <td>4.416820</td>\n",
              "    </tr>\n",
              "    <tr>\n",
              "      <th>std</th>\n",
              "      <td>357.978317</td>\n",
              "      <td>9.939357</td>\n",
              "      <td>10.407117</td>\n",
              "      <td>11.071718</td>\n",
              "      <td>4.250476</td>\n",
              "      <td>1.695044</td>\n",
              "    </tr>\n",
              "    <tr>\n",
              "      <th>min</th>\n",
              "      <td>0.000000</td>\n",
              "      <td>7.500000</td>\n",
              "      <td>8.400000</td>\n",
              "      <td>10.800000</td>\n",
              "      <td>1.728400</td>\n",
              "      <td>1.047600</td>\n",
              "    </tr>\n",
              "    <tr>\n",
              "      <th>25%</th>\n",
              "      <td>120.000000</td>\n",
              "      <td>19.000000</td>\n",
              "      <td>21.000000</td>\n",
              "      <td>23.275000</td>\n",
              "      <td>5.949000</td>\n",
              "      <td>3.375600</td>\n",
              "    </tr>\n",
              "    <tr>\n",
              "      <th>50%</th>\n",
              "      <td>273.000000</td>\n",
              "      <td>25.000000</td>\n",
              "      <td>27.000000</td>\n",
              "      <td>29.700000</td>\n",
              "      <td>7.733000</td>\n",
              "      <td>4.248500</td>\n",
              "    </tr>\n",
              "    <tr>\n",
              "      <th>75%</th>\n",
              "      <td>650.000000</td>\n",
              "      <td>32.500000</td>\n",
              "      <td>35.000000</td>\n",
              "      <td>39.575000</td>\n",
              "      <td>12.038100</td>\n",
              "      <td>5.589000</td>\n",
              "    </tr>\n",
              "    <tr>\n",
              "      <th>max</th>\n",
              "      <td>1650.000000</td>\n",
              "      <td>59.000000</td>\n",
              "      <td>60.000000</td>\n",
              "      <td>64.000000</td>\n",
              "      <td>18.957000</td>\n",
              "      <td>8.142000</td>\n",
              "    </tr>\n",
              "  </tbody>\n",
              "</table>\n",
              "</div>\n",
              "      <button class=\"colab-df-convert\" onclick=\"convertToInteractive('df-3163ef34-a400-4039-9aa3-6edf186f1c52')\"\n",
              "              title=\"Convert this dataframe to an interactive table.\"\n",
              "              style=\"display:none;\">\n",
              "        \n",
              "  <svg xmlns=\"http://www.w3.org/2000/svg\" height=\"24px\"viewBox=\"0 0 24 24\"\n",
              "       width=\"24px\">\n",
              "    <path d=\"M0 0h24v24H0V0z\" fill=\"none\"/>\n",
              "    <path d=\"M18.56 5.44l.94 2.06.94-2.06 2.06-.94-2.06-.94-.94-2.06-.94 2.06-2.06.94zm-11 1L8.5 8.5l.94-2.06 2.06-.94-2.06-.94L8.5 2.5l-.94 2.06-2.06.94zm10 10l.94 2.06.94-2.06 2.06-.94-2.06-.94-.94-2.06-.94 2.06-2.06.94z\"/><path d=\"M17.41 7.96l-1.37-1.37c-.4-.4-.92-.59-1.43-.59-.52 0-1.04.2-1.43.59L10.3 9.45l-7.72 7.72c-.78.78-.78 2.05 0 2.83L4 21.41c.39.39.9.59 1.41.59.51 0 1.02-.2 1.41-.59l7.78-7.78 2.81-2.81c.8-.78.8-2.07 0-2.86zM5.41 20L4 18.59l7.72-7.72 1.47 1.35L5.41 20z\"/>\n",
              "  </svg>\n",
              "      </button>\n",
              "      \n",
              "  <style>\n",
              "    .colab-df-container {\n",
              "      display:flex;\n",
              "      flex-wrap:wrap;\n",
              "      gap: 12px;\n",
              "    }\n",
              "\n",
              "    .colab-df-convert {\n",
              "      background-color: #E8F0FE;\n",
              "      border: none;\n",
              "      border-radius: 50%;\n",
              "      cursor: pointer;\n",
              "      display: none;\n",
              "      fill: #1967D2;\n",
              "      height: 32px;\n",
              "      padding: 0 0 0 0;\n",
              "      width: 32px;\n",
              "    }\n",
              "\n",
              "    .colab-df-convert:hover {\n",
              "      background-color: #E2EBFA;\n",
              "      box-shadow: 0px 1px 2px rgba(60, 64, 67, 0.3), 0px 1px 3px 1px rgba(60, 64, 67, 0.15);\n",
              "      fill: #174EA6;\n",
              "    }\n",
              "\n",
              "    [theme=dark] .colab-df-convert {\n",
              "      background-color: #3B4455;\n",
              "      fill: #D2E3FC;\n",
              "    }\n",
              "\n",
              "    [theme=dark] .colab-df-convert:hover {\n",
              "      background-color: #434B5C;\n",
              "      box-shadow: 0px 1px 3px 1px rgba(0, 0, 0, 0.15);\n",
              "      filter: drop-shadow(0px 1px 2px rgba(0, 0, 0, 0.3));\n",
              "      fill: #FFFFFF;\n",
              "    }\n",
              "  </style>\n",
              "\n",
              "      <script>\n",
              "        const buttonEl =\n",
              "          document.querySelector('#df-3163ef34-a400-4039-9aa3-6edf186f1c52 button.colab-df-convert');\n",
              "        buttonEl.style.display =\n",
              "          google.colab.kernel.accessAllowed ? 'block' : 'none';\n",
              "\n",
              "        async function convertToInteractive(key) {\n",
              "          const element = document.querySelector('#df-3163ef34-a400-4039-9aa3-6edf186f1c52');\n",
              "          const dataTable =\n",
              "            await google.colab.kernel.invokeFunction('convertToInteractive',\n",
              "                                                     [key], {});\n",
              "          if (!dataTable) return;\n",
              "\n",
              "          const docLinkHtml = 'Like what you see? Visit the ' +\n",
              "            '<a target=\"_blank\" href=https://colab.research.google.com/notebooks/data_table.ipynb>data table notebook</a>'\n",
              "            + ' to learn more about interactive tables.';\n",
              "          element.innerHTML = '';\n",
              "          dataTable['output_type'] = 'display_data';\n",
              "          await google.colab.output.renderOutput(dataTable, element);\n",
              "          const docLink = document.createElement('div');\n",
              "          docLink.innerHTML = docLinkHtml;\n",
              "          element.appendChild(docLink);\n",
              "        }\n",
              "      </script>\n",
              "    </div>\n",
              "  </div>\n",
              "  "
            ]
          },
          "metadata": {},
          "execution_count": 55
        }
      ]
    },
    {
      "cell_type": "markdown",
      "source": [
        "##Prepare/clean the data for exploratory analysis purposes:\n",
        "\n",
        "- For this task, handle missing values by using an appropriate imputation strategy (instead of dropping rows).\n",
        "- Write a justification of your strategy for imputing missing values.\n",
        "- Make sure you avoid any data leakage when you impute values.\n",
        "- Ensure data types match the data types listed in the data dictionary  (if given).\n",
        "- Check for and address any inconsistent values in categorical columns.\n",
        "- Check for and address any impossible values in numeric columns."
      ],
      "metadata": {
        "id": "zYfoXWlynp13"
      }
    },
    {
      "cell_type": "code",
      "source": [
        "#Taking a look at duplicates vakues in dataset\n",
        "df.duplicated().sum()"
      ],
      "metadata": {
        "colab": {
          "base_uri": "https://localhost:8080/"
        },
        "id": "UfQfcpg4n5hp",
        "outputId": "b32b1afe-e454-40ab-f9e3-7f9b3bd3a8b0"
      },
      "execution_count": 56,
      "outputs": [
        {
          "output_type": "execute_result",
          "data": {
            "text/plain": [
              "0"
            ]
          },
          "metadata": {},
          "execution_count": 56
        }
      ]
    },
    {
      "cell_type": "code",
      "source": [
        "#Checking Species for Typos, none found\n",
        "df['Species'].value_counts()"
      ],
      "metadata": {
        "colab": {
          "base_uri": "https://localhost:8080/"
        },
        "id": "kWARvYR0x6lm",
        "outputId": "06e93258-e509-4728-c23a-58fc8d5bbd17"
      },
      "execution_count": 57,
      "outputs": [
        {
          "output_type": "execute_result",
          "data": {
            "text/plain": [
              "Perch        53\n",
              "Bream        33\n",
              "Roach        19\n",
              "Pike         17\n",
              "Smelt        14\n",
              "Parkki       11\n",
              "Whitefish     6\n",
              "Beam          2\n",
              "Name: Species, dtype: int64"
            ]
          },
          "metadata": {},
          "execution_count": 57
        }
      ]
    },
    {
      "cell_type": "code",
      "source": [
        "#May be an outlier\n",
        "df['Weight'].min()"
      ],
      "metadata": {
        "colab": {
          "base_uri": "https://localhost:8080/"
        },
        "id": "sphMJNX-y-pF",
        "outputId": "6f3193d9-5e95-47c2-ca23-225e3c3326fd"
      },
      "execution_count": 58,
      "outputs": [
        {
          "output_type": "execute_result",
          "data": {
            "text/plain": [
              "0.0"
            ]
          },
          "metadata": {},
          "execution_count": 58
        }
      ]
    },
    {
      "cell_type": "code",
      "source": [
        "#Checking column with outlier\n",
        "df.loc[df['Weight'] == 0.0 ]"
      ],
      "metadata": {
        "colab": {
          "base_uri": "https://localhost:8080/",
          "height": 81
        },
        "id": "DOf8a4hR78T5",
        "outputId": "f3f08ad6-6067-471e-e33b-9209603c10d9"
      },
      "execution_count": 63,
      "outputs": [
        {
          "output_type": "execute_result",
          "data": {
            "text/plain": [
              "   Species  Weight  Length1  Length2  Length3  Height   Width\n",
              "40   Roach     0.0     19.0     20.5     22.8  6.4752  3.3516"
            ],
            "text/html": [
              "\n",
              "  <div id=\"df-a4c51cc2-a23d-4835-a245-a8b8ec796177\">\n",
              "    <div class=\"colab-df-container\">\n",
              "      <div>\n",
              "<style scoped>\n",
              "    .dataframe tbody tr th:only-of-type {\n",
              "        vertical-align: middle;\n",
              "    }\n",
              "\n",
              "    .dataframe tbody tr th {\n",
              "        vertical-align: top;\n",
              "    }\n",
              "\n",
              "    .dataframe thead th {\n",
              "        text-align: right;\n",
              "    }\n",
              "</style>\n",
              "<table border=\"1\" class=\"dataframe\">\n",
              "  <thead>\n",
              "    <tr style=\"text-align: right;\">\n",
              "      <th></th>\n",
              "      <th>Species</th>\n",
              "      <th>Weight</th>\n",
              "      <th>Length1</th>\n",
              "      <th>Length2</th>\n",
              "      <th>Length3</th>\n",
              "      <th>Height</th>\n",
              "      <th>Width</th>\n",
              "    </tr>\n",
              "  </thead>\n",
              "  <tbody>\n",
              "    <tr>\n",
              "      <th>40</th>\n",
              "      <td>Roach</td>\n",
              "      <td>0.0</td>\n",
              "      <td>19.0</td>\n",
              "      <td>20.5</td>\n",
              "      <td>22.8</td>\n",
              "      <td>6.4752</td>\n",
              "      <td>3.3516</td>\n",
              "    </tr>\n",
              "  </tbody>\n",
              "</table>\n",
              "</div>\n",
              "      <button class=\"colab-df-convert\" onclick=\"convertToInteractive('df-a4c51cc2-a23d-4835-a245-a8b8ec796177')\"\n",
              "              title=\"Convert this dataframe to an interactive table.\"\n",
              "              style=\"display:none;\">\n",
              "        \n",
              "  <svg xmlns=\"http://www.w3.org/2000/svg\" height=\"24px\"viewBox=\"0 0 24 24\"\n",
              "       width=\"24px\">\n",
              "    <path d=\"M0 0h24v24H0V0z\" fill=\"none\"/>\n",
              "    <path d=\"M18.56 5.44l.94 2.06.94-2.06 2.06-.94-2.06-.94-.94-2.06-.94 2.06-2.06.94zm-11 1L8.5 8.5l.94-2.06 2.06-.94-2.06-.94L8.5 2.5l-.94 2.06-2.06.94zm10 10l.94 2.06.94-2.06 2.06-.94-2.06-.94-.94-2.06-.94 2.06-2.06.94z\"/><path d=\"M17.41 7.96l-1.37-1.37c-.4-.4-.92-.59-1.43-.59-.52 0-1.04.2-1.43.59L10.3 9.45l-7.72 7.72c-.78.78-.78 2.05 0 2.83L4 21.41c.39.39.9.59 1.41.59.51 0 1.02-.2 1.41-.59l7.78-7.78 2.81-2.81c.8-.78.8-2.07 0-2.86zM5.41 20L4 18.59l7.72-7.72 1.47 1.35L5.41 20z\"/>\n",
              "  </svg>\n",
              "      </button>\n",
              "      \n",
              "  <style>\n",
              "    .colab-df-container {\n",
              "      display:flex;\n",
              "      flex-wrap:wrap;\n",
              "      gap: 12px;\n",
              "    }\n",
              "\n",
              "    .colab-df-convert {\n",
              "      background-color: #E8F0FE;\n",
              "      border: none;\n",
              "      border-radius: 50%;\n",
              "      cursor: pointer;\n",
              "      display: none;\n",
              "      fill: #1967D2;\n",
              "      height: 32px;\n",
              "      padding: 0 0 0 0;\n",
              "      width: 32px;\n",
              "    }\n",
              "\n",
              "    .colab-df-convert:hover {\n",
              "      background-color: #E2EBFA;\n",
              "      box-shadow: 0px 1px 2px rgba(60, 64, 67, 0.3), 0px 1px 3px 1px rgba(60, 64, 67, 0.15);\n",
              "      fill: #174EA6;\n",
              "    }\n",
              "\n",
              "    [theme=dark] .colab-df-convert {\n",
              "      background-color: #3B4455;\n",
              "      fill: #D2E3FC;\n",
              "    }\n",
              "\n",
              "    [theme=dark] .colab-df-convert:hover {\n",
              "      background-color: #434B5C;\n",
              "      box-shadow: 0px 1px 3px 1px rgba(0, 0, 0, 0.15);\n",
              "      filter: drop-shadow(0px 1px 2px rgba(0, 0, 0, 0.3));\n",
              "      fill: #FFFFFF;\n",
              "    }\n",
              "  </style>\n",
              "\n",
              "      <script>\n",
              "        const buttonEl =\n",
              "          document.querySelector('#df-a4c51cc2-a23d-4835-a245-a8b8ec796177 button.colab-df-convert');\n",
              "        buttonEl.style.display =\n",
              "          google.colab.kernel.accessAllowed ? 'block' : 'none';\n",
              "\n",
              "        async function convertToInteractive(key) {\n",
              "          const element = document.querySelector('#df-a4c51cc2-a23d-4835-a245-a8b8ec796177');\n",
              "          const dataTable =\n",
              "            await google.colab.kernel.invokeFunction('convertToInteractive',\n",
              "                                                     [key], {});\n",
              "          if (!dataTable) return;\n",
              "\n",
              "          const docLinkHtml = 'Like what you see? Visit the ' +\n",
              "            '<a target=\"_blank\" href=https://colab.research.google.com/notebooks/data_table.ipynb>data table notebook</a>'\n",
              "            + ' to learn more about interactive tables.';\n",
              "          element.innerHTML = '';\n",
              "          dataTable['output_type'] = 'display_data';\n",
              "          await google.colab.output.renderOutput(dataTable, element);\n",
              "          const docLink = document.createElement('div');\n",
              "          docLink.innerHTML = docLinkHtml;\n",
              "          element.appendChild(docLink);\n",
              "        }\n",
              "      </script>\n",
              "    </div>\n",
              "  </div>\n",
              "  "
            ]
          },
          "metadata": {},
          "execution_count": 63
        }
      ]
    },
    {
      "cell_type": "code",
      "source": [
        "#droping column\n",
        "df = df.drop(index = 40)"
      ],
      "metadata": {
        "id": "GbgnjqX-8h1Z"
      },
      "execution_count": 64,
      "outputs": []
    },
    {
      "cell_type": "markdown",
      "source": [
        "##Explore the data \n",
        "- Create at least two different types of exploratory visualizations.\n",
        "- Write one to two sentences about what each visualization tells you about the data."
      ],
      "metadata": {
        "id": "7dw0x2l0-OOZ"
      }
    },
    {
      "cell_type": "code",
      "source": [
        "df.boxplot(column='Weight');"
      ],
      "metadata": {
        "colab": {
          "base_uri": "https://localhost:8080/",
          "height": 265
        },
        "id": "5yaFGtqx9pYj",
        "outputId": "c64597a0-a950-4f89-ae96-f981a8b87d57"
      },
      "execution_count": 72,
      "outputs": [
        {
          "output_type": "display_data",
          "data": {
            "text/plain": [
              "<Figure size 432x288 with 1 Axes>"
            ],
            "image/png": "[encoded data removed]"
          },
          "metadata": {
            "needs_background": "light"
          }
        }
      ]
    },
    {
      "cell_type": "markdown",
      "source": [
        "This boxplot shows any outliers, min., and avg. of column. The min. is around 0, the avg. is around 250, and outliers are over 1500. "
      ],
      "metadata": {
        "id": "lrEyeHZ9-hsJ"
      }
    },
    {
      "cell_type": "code",
      "source": [
        "df['Species'].hist()\n",
        "plt.xlabel('Species');"
      ],
      "metadata": {
        "colab": {
          "base_uri": "https://localhost:8080/",
          "height": 279
        },
        "id": "1H0flvfo-gWE",
        "outputId": "7acf8598-6e0d-403f-95e4-c87dcd013353"
      },
      "execution_count": 80,
      "outputs": [
        {
          "output_type": "display_data",
          "data": {
            "text/plain": [
              "<Figure size 432x288 with 1 Axes>"
            ],
            "image/png": "[encoded data removed]"
          },
          "metadata": {
            "needs_background": "light"
          }
        }
      ]
    },
    {
      "cell_type": "markdown",
      "source": [
        "This histogram shows the distribution of the Species in the dataset. As we can see, over 50 rows are Perch and the lowest amount of rows is Beam."
      ],
      "metadata": {
        "id": "CCSzbDYq_qdG"
      }
    },
    {
      "cell_type": "code",
      "source": [
        "#Looking at the correlation of the dataset columns\n",
        "corr = df.corr()\n",
        "sns.heatmap(corr, annot=True)"
      ],
      "metadata": {
        "colab": {
          "base_uri": "https://localhost:8080/",
          "height": 286
        },
        "id": "2qXfC7DhTGK5",
        "outputId": "3b2e8510-6939-47a2-d612-1ed93e38349b"
      },
      "execution_count": 124,
      "outputs": [
        {
          "output_type": "execute_result",
          "data": {
            "text/plain": [
              "<matplotlib.axes._subplots.AxesSubplot at 0x7ffaa2c6c750>"
            ]
          },
          "metadata": {},
          "execution_count": 124
        },
        {
          "output_type": "display_data",
          "data": {
            "text/plain": [
              "<Figure size 432x288 with 2 Axes>"
            ],
            "image/png": "[encoded data removed]"
          },
          "metadata": {
            "needs_background": "light"
          }
        }
      ]
    },
    {
      "cell_type": "markdown",
      "source": [
        "##Prepare the data appropriately for modeling \n",
        "\n",
        "- Implement a preprocessing pipeline to avoid data leakage.\n",
        "- Scale the data if your model requires it.\n",
        "- Write a justification for how you encode the variables (ordinal encoding vs one-hot encoding)."
      ],
      "metadata": {
        "id": "TB6NGZZGAO4Z"
      }
    },
    {
      "cell_type": "code",
      "source": [
        "#Validation Spliting target and features\n",
        "X = df.drop(columns='Weight')\n",
        "y = df['Weight']"
      ],
      "metadata": {
        "id": "Ym59_kudAU5g"
      },
      "execution_count": 82,
      "outputs": []
    },
    {
      "cell_type": "code",
      "source": [
        "# Also Train test split the data to prepare for machine learning.\n",
        "X_train, X_test, y_train, y_test = train_test_split(X, y, random_state=42)"
      ],
      "metadata": {
        "id": "MpV5VCaHCYkl"
      },
      "execution_count": 83,
      "outputs": []
    },
    {
      "cell_type": "code",
      "source": [
        "#Checking Train data\n",
        "X_train.head()"
      ],
      "metadata": {
        "colab": {
          "base_uri": "https://localhost:8080/",
          "height": 206
        },
        "id": "Hyuh1X3QCdeB",
        "outputId": "8c9be5ff-3569-4f27-ef57-5442d2e447c9"
      },
      "execution_count": 85,
      "outputs": [
        {
          "output_type": "execute_result",
          "data": {
            "text/plain": [
              "    Species  Length1  Length2  Length3  Height   Width\n",
              "26    Bream     32.0     35.0     40.6     NaN  6.0900\n",
              "137    Pike     42.0     45.0     48.0  6.9600  4.8960\n",
              "79    Perch     17.2     19.0      NaN  5.6358  3.0502\n",
              "150   Smelt     10.8     11.3     12.6  1.9782  1.2852\n",
              "36    Roach     16.5     18.2     20.3  5.2983  2.8217"
            ],
            "text/html": [
              "\n",
              "  <div id=\"df-a5ac0ade-3a66-4ad2-8a98-27bb77e3dfcb\">\n",
              "    <div class=\"colab-df-container\">\n",
              "      <div>\n",
              "<style scoped>\n",
              "    .dataframe tbody tr th:only-of-type {\n",
              "        vertical-align: middle;\n",
              "    }\n",
              "\n",
              "    .dataframe tbody tr th {\n",
              "        vertical-align: top;\n",
              "    }\n",
              "\n",
              "    .dataframe thead th {\n",
              "        text-align: right;\n",
              "    }\n",
              "</style>\n",
              "<table border=\"1\" class=\"dataframe\">\n",
              "  <thead>\n",
              "    <tr style=\"text-align: right;\">\n",
              "      <th></th>\n",
              "      <th>Species</th>\n",
              "      <th>Length1</th>\n",
              "      <th>Length2</th>\n",
              "      <th>Length3</th>\n",
              "      <th>Height</th>\n",
              "      <th>Width</th>\n",
              "    </tr>\n",
              "  </thead>\n",
              "  <tbody>\n",
              "    <tr>\n",
              "      <th>26</th>\n",
              "      <td>Bream</td>\n",
              "      <td>32.0</td>\n",
              "      <td>35.0</td>\n",
              "      <td>40.6</td>\n",
              "      <td>NaN</td>\n",
              "      <td>6.0900</td>\n",
              "    </tr>\n",
              "    <tr>\n",
              "      <th>137</th>\n",
              "      <td>Pike</td>\n",
              "      <td>42.0</td>\n",
              "      <td>45.0</td>\n",
              "      <td>48.0</td>\n",
              "      <td>6.9600</td>\n",
              "      <td>4.8960</td>\n",
              "    </tr>\n",
              "    <tr>\n",
              "      <th>79</th>\n",
              "      <td>Perch</td>\n",
              "      <td>17.2</td>\n",
              "      <td>19.0</td>\n",
              "      <td>NaN</td>\n",
              "      <td>5.6358</td>\n",
              "      <td>3.0502</td>\n",
              "    </tr>\n",
              "    <tr>\n",
              "      <th>150</th>\n",
              "      <td>Smelt</td>\n",
              "      <td>10.8</td>\n",
              "      <td>11.3</td>\n",
              "      <td>12.6</td>\n",
              "      <td>1.9782</td>\n",
              "      <td>1.2852</td>\n",
              "    </tr>\n",
              "    <tr>\n",
              "      <th>36</th>\n",
              "      <td>Roach</td>\n",
              "      <td>16.5</td>\n",
              "      <td>18.2</td>\n",
              "      <td>20.3</td>\n",
              "      <td>5.2983</td>\n",
              "      <td>2.8217</td>\n",
              "    </tr>\n",
              "  </tbody>\n",
              "</table>\n",
              "</div>\n",
              "      <button class=\"colab-df-convert\" onclick=\"convertToInteractive('df-a5ac0ade-3a66-4ad2-8a98-27bb77e3dfcb')\"\n",
              "              title=\"Convert this dataframe to an interactive table.\"\n",
              "              style=\"display:none;\">\n",
              "        \n",
              "  <svg xmlns=\"http://www.w3.org/2000/svg\" height=\"24px\"viewBox=\"0 0 24 24\"\n",
              "       width=\"24px\">\n",
              "    <path d=\"M0 0h24v24H0V0z\" fill=\"none\"/>\n",
              "    <path d=\"M18.56 5.44l.94 2.06.94-2.06 2.06-.94-2.06-.94-.94-2.06-.94 2.06-2.06.94zm-11 1L8.5 8.5l.94-2.06 2.06-.94-2.06-.94L8.5 2.5l-.94 2.06-2.06.94zm10 10l.94 2.06.94-2.06 2.06-.94-2.06-.94-.94-2.06-.94 2.06-2.06.94z\"/><path d=\"M17.41 7.96l-1.37-1.37c-.4-.4-.92-.59-1.43-.59-.52 0-1.04.2-1.43.59L10.3 9.45l-7.72 7.72c-.78.78-.78 2.05 0 2.83L4 21.41c.39.39.9.59 1.41.59.51 0 1.02-.2 1.41-.59l7.78-7.78 2.81-2.81c.8-.78.8-2.07 0-2.86zM5.41 20L4 18.59l7.72-7.72 1.47 1.35L5.41 20z\"/>\n",
              "  </svg>\n",
              "      </button>\n",
              "      \n",
              "  <style>\n",
              "    .colab-df-container {\n",
              "      display:flex;\n",
              "      flex-wrap:wrap;\n",
              "      gap: 12px;\n",
              "    }\n",
              "\n",
              "    .colab-df-convert {\n",
              "      background-color: #E8F0FE;\n",
              "      border: none;\n",
              "      border-radius: 50%;\n",
              "      cursor: pointer;\n",
              "      display: none;\n",
              "      fill: #1967D2;\n",
              "      height: 32px;\n",
              "      padding: 0 0 0 0;\n",
              "      width: 32px;\n",
              "    }\n",
              "\n",
              "    .colab-df-convert:hover {\n",
              "      background-color: #E2EBFA;\n",
              "      box-shadow: 0px 1px 2px rgba(60, 64, 67, 0.3), 0px 1px 3px 1px rgba(60, 64, 67, 0.15);\n",
              "      fill: #174EA6;\n",
              "    }\n",
              "\n",
              "    [theme=dark] .colab-df-convert {\n",
              "      background-color: #3B4455;\n",
              "      fill: #D2E3FC;\n",
              "    }\n",
              "\n",
              "    [theme=dark] .colab-df-convert:hover {\n",
              "      background-color: #434B5C;\n",
              "      box-shadow: 0px 1px 3px 1px rgba(0, 0, 0, 0.15);\n",
              "      filter: drop-shadow(0px 1px 2px rgba(0, 0, 0, 0.3));\n",
              "      fill: #FFFFFF;\n",
              "    }\n",
              "  </style>\n",
              "\n",
              "      <script>\n",
              "        const buttonEl =\n",
              "          document.querySelector('#df-a5ac0ade-3a66-4ad2-8a98-27bb77e3dfcb button.colab-df-convert');\n",
              "        buttonEl.style.display =\n",
              "          google.colab.kernel.accessAllowed ? 'block' : 'none';\n",
              "\n",
              "        async function convertToInteractive(key) {\n",
              "          const element = document.querySelector('#df-a5ac0ade-3a66-4ad2-8a98-27bb77e3dfcb');\n",
              "          const dataTable =\n",
              "            await google.colab.kernel.invokeFunction('convertToInteractive',\n",
              "                                                     [key], {});\n",
              "          if (!dataTable) return;\n",
              "\n",
              "          const docLinkHtml = 'Like what you see? Visit the ' +\n",
              "            '<a target=\"_blank\" href=https://colab.research.google.com/notebooks/data_table.ipynb>data table notebook</a>'\n",
              "            + ' to learn more about interactive tables.';\n",
              "          element.innerHTML = '';\n",
              "          dataTable['output_type'] = 'display_data';\n",
              "          await google.colab.output.renderOutput(dataTable, element);\n",
              "          const docLink = document.createElement('div');\n",
              "          docLink.innerHTML = docLinkHtml;\n",
              "          element.appendChild(docLink);\n",
              "        }\n",
              "      </script>\n",
              "    </div>\n",
              "  </div>\n",
              "  "
            ]
          },
          "metadata": {},
          "execution_count": 85
        }
      ]
    },
    {
      "cell_type": "code",
      "source": [
        "# instantiating a object and number column selector\n",
        "num_selector = make_column_selector(dtype_include='number')\n",
        "cat_selector = make_column_selector(dtype_include='object')"
      ],
      "metadata": {
        "id": "1pnxiwhPDIHN"
      },
      "execution_count": 86,
      "outputs": []
    },
    {
      "cell_type": "markdown",
      "source": [
        "I will be using OneHotEncoder (OHE) over Ordinal because the are too many diffrent types of Species. Also they are not in any specific order and there is no natural order."
      ],
      "metadata": {
        "id": "RNCjv3GjFKQW"
      }
    },
    {
      "cell_type": "code",
      "source": [
        "#instanting scaller and encoder, scaler for numeric columns and ohe for Species column\n",
        "scaler = StandardScaler()\n",
        "ohe = OneHotEncoder(sparse=False, handle_unknown='ignore')"
      ],
      "metadata": {
        "id": "ua2v03n2DkH3"
      },
      "execution_count": 89,
      "outputs": []
    },
    {
      "cell_type": "code",
      "source": [
        "#Using 'mean' strategy for number column and  ‘most_frequent’ strategy for categorical columns with SimpleImputer\n",
        "mean_imputer = SimpleImputer(strategy='mean')\n",
        "freq_imputer = SimpleImputer(strategy='most_frequent')"
      ],
      "metadata": {
        "id": "AgVaUs5tGevY"
      },
      "execution_count": 92,
      "outputs": []
    },
    {
      "cell_type": "code",
      "source": [
        "#Numer pipeline for pipeline\n",
        "number_pipe = make_pipeline(mean_imputer, scaler)\n",
        "number_pipe"
      ],
      "metadata": {
        "colab": {
          "base_uri": "https://localhost:8080/"
        },
        "id": "ratit8pYFFs8",
        "outputId": "4be5f9e0-0977-4468-8ba1-af0e533e5d3f"
      },
      "execution_count": 94,
      "outputs": [
        {
          "output_type": "execute_result",
          "data": {
            "text/plain": [
              "Pipeline(steps=[('simpleimputer', SimpleImputer()),\n",
              "                ('standardscaler', StandardScaler())])"
            ]
          },
          "metadata": {},
          "execution_count": 94
        }
      ]
    },
    {
      "cell_type": "code",
      "source": [
        "# Making Categorical pipeline for Objects\n",
        "categor_pipe = make_pipeline(freq_imputer, ohe)\n",
        "categor_pipe"
      ],
      "metadata": {
        "colab": {
          "base_uri": "https://localhost:8080/"
        },
        "id": "nqIE7NgQIcPf",
        "outputId": "caffa371-0c88-442e-d01e-9197a2b97835"
      },
      "execution_count": 95,
      "outputs": [
        {
          "output_type": "execute_result",
          "data": {
            "text/plain": [
              "Pipeline(steps=[('simpleimputer', SimpleImputer(strategy='most_frequent')),\n",
              "                ('onehotencoder',\n",
              "                 OneHotEncoder(handle_unknown='ignore', sparse=False))])"
            ]
          },
          "metadata": {},
          "execution_count": 95
        }
      ]
    },
    {
      "cell_type": "code",
      "source": [
        "# making tuples for object and number columns\n",
        "num_tuple = (number_pipe, num_selector)\n",
        "cat_tuple = (categor_pipe, cat_selector)"
      ],
      "metadata": {
        "id": "SNWZSIyQEt12"
      },
      "execution_count": 96,
      "outputs": []
    },
    {
      "cell_type": "code",
      "source": [
        "#Using column transformer to preprocesses the num_tuple and cat_tuple, and using diagram with set_config\n",
        "preprocessing = make_column_transformer(num_tuple, cat_tuple)\n",
        "preprocessing"
      ],
      "metadata": {
        "colab": {
          "base_uri": "https://localhost:8080/",
          "height": 154
        },
        "id": "8yR9GyVdI-4d",
        "outputId": "2b988def-cf9c-49eb-ba37-999cfc8cda86"
      },
      "execution_count": 100,
      "outputs": [
        {
          "output_type": "execute_result",
          "data": {
            "text/plain": [
              "ColumnTransformer(transformers=[('pipeline-1',\n",
              "                                 Pipeline(steps=[('simpleimputer',\n",
              "                                                  SimpleImputer()),\n",
              "                                                 ('standardscaler',\n",
              "                                                  StandardScaler())]),\n",
              "                                 <sklearn.compose._column_transformer.make_column_selector object at 0x7ffaa30b7e10>),\n",
              "                                ('pipeline-2',\n",
              "                                 Pipeline(steps=[('simpleimputer',\n",
              "                                                  SimpleImputer(strategy='most_frequent')),\n",
              "                                                 ('onehotencoder',\n",
              "                                                  OneHotEncoder(handle_unknown='ignore',\n",
              "                                                                sparse=False))]),\n",
              "                                 <sklearn.compose._column_transformer.make_column_selector object at 0x7ffaa32b1610>)])"
            ],
            "text/html": [
              "<style>#sk-0e8d270f-a5f6-4deb-ad13-4e2d076a707d {color: black;background-color: white;}#sk-0e8d270f-a5f6-4deb-ad13-4e2d076a707d pre{padding: 0;}#sk-0e8d270f-a5f6-4deb-ad13-4e2d076a707d div.sk-toggleable {background-color: white;}#sk-0e8d270f-a5f6-4deb-ad13-4e2d076a707d label.sk-toggleable__label {cursor: pointer;display: block;width: 100%;margin-bottom: 0;padding: 0.3em;box-sizing: border-box;text-align: center;}#sk-0e8d270f-a5f6-4deb-ad13-4e2d076a707d label.sk-toggleable__label-arrow:before {content: \"▸\";float: left;margin-right: 0.25em;color: #696969;}#sk-0e8d270f-a5f6-4deb-ad13-4e2d076a707d label.sk-toggleable__label-arrow:hover:before {color: black;}#sk-0e8d270f-a5f6-4deb-ad13-4e2d076a707d div.sk-estimator:hover label.sk-toggleable__label-arrow:before {color: black;}#sk-0e8d270f-a5f6-4deb-ad13-4e2d076a707d div.sk-toggleable__content {max-height: 0;max-width: 0;overflow: hidden;text-align: left;background-color: #f0f8ff;}#sk-0e8d270f-a5f6-4deb-ad13-4e2d076a707d div.sk-toggleable__content pre {margin: 0.2em;color: black;border-radius: 0.25em;background-color: #f0f8ff;}#sk-0e8d270f-a5f6-4deb-ad13-4e2d076a707d input.sk-toggleable__control:checked~div.sk-toggleable__content {max-height: 200px;max-width: 100%;overflow: auto;}#sk-0e8d270f-a5f6-4deb-ad13-4e2d076a707d input.sk-toggleable__control:checked~label.sk-toggleable__label-arrow:before {content: \"▾\";}#sk-0e8d270f-a5f6-4deb-ad13-4e2d076a707d div.sk-estimator input.sk-toggleable__control:checked~label.sk-toggleable__label {background-color: #d4ebff;}#sk-0e8d270f-a5f6-4deb-ad13-4e2d076a707d div.sk-label input.sk-toggleable__control:checked~label.sk-toggleable__label {background-color: #d4ebff;}#sk-0e8d270f-a5f6-4deb-ad13-4e2d076a707d input.sk-hidden--visually {border: 0;clip: rect(1px 1px 1px 1px);clip: rect(1px, 1px, 1px, 1px);height: 1px;margin: -1px;overflow: hidden;padding: 0;position: absolute;width: 1px;}#sk-0e8d270f-a5f6-4deb-ad13-4e2d076a707d div.sk-estimator {font-family: monospace;background-color: #f0f8ff;border: 1px dotted black;border-radius: 0.25em;box-sizing: border-box;margin-bottom: 0.5em;}#sk-0e8d270f-a5f6-4deb-ad13-4e2d076a707d div.sk-estimator:hover {background-color: #d4ebff;}#sk-0e8d270f-a5f6-4deb-ad13-4e2d076a707d div.sk-parallel-item::after {content: \"\";width: 100%;border-bottom: 1px solid gray;flex-grow: 1;}#sk-0e8d270f-a5f6-4deb-ad13-4e2d076a707d div.sk-label:hover label.sk-toggleable__label {background-color: #d4ebff;}#sk-0e8d270f-a5f6-4deb-ad13-4e2d076a707d div.sk-serial::before {content: \"\";position: absolute;border-left: 1px solid gray;box-sizing: border-box;top: 2em;bottom: 0;left: 50%;}#sk-0e8d270f-a5f6-4deb-ad13-4e2d076a707d div.sk-serial {display: flex;flex-direction: column;align-items: center;background-color: white;padding-right: 0.2em;padding-left: 0.2em;}#sk-0e8d270f-a5f6-4deb-ad13-4e2d076a707d div.sk-item {z-index: 1;}#sk-0e8d270f-a5f6-4deb-ad13-4e2d076a707d div.sk-parallel {display: flex;align-items: stretch;justify-content: center;background-color: white;}#sk-0e8d270f-a5f6-4deb-ad13-4e2d076a707d div.sk-parallel::before {content: \"\";position: absolute;border-left: 1px solid gray;box-sizing: border-box;top: 2em;bottom: 0;left: 50%;}#sk-0e8d270f-a5f6-4deb-ad13-4e2d076a707d div.sk-parallel-item {display: flex;flex-direction: column;position: relative;background-color: white;}#sk-0e8d270f-a5f6-4deb-ad13-4e2d076a707d div.sk-parallel-item:first-child::after {align-self: flex-end;width: 50%;}#sk-0e8d270f-a5f6-4deb-ad13-4e2d076a707d div.sk-parallel-item:last-child::after {align-self: flex-start;width: 50%;}#sk-0e8d270f-a5f6-4deb-ad13-4e2d076a707d div.sk-parallel-item:only-child::after {width: 0;}#sk-0e8d270f-a5f6-4deb-ad13-4e2d076a707d div.sk-dashed-wrapped {border: 1px dashed gray;margin: 0 0.4em 0.5em 0.4em;box-sizing: border-box;padding-bottom: 0.4em;background-color: white;position: relative;}#sk-0e8d270f-a5f6-4deb-ad13-4e2d076a707d div.sk-label label {font-family: monospace;font-weight: bold;background-color: white;display: inline-block;line-height: 1.2em;}#sk-0e8d270f-a5f6-4deb-ad13-4e2d076a707d div.sk-label-container {position: relative;z-index: 2;text-align: center;}#sk-0e8d270f-a5f6-4deb-ad13-4e2d076a707d div.sk-container {/* jupyter's `normalize.less` sets `[hidden] { display: none; }` but bootstrap.min.css set `[hidden] { display: none !important; }` so we also need the `!important` here to be able to override the default hidden behavior on the sphinx rendered scikit-learn.org. See: https://github.com/scikit-learn/scikit-learn/issues/21755 */display: inline-block !important;position: relative;}#sk-0e8d270f-a5f6-4deb-ad13-4e2d076a707d div.sk-text-repr-fallback {display: none;}</style><div id=\"sk-0e8d270f-a5f6-4deb-ad13-4e2d076a707d\" class=\"sk-top-container\"><div class=\"sk-text-repr-fallback\"><pre>ColumnTransformer(transformers=[(&#x27;pipeline-1&#x27;,\n",
              "                                 Pipeline(steps=[(&#x27;simpleimputer&#x27;,\n",
              "                                                  SimpleImputer()),\n",
              "                                                 (&#x27;standardscaler&#x27;,\n",
              "                                                  StandardScaler())]),\n",
              "                                 &lt;sklearn.compose._column_transformer.make_column_selector object at 0x7ffaa30b7e10&gt;),\n",
              "                                (&#x27;pipeline-2&#x27;,\n",
              "                                 Pipeline(steps=[(&#x27;simpleimputer&#x27;,\n",
              "                                                  SimpleImputer(strategy=&#x27;most_frequent&#x27;)),\n",
              "                                                 (&#x27;onehotencoder&#x27;,\n",
              "                                                  OneHotEncoder(handle_unknown=&#x27;ignore&#x27;,\n",
              "                                                                sparse=False))]),\n",
              "                                 &lt;sklearn.compose._column_transformer.make_column_selector object at 0x7ffaa32b1610&gt;)])</pre><b>Please rerun this cell to show the HTML repr or trust the notebook.</b></div><div class=\"sk-container\" hidden><div class=\"sk-item sk-dashed-wrapped\"><div class=\"sk-label-container\"><div class=\"sk-label sk-toggleable\"><input class=\"sk-toggleable__control sk-hidden--visually\" id=\"176f6174-b936-45d2-bb9b-3b6069162ec2\" type=\"checkbox\" ><label for=\"176f6174-b936-45d2-bb9b-3b6069162ec2\" class=\"sk-toggleable__label sk-toggleable__label-arrow\">ColumnTransformer</label><div class=\"sk-toggleable__content\"><pre>ColumnTransformer(transformers=[(&#x27;pipeline-1&#x27;,\n",
              "                                 Pipeline(steps=[(&#x27;simpleimputer&#x27;,\n",
              "                                                  SimpleImputer()),\n",
              "                                                 (&#x27;standardscaler&#x27;,\n",
              "                                                  StandardScaler())]),\n",
              "                                 &lt;sklearn.compose._column_transformer.make_column_selector object at 0x7ffaa30b7e10&gt;),\n",
              "                                (&#x27;pipeline-2&#x27;,\n",
              "                                 Pipeline(steps=[(&#x27;simpleimputer&#x27;,\n",
              "                                                  SimpleImputer(strategy=&#x27;most_frequent&#x27;)),\n",
              "                                                 (&#x27;onehotencoder&#x27;,\n",
              "                                                  OneHotEncoder(handle_unknown=&#x27;ignore&#x27;,\n",
              "                                                                sparse=False))]),\n",
              "                                 &lt;sklearn.compose._column_transformer.make_column_selector object at 0x7ffaa32b1610&gt;)])</pre></div></div></div><div class=\"sk-parallel\"><div class=\"sk-parallel-item\"><div class=\"sk-item\"><div class=\"sk-label-container\"><div class=\"sk-label sk-toggleable\"><input class=\"sk-toggleable__control sk-hidden--visually\" id=\"a73c17d2-eb2d-42b5-8abb-9aa1b9c1ff82\" type=\"checkbox\" ><label for=\"a73c17d2-eb2d-42b5-8abb-9aa1b9c1ff82\" class=\"sk-toggleable__label sk-toggleable__label-arrow\">pipeline-1</label><div class=\"sk-toggleable__content\"><pre>&lt;sklearn.compose._column_transformer.make_column_selector object at 0x7ffaa30b7e10&gt;</pre></div></div></div><div class=\"sk-serial\"><div class=\"sk-item\"><div class=\"sk-serial\"><div class=\"sk-item\"><div class=\"sk-estimator sk-toggleable\"><input class=\"sk-toggleable__control sk-hidden--visually\" id=\"e9a9eb00-26ad-482b-8a14-defd0862f6e8\" type=\"checkbox\" ><label for=\"e9a9eb00-26ad-482b-8a14-defd0862f6e8\" class=\"sk-toggleable__label sk-toggleable__label-arrow\">SimpleImputer</label><div class=\"sk-toggleable__content\"><pre>SimpleImputer()</pre></div></div></div><div class=\"sk-item\"><div class=\"sk-estimator sk-toggleable\"><input class=\"sk-toggleable__control sk-hidden--visually\" id=\"959120eb-3f86-422f-9acf-adb4bca0c284\" type=\"checkbox\" ><label for=\"959120eb-3f86-422f-9acf-adb4bca0c284\" class=\"sk-toggleable__label sk-toggleable__label-arrow\">StandardScaler</label><div class=\"sk-toggleable__content\"><pre>StandardScaler()</pre></div></div></div></div></div></div></div></div><div class=\"sk-parallel-item\"><div class=\"sk-item\"><div class=\"sk-label-container\"><div class=\"sk-label sk-toggleable\"><input class=\"sk-toggleable__control sk-hidden--visually\" id=\"cd85d12f-1cf5-4ebc-b004-0d0bf8a14b5d\" type=\"checkbox\" ><label for=\"cd85d12f-1cf5-4ebc-b004-0d0bf8a14b5d\" class=\"sk-toggleable__label sk-toggleable__label-arrow\">pipeline-2</label><div class=\"sk-toggleable__content\"><pre>&lt;sklearn.compose._column_transformer.make_column_selector object at 0x7ffaa32b1610&gt;</pre></div></div></div><div class=\"sk-serial\"><div class=\"sk-item\"><div class=\"sk-serial\"><div class=\"sk-item\"><div class=\"sk-estimator sk-toggleable\"><input class=\"sk-toggleable__control sk-hidden--visually\" id=\"741b0c7e-9ecc-4213-af92-503ffcfcf439\" type=\"checkbox\" ><label for=\"741b0c7e-9ecc-4213-af92-503ffcfcf439\" class=\"sk-toggleable__label sk-toggleable__label-arrow\">SimpleImputer</label><div class=\"sk-toggleable__content\"><pre>SimpleImputer(strategy=&#x27;most_frequent&#x27;)</pre></div></div></div><div class=\"sk-item\"><div class=\"sk-estimator sk-toggleable\"><input class=\"sk-toggleable__control sk-hidden--visually\" id=\"a012d557-eedd-4c98-a7ba-c868c7e6aba7\" type=\"checkbox\" ><label for=\"a012d557-eedd-4c98-a7ba-c868c7e6aba7\" class=\"sk-toggleable__label sk-toggleable__label-arrow\">OneHotEncoder</label><div class=\"sk-toggleable__content\"><pre>OneHotEncoder(handle_unknown=&#x27;ignore&#x27;, sparse=False)</pre></div></div></div></div></div></div></div></div></div></div></div></div>"
            ]
          },
          "metadata": {},
          "execution_count": 100
        }
      ]
    },
    {
      "cell_type": "code",
      "source": [
        "#fitting column transformer with training data\n",
        "preprocessing.fit(X_train)"
      ],
      "metadata": {
        "colab": {
          "base_uri": "https://localhost:8080/",
          "height": 154
        },
        "id": "dK3013dzKMd1",
        "outputId": "0de01ae9-7a45-4c0c-c2e6-95398c9a4c51"
      },
      "execution_count": 101,
      "outputs": [
        {
          "output_type": "execute_result",
          "data": {
            "text/plain": [
              "ColumnTransformer(transformers=[('pipeline-1',\n",
              "                                 Pipeline(steps=[('simpleimputer',\n",
              "                                                  SimpleImputer()),\n",
              "                                                 ('standardscaler',\n",
              "                                                  StandardScaler())]),\n",
              "                                 <sklearn.compose._column_transformer.make_column_selector object at 0x7ffaa30b7e10>),\n",
              "                                ('pipeline-2',\n",
              "                                 Pipeline(steps=[('simpleimputer',\n",
              "                                                  SimpleImputer(strategy='most_frequent')),\n",
              "                                                 ('onehotencoder',\n",
              "                                                  OneHotEncoder(handle_unknown='ignore',\n",
              "                                                                sparse=False))]),\n",
              "                                 <sklearn.compose._column_transformer.make_column_selector object at 0x7ffaa32b1610>)])"
            ],
            "text/html": [
              "<style>#sk-308bf33f-5a5d-43d4-90f4-83aa411f3e58 {color: black;background-color: white;}#sk-308bf33f-5a5d-43d4-90f4-83aa411f3e58 pre{padding: 0;}#sk-308bf33f-5a5d-43d4-90f4-83aa411f3e58 div.sk-toggleable {background-color: white;}#sk-308bf33f-5a5d-43d4-90f4-83aa411f3e58 label.sk-toggleable__label {cursor: pointer;display: block;width: 100%;margin-bottom: 0;padding: 0.3em;box-sizing: border-box;text-align: center;}#sk-308bf33f-5a5d-43d4-90f4-83aa411f3e58 label.sk-toggleable__label-arrow:before {content: \"▸\";float: left;margin-right: 0.25em;color: #696969;}#sk-308bf33f-5a5d-43d4-90f4-83aa411f3e58 label.sk-toggleable__label-arrow:hover:before {color: black;}#sk-308bf33f-5a5d-43d4-90f4-83aa411f3e58 div.sk-estimator:hover label.sk-toggleable__label-arrow:before {color: black;}#sk-308bf33f-5a5d-43d4-90f4-83aa411f3e58 div.sk-toggleable__content {max-height: 0;max-width: 0;overflow: hidden;text-align: left;background-color: #f0f8ff;}#sk-308bf33f-5a5d-43d4-90f4-83aa411f3e58 div.sk-toggleable__content pre {margin: 0.2em;color: black;border-radius: 0.25em;background-color: #f0f8ff;}#sk-308bf33f-5a5d-43d4-90f4-83aa411f3e58 input.sk-toggleable__control:checked~div.sk-toggleable__content {max-height: 200px;max-width: 100%;overflow: auto;}#sk-308bf33f-5a5d-43d4-90f4-83aa411f3e58 input.sk-toggleable__control:checked~label.sk-toggleable__label-arrow:before {content: \"▾\";}#sk-308bf33f-5a5d-43d4-90f4-83aa411f3e58 div.sk-estimator input.sk-toggleable__control:checked~label.sk-toggleable__label {background-color: #d4ebff;}#sk-308bf33f-5a5d-43d4-90f4-83aa411f3e58 div.sk-label input.sk-toggleable__control:checked~label.sk-toggleable__label {background-color: #d4ebff;}#sk-308bf33f-5a5d-43d4-90f4-83aa411f3e58 input.sk-hidden--visually {border: 0;clip: rect(1px 1px 1px 1px);clip: rect(1px, 1px, 1px, 1px);height: 1px;margin: -1px;overflow: hidden;padding: 0;position: absolute;width: 1px;}#sk-308bf33f-5a5d-43d4-90f4-83aa411f3e58 div.sk-estimator {font-family: monospace;background-color: #f0f8ff;border: 1px dotted black;border-radius: 0.25em;box-sizing: border-box;margin-bottom: 0.5em;}#sk-308bf33f-5a5d-43d4-90f4-83aa411f3e58 div.sk-estimator:hover {background-color: #d4ebff;}#sk-308bf33f-5a5d-43d4-90f4-83aa411f3e58 div.sk-parallel-item::after {content: \"\";width: 100%;border-bottom: 1px solid gray;flex-grow: 1;}#sk-308bf33f-5a5d-43d4-90f4-83aa411f3e58 div.sk-label:hover label.sk-toggleable__label {background-color: #d4ebff;}#sk-308bf33f-5a5d-43d4-90f4-83aa411f3e58 div.sk-serial::before {content: \"\";position: absolute;border-left: 1px solid gray;box-sizing: border-box;top: 2em;bottom: 0;left: 50%;}#sk-308bf33f-5a5d-43d4-90f4-83aa411f3e58 div.sk-serial {display: flex;flex-direction: column;align-items: center;background-color: white;padding-right: 0.2em;padding-left: 0.2em;}#sk-308bf33f-5a5d-43d4-90f4-83aa411f3e58 div.sk-item {z-index: 1;}#sk-308bf33f-5a5d-43d4-90f4-83aa411f3e58 div.sk-parallel {display: flex;align-items: stretch;justify-content: center;background-color: white;}#sk-308bf33f-5a5d-43d4-90f4-83aa411f3e58 div.sk-parallel::before {content: \"\";position: absolute;border-left: 1px solid gray;box-sizing: border-box;top: 2em;bottom: 0;left: 50%;}#sk-308bf33f-5a5d-43d4-90f4-83aa411f3e58 div.sk-parallel-item {display: flex;flex-direction: column;position: relative;background-color: white;}#sk-308bf33f-5a5d-43d4-90f4-83aa411f3e58 div.sk-parallel-item:first-child::after {align-self: flex-end;width: 50%;}#sk-308bf33f-5a5d-43d4-90f4-83aa411f3e58 div.sk-parallel-item:last-child::after {align-self: flex-start;width: 50%;}#sk-308bf33f-5a5d-43d4-90f4-83aa411f3e58 div.sk-parallel-item:only-child::after {width: 0;}#sk-308bf33f-5a5d-43d4-90f4-83aa411f3e58 div.sk-dashed-wrapped {border: 1px dashed gray;margin: 0 0.4em 0.5em 0.4em;box-sizing: border-box;padding-bottom: 0.4em;background-color: white;position: relative;}#sk-308bf33f-5a5d-43d4-90f4-83aa411f3e58 div.sk-label label {font-family: monospace;font-weight: bold;background-color: white;display: inline-block;line-height: 1.2em;}#sk-308bf33f-5a5d-43d4-90f4-83aa411f3e58 div.sk-label-container {position: relative;z-index: 2;text-align: center;}#sk-308bf33f-5a5d-43d4-90f4-83aa411f3e58 div.sk-container {/* jupyter's `normalize.less` sets `[hidden] { display: none; }` but bootstrap.min.css set `[hidden] { display: none !important; }` so we also need the `!important` here to be able to override the default hidden behavior on the sphinx rendered scikit-learn.org. See: https://github.com/scikit-learn/scikit-learn/issues/21755 */display: inline-block !important;position: relative;}#sk-308bf33f-5a5d-43d4-90f4-83aa411f3e58 div.sk-text-repr-fallback {display: none;}</style><div id=\"sk-308bf33f-5a5d-43d4-90f4-83aa411f3e58\" class=\"sk-top-container\"><div class=\"sk-text-repr-fallback\"><pre>ColumnTransformer(transformers=[(&#x27;pipeline-1&#x27;,\n",
              "                                 Pipeline(steps=[(&#x27;simpleimputer&#x27;,\n",
              "                                                  SimpleImputer()),\n",
              "                                                 (&#x27;standardscaler&#x27;,\n",
              "                                                  StandardScaler())]),\n",
              "                                 &lt;sklearn.compose._column_transformer.make_column_selector object at 0x7ffaa30b7e10&gt;),\n",
              "                                (&#x27;pipeline-2&#x27;,\n",
              "                                 Pipeline(steps=[(&#x27;simpleimputer&#x27;,\n",
              "                                                  SimpleImputer(strategy=&#x27;most_frequent&#x27;)),\n",
              "                                                 (&#x27;onehotencoder&#x27;,\n",
              "                                                  OneHotEncoder(handle_unknown=&#x27;ignore&#x27;,\n",
              "                                                                sparse=False))]),\n",
              "                                 &lt;sklearn.compose._column_transformer.make_column_selector object at 0x7ffaa32b1610&gt;)])</pre><b>Please rerun this cell to show the HTML repr or trust the notebook.</b></div><div class=\"sk-container\" hidden><div class=\"sk-item sk-dashed-wrapped\"><div class=\"sk-label-container\"><div class=\"sk-label sk-toggleable\"><input class=\"sk-toggleable__control sk-hidden--visually\" id=\"850a02fb-662d-49b1-8d17-eae90d0c384d\" type=\"checkbox\" ><label for=\"850a02fb-662d-49b1-8d17-eae90d0c384d\" class=\"sk-toggleable__label sk-toggleable__label-arrow\">ColumnTransformer</label><div class=\"sk-toggleable__content\"><pre>ColumnTransformer(transformers=[(&#x27;pipeline-1&#x27;,\n",
              "                                 Pipeline(steps=[(&#x27;simpleimputer&#x27;,\n",
              "                                                  SimpleImputer()),\n",
              "                                                 (&#x27;standardscaler&#x27;,\n",
              "                                                  StandardScaler())]),\n",
              "                                 &lt;sklearn.compose._column_transformer.make_column_selector object at 0x7ffaa30b7e10&gt;),\n",
              "                                (&#x27;pipeline-2&#x27;,\n",
              "                                 Pipeline(steps=[(&#x27;simpleimputer&#x27;,\n",
              "                                                  SimpleImputer(strategy=&#x27;most_frequent&#x27;)),\n",
              "                                                 (&#x27;onehotencoder&#x27;,\n",
              "                                                  OneHotEncoder(handle_unknown=&#x27;ignore&#x27;,\n",
              "                                                                sparse=False))]),\n",
              "                                 &lt;sklearn.compose._column_transformer.make_column_selector object at 0x7ffaa32b1610&gt;)])</pre></div></div></div><div class=\"sk-parallel\"><div class=\"sk-parallel-item\"><div class=\"sk-item\"><div class=\"sk-label-container\"><div class=\"sk-label sk-toggleable\"><input class=\"sk-toggleable__control sk-hidden--visually\" id=\"a2bdc6ad-cad2-4935-9775-aeadfd69ed51\" type=\"checkbox\" ><label for=\"a2bdc6ad-cad2-4935-9775-aeadfd69ed51\" class=\"sk-toggleable__label sk-toggleable__label-arrow\">pipeline-1</label><div class=\"sk-toggleable__content\"><pre>&lt;sklearn.compose._column_transformer.make_column_selector object at 0x7ffaa30b7e10&gt;</pre></div></div></div><div class=\"sk-serial\"><div class=\"sk-item\"><div class=\"sk-serial\"><div class=\"sk-item\"><div class=\"sk-estimator sk-toggleable\"><input class=\"sk-toggleable__control sk-hidden--visually\" id=\"ee50dc0c-7f43-44c1-b342-81d5dc6724f9\" type=\"checkbox\" ><label for=\"ee50dc0c-7f43-44c1-b342-81d5dc6724f9\" class=\"sk-toggleable__label sk-toggleable__label-arrow\">SimpleImputer</label><div class=\"sk-toggleable__content\"><pre>SimpleImputer()</pre></div></div></div><div class=\"sk-item\"><div class=\"sk-estimator sk-toggleable\"><input class=\"sk-toggleable__control sk-hidden--visually\" id=\"bc312187-90bd-4a95-915e-e49f225fd56d\" type=\"checkbox\" ><label for=\"bc312187-90bd-4a95-915e-e49f225fd56d\" class=\"sk-toggleable__label sk-toggleable__label-arrow\">StandardScaler</label><div class=\"sk-toggleable__content\"><pre>StandardScaler()</pre></div></div></div></div></div></div></div></div><div class=\"sk-parallel-item\"><div class=\"sk-item\"><div class=\"sk-label-container\"><div class=\"sk-label sk-toggleable\"><input class=\"sk-toggleable__control sk-hidden--visually\" id=\"22669ab4-1689-485a-9c93-c7a5ed374c61\" type=\"checkbox\" ><label for=\"22669ab4-1689-485a-9c93-c7a5ed374c61\" class=\"sk-toggleable__label sk-toggleable__label-arrow\">pipeline-2</label><div class=\"sk-toggleable__content\"><pre>&lt;sklearn.compose._column_transformer.make_column_selector object at 0x7ffaa32b1610&gt;</pre></div></div></div><div class=\"sk-serial\"><div class=\"sk-item\"><div class=\"sk-serial\"><div class=\"sk-item\"><div class=\"sk-estimator sk-toggleable\"><input class=\"sk-toggleable__control sk-hidden--visually\" id=\"0554f697-107d-4b46-8541-16aa672d11a9\" type=\"checkbox\" ><label for=\"0554f697-107d-4b46-8541-16aa672d11a9\" class=\"sk-toggleable__label sk-toggleable__label-arrow\">SimpleImputer</label><div class=\"sk-toggleable__content\"><pre>SimpleImputer(strategy=&#x27;most_frequent&#x27;)</pre></div></div></div><div class=\"sk-item\"><div class=\"sk-estimator sk-toggleable\"><input class=\"sk-toggleable__control sk-hidden--visually\" id=\"ba43aaa6-f69a-4553-a225-2dbf1ec3d458\" type=\"checkbox\" ><label for=\"ba43aaa6-f69a-4553-a225-2dbf1ec3d458\" class=\"sk-toggleable__label sk-toggleable__label-arrow\">OneHotEncoder</label><div class=\"sk-toggleable__content\"><pre>OneHotEncoder(handle_unknown=&#x27;ignore&#x27;, sparse=False)</pre></div></div></div></div></div></div></div></div></div></div></div></div>"
            ]
          },
          "metadata": {},
          "execution_count": 101
        }
      ]
    },
    {
      "cell_type": "code",
      "source": [
        "##Using ColumnTransformer to transform both the training and testing datasets.\n",
        "X_train_processed = preprocessing.transform(X_train)\n",
        "X_test_processed = preprocessing.transform(X_test)"
      ],
      "metadata": {
        "id": "lSt4m93nKySA"
      },
      "execution_count": 103,
      "outputs": []
    },
    {
      "cell_type": "code",
      "source": [
        "#Checking if done correctly. Looks good. \n",
        "X_train_processed"
      ],
      "metadata": {
        "colab": {
          "base_uri": "https://localhost:8080/"
        },
        "id": "tObOES3JLTJf",
        "outputId": "fef6e5a2-4a5e-430e-f371-bcda045a1667"
      },
      "execution_count": 105,
      "outputs": [
        {
          "output_type": "execute_result",
          "data": {
            "text/plain": [
              "array([[ 0.61855985,  0.71556973,  0.92076781, ...,  0.        ,\n",
              "         0.        ,  0.        ],\n",
              "       [ 1.63888273,  1.71383898,  1.63465008, ...,  0.        ,\n",
              "         0.        ,  0.        ],\n",
              "       [-0.89151802, -0.88166107,  0.        , ...,  0.        ,\n",
              "         0.        ,  0.        ],\n",
              "       ...,\n",
              "       [ 0.3532759 ,  0.41608895,  0.59276785, ...,  0.        ,\n",
              "         0.        ,  0.        ],\n",
              "       [-0.53440501, -0.51230145, -0.66134966, ...,  0.        ,\n",
              "         0.        ,  0.        ],\n",
              "       [-0.05485326, -0.03313221, -0.20793794, ...,  0.        ,\n",
              "         0.        ,  0.        ]])"
            ]
          },
          "metadata": {},
          "execution_count": 105
        }
      ]
    },
    {
      "cell_type": "code",
      "source": [
        "#Source from class lecture in codealong\n",
        "#Printing data for easy viewing and validation\n",
        "print(np.isnan(X_train_processed).sum().sum(), 'missing values in training data')\n",
        "print(np.isnan(X_test_processed).sum().sum(), 'missing values in testing data')\n",
        "print('\\n')\n",
        "print('All data in X_train_processed are', X_train_processed.dtype)\n",
        "print('All data in X_test_processed are', X_test_processed.dtype)\n",
        "print('\\n')\n",
        "print('shape of data is', X_train_processed.shape)\n",
        "print('\\n')"
      ],
      "metadata": {
        "colab": {
          "base_uri": "https://localhost:8080/"
        },
        "id": "LKNBGVg8LpoK",
        "outputId": "e958ef7f-182f-4083-dbc6-ef71eba27de0"
      },
      "execution_count": 106,
      "outputs": [
        {
          "output_type": "stream",
          "name": "stdout",
          "text": [
            "0 missing values in training data\n",
            "0 missing values in testing data\n",
            "\n",
            "\n",
            "All data in X_train_processed are float64\n",
            "All data in X_test_processed are float64\n",
            "\n",
            "\n",
            "shape of data is (118, 13)\n",
            "\n",
            "\n"
          ]
        }
      ]
    },
    {
      "cell_type": "markdown",
      "source": [
        "##Create and compare at least 2 different models\n",
        "- Put your preprocessing and models into pipelines.\n",
        "- For each model type, create a default version of each model with default hyperparameters.\n",
        "- Create additional versions of each model type where you tune hyperparameters for each model.\n",
        "- Use appropriate metrics to evaluate each model."
      ],
      "metadata": {
        "id": "AoGTfn6-MIHm"
      }
    },
    {
      "cell_type": "markdown",
      "source": [
        "Model 1:"
      ],
      "metadata": {
        "id": "9EIjZWnQSKri"
      }
    },
    {
      "cell_type": "code",
      "source": [
        "#Using linear Regression due to Weight column value is numberic and prediction is not categorical & using Defualtfor Regression\n",
        "lin_reg = LinearRegression()"
      ],
      "metadata": {
        "id": "nKlC6CjtMWAx"
      },
      "execution_count": 116,
      "outputs": []
    },
    {
      "cell_type": "code",
      "source": [
        "#Using preprocessed data from Above with Linear Regression in pipeline\n",
        "lin_reg_pipe = make_pipeline(preprocessing, lin_reg)"
      ],
      "metadata": {
        "id": "qJvfR6smNc1y"
      },
      "execution_count": 117,
      "outputs": []
    },
    {
      "cell_type": "code",
      "source": [
        "##fitting line regression on train data\n",
        "lin_reg_pipe.fit(X_train, y_train)"
      ],
      "metadata": {
        "colab": {
          "base_uri": "https://localhost:8080/",
          "height": 230
        },
        "id": "BzZKt6QARJ9t",
        "outputId": "38e2191f-78d9-4947-dbba-5230a33b5db9"
      },
      "execution_count": 118,
      "outputs": [
        {
          "output_type": "execute_result",
          "data": {
            "text/plain": [
              "Pipeline(steps=[('columntransformer',\n",
              "                 ColumnTransformer(transformers=[('pipeline-1',\n",
              "                                                  Pipeline(steps=[('simpleimputer',\n",
              "                                                                   SimpleImputer()),\n",
              "                                                                  ('standardscaler',\n",
              "                                                                   StandardScaler())]),\n",
              "                                                  <sklearn.compose._column_transformer.make_column_selector object at 0x7ffaa30b7e10>),\n",
              "                                                 ('pipeline-2',\n",
              "                                                  Pipeline(steps=[('simpleimputer',\n",
              "                                                                   SimpleImputer(strategy='most_frequent')),\n",
              "                                                                  ('onehotencoder',\n",
              "                                                                   OneHotEncoder(handle_unknown='ignore',\n",
              "                                                                                 sparse=False))]),\n",
              "                                                  <sklearn.compose._column_transformer.make_column_selector object at 0x7ffaa32b1610>)])),\n",
              "                ('linearregression', LinearRegression())])"
            ],
            "text/html": [
              "<style>#sk-82fccf25-f052-4228-ac51-570ebdc41c2d {color: black;background-color: white;}#sk-82fccf25-f052-4228-ac51-570ebdc41c2d pre{padding: 0;}#sk-82fccf25-f052-4228-ac51-570ebdc41c2d div.sk-toggleable {background-color: white;}#sk-82fccf25-f052-4228-ac51-570ebdc41c2d label.sk-toggleable__label {cursor: pointer;display: block;width: 100%;margin-bottom: 0;padding: 0.3em;box-sizing: border-box;text-align: center;}#sk-82fccf25-f052-4228-ac51-570ebdc41c2d label.sk-toggleable__label-arrow:before {content: \"▸\";float: left;margin-right: 0.25em;color: #696969;}#sk-82fccf25-f052-4228-ac51-570ebdc41c2d label.sk-toggleable__label-arrow:hover:before {color: black;}#sk-82fccf25-f052-4228-ac51-570ebdc41c2d div.sk-estimator:hover label.sk-toggleable__label-arrow:before {color: black;}#sk-82fccf25-f052-4228-ac51-570ebdc41c2d div.sk-toggleable__content {max-height: 0;max-width: 0;overflow: hidden;text-align: left;background-color: #f0f8ff;}#sk-82fccf25-f052-4228-ac51-570ebdc41c2d div.sk-toggleable__content pre {margin: 0.2em;color: black;border-radius: 0.25em;background-color: #f0f8ff;}#sk-82fccf25-f052-4228-ac51-570ebdc41c2d input.sk-toggleable__control:checked~div.sk-toggleable__content {max-height: 200px;max-width: 100%;overflow: auto;}#sk-82fccf25-f052-4228-ac51-570ebdc41c2d input.sk-toggleable__control:checked~label.sk-toggleable__label-arrow:before {content: \"▾\";}#sk-82fccf25-f052-4228-ac51-570ebdc41c2d div.sk-estimator input.sk-toggleable__control:checked~label.sk-toggleable__label {background-color: #d4ebff;}#sk-82fccf25-f052-4228-ac51-570ebdc41c2d div.sk-label input.sk-toggleable__control:checked~label.sk-toggleable__label {background-color: #d4ebff;}#sk-82fccf25-f052-4228-ac51-570ebdc41c2d input.sk-hidden--visually {border: 0;clip: rect(1px 1px 1px 1px);clip: rect(1px, 1px, 1px, 1px);height: 1px;margin: -1px;overflow: hidden;padding: 0;position: absolute;width: 1px;}#sk-82fccf25-f052-4228-ac51-570ebdc41c2d div.sk-estimator {font-family: monospace;background-color: #f0f8ff;border: 1px dotted black;border-radius: 0.25em;box-sizing: border-box;margin-bottom: 0.5em;}#sk-82fccf25-f052-4228-ac51-570ebdc41c2d div.sk-estimator:hover {background-color: #d4ebff;}#sk-82fccf25-f052-4228-ac51-570ebdc41c2d div.sk-parallel-item::after {content: \"\";width: 100%;border-bottom: 1px solid gray;flex-grow: 1;}#sk-82fccf25-f052-4228-ac51-570ebdc41c2d div.sk-label:hover label.sk-toggleable__label {background-color: #d4ebff;}#sk-82fccf25-f052-4228-ac51-570ebdc41c2d div.sk-serial::before {content: \"\";position: absolute;border-left: 1px solid gray;box-sizing: border-box;top: 2em;bottom: 0;left: 50%;}#sk-82fccf25-f052-4228-ac51-570ebdc41c2d div.sk-serial {display: flex;flex-direction: column;align-items: center;background-color: white;padding-right: 0.2em;padding-left: 0.2em;}#sk-82fccf25-f052-4228-ac51-570ebdc41c2d div.sk-item {z-index: 1;}#sk-82fccf25-f052-4228-ac51-570ebdc41c2d div.sk-parallel {display: flex;align-items: stretch;justify-content: center;background-color: white;}#sk-82fccf25-f052-4228-ac51-570ebdc41c2d div.sk-parallel::before {content: \"\";position: absolute;border-left: 1px solid gray;box-sizing: border-box;top: 2em;bottom: 0;left: 50%;}#sk-82fccf25-f052-4228-ac51-570ebdc41c2d div.sk-parallel-item {display: flex;flex-direction: column;position: relative;background-color: white;}#sk-82fccf25-f052-4228-ac51-570ebdc41c2d div.sk-parallel-item:first-child::after {align-self: flex-end;width: 50%;}#sk-82fccf25-f052-4228-ac51-570ebdc41c2d div.sk-parallel-item:last-child::after {align-self: flex-start;width: 50%;}#sk-82fccf25-f052-4228-ac51-570ebdc41c2d div.sk-parallel-item:only-child::after {width: 0;}#sk-82fccf25-f052-4228-ac51-570ebdc41c2d div.sk-dashed-wrapped {border: 1px dashed gray;margin: 0 0.4em 0.5em 0.4em;box-sizing: border-box;padding-bottom: 0.4em;background-color: white;position: relative;}#sk-82fccf25-f052-4228-ac51-570ebdc41c2d div.sk-label label {font-family: monospace;font-weight: bold;background-color: white;display: inline-block;line-height: 1.2em;}#sk-82fccf25-f052-4228-ac51-570ebdc41c2d div.sk-label-container {position: relative;z-index: 2;text-align: center;}#sk-82fccf25-f052-4228-ac51-570ebdc41c2d div.sk-container {/* jupyter's `normalize.less` sets `[hidden] { display: none; }` but bootstrap.min.css set `[hidden] { display: none !important; }` so we also need the `!important` here to be able to override the default hidden behavior on the sphinx rendered scikit-learn.org. See: https://github.com/scikit-learn/scikit-learn/issues/21755 */display: inline-block !important;position: relative;}#sk-82fccf25-f052-4228-ac51-570ebdc41c2d div.sk-text-repr-fallback {display: none;}</style><div id=\"sk-82fccf25-f052-4228-ac51-570ebdc41c2d\" class=\"sk-top-container\"><div class=\"sk-text-repr-fallback\"><pre>Pipeline(steps=[(&#x27;columntransformer&#x27;,\n",
              "                 ColumnTransformer(transformers=[(&#x27;pipeline-1&#x27;,\n",
              "                                                  Pipeline(steps=[(&#x27;simpleimputer&#x27;,\n",
              "                                                                   SimpleImputer()),\n",
              "                                                                  (&#x27;standardscaler&#x27;,\n",
              "                                                                   StandardScaler())]),\n",
              "                                                  &lt;sklearn.compose._column_transformer.make_column_selector object at 0x7ffaa30b7e10&gt;),\n",
              "                                                 (&#x27;pipeline-2&#x27;,\n",
              "                                                  Pipeline(steps=[(&#x27;simpleimputer&#x27;,\n",
              "                                                                   SimpleImputer(strategy=&#x27;most_frequent&#x27;)),\n",
              "                                                                  (&#x27;onehotencoder&#x27;,\n",
              "                                                                   OneHotEncoder(handle_unknown=&#x27;ignore&#x27;,\n",
              "                                                                                 sparse=False))]),\n",
              "                                                  &lt;sklearn.compose._column_transformer.make_column_selector object at 0x7ffaa32b1610&gt;)])),\n",
              "                (&#x27;linearregression&#x27;, LinearRegression())])</pre><b>Please rerun this cell to show the HTML repr or trust the notebook.</b></div><div class=\"sk-container\" hidden><div class=\"sk-item sk-dashed-wrapped\"><div class=\"sk-label-container\"><div class=\"sk-label sk-toggleable\"><input class=\"sk-toggleable__control sk-hidden--visually\" id=\"29973130-f2d8-4811-bbf2-989ecdc375a2\" type=\"checkbox\" ><label for=\"29973130-f2d8-4811-bbf2-989ecdc375a2\" class=\"sk-toggleable__label sk-toggleable__label-arrow\">Pipeline</label><div class=\"sk-toggleable__content\"><pre>Pipeline(steps=[(&#x27;columntransformer&#x27;,\n",
              "                 ColumnTransformer(transformers=[(&#x27;pipeline-1&#x27;,\n",
              "                                                  Pipeline(steps=[(&#x27;simpleimputer&#x27;,\n",
              "                                                                   SimpleImputer()),\n",
              "                                                                  (&#x27;standardscaler&#x27;,\n",
              "                                                                   StandardScaler())]),\n",
              "                                                  &lt;sklearn.compose._column_transformer.make_column_selector object at 0x7ffaa30b7e10&gt;),\n",
              "                                                 (&#x27;pipeline-2&#x27;,\n",
              "                                                  Pipeline(steps=[(&#x27;simpleimputer&#x27;,\n",
              "                                                                   SimpleImputer(strategy=&#x27;most_frequent&#x27;)),\n",
              "                                                                  (&#x27;onehotencoder&#x27;,\n",
              "                                                                   OneHotEncoder(handle_unknown=&#x27;ignore&#x27;,\n",
              "                                                                                 sparse=False))]),\n",
              "                                                  &lt;sklearn.compose._column_transformer.make_column_selector object at 0x7ffaa32b1610&gt;)])),\n",
              "                (&#x27;linearregression&#x27;, LinearRegression())])</pre></div></div></div><div class=\"sk-serial\"><div class=\"sk-item sk-dashed-wrapped\"><div class=\"sk-label-container\"><div class=\"sk-label sk-toggleable\"><input class=\"sk-toggleable__control sk-hidden--visually\" id=\"add34cf4-ca73-4218-9b52-f0b9be3246a5\" type=\"checkbox\" ><label for=\"add34cf4-ca73-4218-9b52-f0b9be3246a5\" class=\"sk-toggleable__label sk-toggleable__label-arrow\">columntransformer: ColumnTransformer</label><div class=\"sk-toggleable__content\"><pre>ColumnTransformer(transformers=[(&#x27;pipeline-1&#x27;,\n",
              "                                 Pipeline(steps=[(&#x27;simpleimputer&#x27;,\n",
              "                                                  SimpleImputer()),\n",
              "                                                 (&#x27;standardscaler&#x27;,\n",
              "                                                  StandardScaler())]),\n",
              "                                 &lt;sklearn.compose._column_transformer.make_column_selector object at 0x7ffaa30b7e10&gt;),\n",
              "                                (&#x27;pipeline-2&#x27;,\n",
              "                                 Pipeline(steps=[(&#x27;simpleimputer&#x27;,\n",
              "                                                  SimpleImputer(strategy=&#x27;most_frequent&#x27;)),\n",
              "                                                 (&#x27;onehotencoder&#x27;,\n",
              "                                                  OneHotEncoder(handle_unknown=&#x27;ignore&#x27;,\n",
              "                                                                sparse=False))]),\n",
              "                                 &lt;sklearn.compose._column_transformer.make_column_selector object at 0x7ffaa32b1610&gt;)])</pre></div></div></div><div class=\"sk-parallel\"><div class=\"sk-parallel-item\"><div class=\"sk-item\"><div class=\"sk-label-container\"><div class=\"sk-label sk-toggleable\"><input class=\"sk-toggleable__control sk-hidden--visually\" id=\"cc57e47e-54d7-4701-9cc7-a6691ca40800\" type=\"checkbox\" ><label for=\"cc57e47e-54d7-4701-9cc7-a6691ca40800\" class=\"sk-toggleable__label sk-toggleable__label-arrow\">pipeline-1</label><div class=\"sk-toggleable__content\"><pre>&lt;sklearn.compose._column_transformer.make_column_selector object at 0x7ffaa30b7e10&gt;</pre></div></div></div><div class=\"sk-serial\"><div class=\"sk-item\"><div class=\"sk-serial\"><div class=\"sk-item\"><div class=\"sk-estimator sk-toggleable\"><input class=\"sk-toggleable__control sk-hidden--visually\" id=\"619dbe14-5bac-442f-99de-2052866b4c12\" type=\"checkbox\" ><label for=\"619dbe14-5bac-442f-99de-2052866b4c12\" class=\"sk-toggleable__label sk-toggleable__label-arrow\">SimpleImputer</label><div class=\"sk-toggleable__content\"><pre>SimpleImputer()</pre></div></div></div><div class=\"sk-item\"><div class=\"sk-estimator sk-toggleable\"><input class=\"sk-toggleable__control sk-hidden--visually\" id=\"d712ba11-5541-4d94-85c7-02af9870f584\" type=\"checkbox\" ><label for=\"d712ba11-5541-4d94-85c7-02af9870f584\" class=\"sk-toggleable__label sk-toggleable__label-arrow\">StandardScaler</label><div class=\"sk-toggleable__content\"><pre>StandardScaler()</pre></div></div></div></div></div></div></div></div><div class=\"sk-parallel-item\"><div class=\"sk-item\"><div class=\"sk-label-container\"><div class=\"sk-label sk-toggleable\"><input class=\"sk-toggleable__control sk-hidden--visually\" id=\"49e6aea5-fd95-4e9a-9087-139aa268f523\" type=\"checkbox\" ><label for=\"49e6aea5-fd95-4e9a-9087-139aa268f523\" class=\"sk-toggleable__label sk-toggleable__label-arrow\">pipeline-2</label><div class=\"sk-toggleable__content\"><pre>&lt;sklearn.compose._column_transformer.make_column_selector object at 0x7ffaa32b1610&gt;</pre></div></div></div><div class=\"sk-serial\"><div class=\"sk-item\"><div class=\"sk-serial\"><div class=\"sk-item\"><div class=\"sk-estimator sk-toggleable\"><input class=\"sk-toggleable__control sk-hidden--visually\" id=\"4893272a-cad8-4e38-990e-58ee0a03f53a\" type=\"checkbox\" ><label for=\"4893272a-cad8-4e38-990e-58ee0a03f53a\" class=\"sk-toggleable__label sk-toggleable__label-arrow\">SimpleImputer</label><div class=\"sk-toggleable__content\"><pre>SimpleImputer(strategy=&#x27;most_frequent&#x27;)</pre></div></div></div><div class=\"sk-item\"><div class=\"sk-estimator sk-toggleable\"><input class=\"sk-toggleable__control sk-hidden--visually\" id=\"8e422163-3099-4ba9-b704-5db10a9b3d0c\" type=\"checkbox\" ><label for=\"8e422163-3099-4ba9-b704-5db10a9b3d0c\" class=\"sk-toggleable__label sk-toggleable__label-arrow\">OneHotEncoder</label><div class=\"sk-toggleable__content\"><pre>OneHotEncoder(handle_unknown=&#x27;ignore&#x27;, sparse=False)</pre></div></div></div></div></div></div></div></div></div></div><div class=\"sk-item\"><div class=\"sk-estimator sk-toggleable\"><input class=\"sk-toggleable__control sk-hidden--visually\" id=\"eb7e90db-c440-42ba-83c9-35e90098ffcf\" type=\"checkbox\" ><label for=\"eb7e90db-c440-42ba-83c9-35e90098ffcf\" class=\"sk-toggleable__label sk-toggleable__label-arrow\">LinearRegression</label><div class=\"sk-toggleable__content\"><pre>LinearRegression()</pre></div></div></div></div></div></div></div>"
            ]
          },
          "metadata": {},
          "execution_count": 118
        }
      ]
    },
    {
      "cell_type": "code",
      "source": [
        "#Evaluate the model performance on both the training set and the test set using the R-squared score.\n",
        "print('Training')\n",
        "evaluate_regression(y_train, lin_reg_pipe.predict(X_train))\n",
        "print('Testing')\n",
        "evaluate_regression(y_test, lin_reg_pipe.predict(X_test))"
      ],
      "metadata": {
        "colab": {
          "base_uri": "https://localhost:8080/"
        },
        "id": "pR887m1eOqD4",
        "outputId": "6887f9bd-4183-4bc3-a2ab-feece2bc4164"
      },
      "execution_count": 119,
      "outputs": [
        {
          "output_type": "stream",
          "name": "stdout",
          "text": [
            "Training\n",
            "scores: \n",
            "MAE: 72.84 \n",
            "MSE: 9,747.75 \n",
            "RMSE: 98.73 \n",
            "R2: 0.92\n",
            "Testing\n",
            "scores: \n",
            "MAE: 72.71 \n",
            "MSE: 14,858.21 \n",
            "RMSE: 121.89 \n",
            "R2: 0.89\n"
          ]
        }
      ]
    },
    {
      "cell_type": "markdown",
      "source": [
        "Tuning Model 1:"
      ],
      "metadata": {
        "id": "Ly3GglQPSCMG"
      }
    },
    {
      "cell_type": "code",
      "source": [
        "lin_reg.get_params()"
      ],
      "metadata": {
        "colab": {
          "base_uri": "https://localhost:8080/"
        },
        "id": "e-qPbSAdSBCf",
        "outputId": "1f65a331-ccd1-48d8-d67b-ea792b09ec53"
      },
      "execution_count": 120,
      "outputs": [
        {
          "output_type": "execute_result",
          "data": {
            "text/plain": [
              "{'copy_X': True,\n",
              " 'fit_intercept': True,\n",
              " 'n_jobs': None,\n",
              " 'normalize': 'deprecated',\n",
              " 'positive': False}"
            ]
          },
          "metadata": {},
          "execution_count": 120
        }
      ]
    },
    {
      "cell_type": "code",
      "source": [
        "#Changing \n",
        "lin_reg_2 = LinearRegression(fit_intercept=False, normalize=False)"
      ],
      "metadata": {
        "id": "syhTYbL0Sbgn"
      },
      "execution_count": 151,
      "outputs": []
    },
    {
      "cell_type": "code",
      "source": [
        "#Using preprocessed data from Above with Linear Regression in pipeline\n",
        "lin_reg_pipe_2 = make_pipeline(preprocessing, lin_reg_2)"
      ],
      "metadata": {
        "id": "ldyrLIVJXtf7"
      },
      "execution_count": 146,
      "outputs": []
    },
    {
      "cell_type": "code",
      "source": [
        "lin_reg_pipe_2.fit(X_train, y_train)"
      ],
      "metadata": {
        "colab": {
          "base_uri": "https://localhost:8080/",
          "height": 284
        },
        "id": "I3SD1auDZqgd",
        "outputId": "18989e6d-a0d7-4dc6-8133-de9f09fc2735"
      },
      "execution_count": 147,
      "outputs": [
        {
          "output_type": "stream",
          "name": "stderr",
          "text": [
            "/usr/local/lib/python3.7/dist-packages/sklearn/linear_model/_base.py:155: FutureWarning: 'normalize' was deprecated in version 1.0 and will be removed in 1.2. Please leave the normalize parameter to its default value to silence this warning. The default behavior of this estimator is to not do any normalization. If normalization is needed please use sklearn.preprocessing.StandardScaler instead.\n",
            "  FutureWarning,\n"
          ]
        },
        {
          "output_type": "execute_result",
          "data": {
            "text/plain": [
              "Pipeline(steps=[('columntransformer',\n",
              "                 ColumnTransformer(transformers=[('pipeline-1',\n",
              "                                                  Pipeline(steps=[('simpleimputer',\n",
              "                                                                   SimpleImputer()),\n",
              "                                                                  ('standardscaler',\n",
              "                                                                   StandardScaler())]),\n",
              "                                                  <sklearn.compose._column_transformer.make_column_selector object at 0x7ffaa30b7e10>),\n",
              "                                                 ('pipeline-2',\n",
              "                                                  Pipeline(steps=[('simpleimputer',\n",
              "                                                                   SimpleImputer(strategy='most_frequent')),\n",
              "                                                                  ('onehotencoder',\n",
              "                                                                   OneHotEncoder(handle_unknown='ignore',\n",
              "                                                                                 sparse=False))]),\n",
              "                                                  <sklearn.compose._column_transformer.make_column_selector object at 0x7ffaa32b1610>)])),\n",
              "                ('linearregression',\n",
              "                 LinearRegression(fit_intercept=False, normalize=False))])"
            ],
            "text/html": [
              "<style>#sk-0883a7ad-3a7b-40ea-8c26-3e4cc3426798 {color: black;background-color: white;}#sk-0883a7ad-3a7b-40ea-8c26-3e4cc3426798 pre{padding: 0;}#sk-0883a7ad-3a7b-40ea-8c26-3e4cc3426798 div.sk-toggleable {background-color: white;}#sk-0883a7ad-3a7b-40ea-8c26-3e4cc3426798 label.sk-toggleable__label {cursor: pointer;display: block;width: 100%;margin-bottom: 0;padding: 0.3em;box-sizing: border-box;text-align: center;}#sk-0883a7ad-3a7b-40ea-8c26-3e4cc3426798 label.sk-toggleable__label-arrow:before {content: \"▸\";float: left;margin-right: 0.25em;color: #696969;}#sk-0883a7ad-3a7b-40ea-8c26-3e4cc3426798 label.sk-toggleable__label-arrow:hover:before {color: black;}#sk-0883a7ad-3a7b-40ea-8c26-3e4cc3426798 div.sk-estimator:hover label.sk-toggleable__label-arrow:before {color: black;}#sk-0883a7ad-3a7b-40ea-8c26-3e4cc3426798 div.sk-toggleable__content {max-height: 0;max-width: 0;overflow: hidden;text-align: left;background-color: #f0f8ff;}#sk-0883a7ad-3a7b-40ea-8c26-3e4cc3426798 div.sk-toggleable__content pre {margin: 0.2em;color: black;border-radius: 0.25em;background-color: #f0f8ff;}#sk-0883a7ad-3a7b-40ea-8c26-3e4cc3426798 input.sk-toggleable__control:checked~div.sk-toggleable__content {max-height: 200px;max-width: 100%;overflow: auto;}#sk-0883a7ad-3a7b-40ea-8c26-3e4cc3426798 input.sk-toggleable__control:checked~label.sk-toggleable__label-arrow:before {content: \"▾\";}#sk-0883a7ad-3a7b-40ea-8c26-3e4cc3426798 div.sk-estimator input.sk-toggleable__control:checked~label.sk-toggleable__label {background-color: #d4ebff;}#sk-0883a7ad-3a7b-40ea-8c26-3e4cc3426798 div.sk-label input.sk-toggleable__control:checked~label.sk-toggleable__label {background-color: #d4ebff;}#sk-0883a7ad-3a7b-40ea-8c26-3e4cc3426798 input.sk-hidden--visually {border: 0;clip: rect(1px 1px 1px 1px);clip: rect(1px, 1px, 1px, 1px);height: 1px;margin: -1px;overflow: hidden;padding: 0;position: absolute;width: 1px;}#sk-0883a7ad-3a7b-40ea-8c26-3e4cc3426798 div.sk-estimator {font-family: monospace;background-color: #f0f8ff;border: 1px dotted black;border-radius: 0.25em;box-sizing: border-box;margin-bottom: 0.5em;}#sk-0883a7ad-3a7b-40ea-8c26-3e4cc3426798 div.sk-estimator:hover {background-color: #d4ebff;}#sk-0883a7ad-3a7b-40ea-8c26-3e4cc3426798 div.sk-parallel-item::after {content: \"\";width: 100%;border-bottom: 1px solid gray;flex-grow: 1;}#sk-0883a7ad-3a7b-40ea-8c26-3e4cc3426798 div.sk-label:hover label.sk-toggleable__label {background-color: #d4ebff;}#sk-0883a7ad-3a7b-40ea-8c26-3e4cc3426798 div.sk-serial::before {content: \"\";position: absolute;border-left: 1px solid gray;box-sizing: border-box;top: 2em;bottom: 0;left: 50%;}#sk-0883a7ad-3a7b-40ea-8c26-3e4cc3426798 div.sk-serial {display: flex;flex-direction: column;align-items: center;background-color: white;padding-right: 0.2em;padding-left: 0.2em;}#sk-0883a7ad-3a7b-40ea-8c26-3e4cc3426798 div.sk-item {z-index: 1;}#sk-0883a7ad-3a7b-40ea-8c26-3e4cc3426798 div.sk-parallel {display: flex;align-items: stretch;justify-content: center;background-color: white;}#sk-0883a7ad-3a7b-40ea-8c26-3e4cc3426798 div.sk-parallel::before {content: \"\";position: absolute;border-left: 1px solid gray;box-sizing: border-box;top: 2em;bottom: 0;left: 50%;}#sk-0883a7ad-3a7b-40ea-8c26-3e4cc3426798 div.sk-parallel-item {display: flex;flex-direction: column;position: relative;background-color: white;}#sk-0883a7ad-3a7b-40ea-8c26-3e4cc3426798 div.sk-parallel-item:first-child::after {align-self: flex-end;width: 50%;}#sk-0883a7ad-3a7b-40ea-8c26-3e4cc3426798 div.sk-parallel-item:last-child::after {align-self: flex-start;width: 50%;}#sk-0883a7ad-3a7b-40ea-8c26-3e4cc3426798 div.sk-parallel-item:only-child::after {width: 0;}#sk-0883a7ad-3a7b-40ea-8c26-3e4cc3426798 div.sk-dashed-wrapped {border: 1px dashed gray;margin: 0 0.4em 0.5em 0.4em;box-sizing: border-box;padding-bottom: 0.4em;background-color: white;position: relative;}#sk-0883a7ad-3a7b-40ea-8c26-3e4cc3426798 div.sk-label label {font-family: monospace;font-weight: bold;background-color: white;display: inline-block;line-height: 1.2em;}#sk-0883a7ad-3a7b-40ea-8c26-3e4cc3426798 div.sk-label-container {position: relative;z-index: 2;text-align: center;}#sk-0883a7ad-3a7b-40ea-8c26-3e4cc3426798 div.sk-container {/* jupyter's `normalize.less` sets `[hidden] { display: none; }` but bootstrap.min.css set `[hidden] { display: none !important; }` so we also need the `!important` here to be able to override the default hidden behavior on the sphinx rendered scikit-learn.org. See: https://github.com/scikit-learn/scikit-learn/issues/21755 */display: inline-block !important;position: relative;}#sk-0883a7ad-3a7b-40ea-8c26-3e4cc3426798 div.sk-text-repr-fallback {display: none;}</style><div id=\"sk-0883a7ad-3a7b-40ea-8c26-3e4cc3426798\" class=\"sk-top-container\"><div class=\"sk-text-repr-fallback\"><pre>Pipeline(steps=[(&#x27;columntransformer&#x27;,\n",
              "                 ColumnTransformer(transformers=[(&#x27;pipeline-1&#x27;,\n",
              "                                                  Pipeline(steps=[(&#x27;simpleimputer&#x27;,\n",
              "                                                                   SimpleImputer()),\n",
              "                                                                  (&#x27;standardscaler&#x27;,\n",
              "                                                                   StandardScaler())]),\n",
              "                                                  &lt;sklearn.compose._column_transformer.make_column_selector object at 0x7ffaa30b7e10&gt;),\n",
              "                                                 (&#x27;pipeline-2&#x27;,\n",
              "                                                  Pipeline(steps=[(&#x27;simpleimputer&#x27;,\n",
              "                                                                   SimpleImputer(strategy=&#x27;most_frequent&#x27;)),\n",
              "                                                                  (&#x27;onehotencoder&#x27;,\n",
              "                                                                   OneHotEncoder(handle_unknown=&#x27;ignore&#x27;,\n",
              "                                                                                 sparse=False))]),\n",
              "                                                  &lt;sklearn.compose._column_transformer.make_column_selector object at 0x7ffaa32b1610&gt;)])),\n",
              "                (&#x27;linearregression&#x27;,\n",
              "                 LinearRegression(fit_intercept=False, normalize=False))])</pre><b>Please rerun this cell to show the HTML repr or trust the notebook.</b></div><div class=\"sk-container\" hidden><div class=\"sk-item sk-dashed-wrapped\"><div class=\"sk-label-container\"><div class=\"sk-label sk-toggleable\"><input class=\"sk-toggleable__control sk-hidden--visually\" id=\"d90c532c-7f33-4720-9944-13a7b1a624cc\" type=\"checkbox\" ><label for=\"d90c532c-7f33-4720-9944-13a7b1a624cc\" class=\"sk-toggleable__label sk-toggleable__label-arrow\">Pipeline</label><div class=\"sk-toggleable__content\"><pre>Pipeline(steps=[(&#x27;columntransformer&#x27;,\n",
              "                 ColumnTransformer(transformers=[(&#x27;pipeline-1&#x27;,\n",
              "                                                  Pipeline(steps=[(&#x27;simpleimputer&#x27;,\n",
              "                                                                   SimpleImputer()),\n",
              "                                                                  (&#x27;standardscaler&#x27;,\n",
              "                                                                   StandardScaler())]),\n",
              "                                                  &lt;sklearn.compose._column_transformer.make_column_selector object at 0x7ffaa30b7e10&gt;),\n",
              "                                                 (&#x27;pipeline-2&#x27;,\n",
              "                                                  Pipeline(steps=[(&#x27;simpleimputer&#x27;,\n",
              "                                                                   SimpleImputer(strategy=&#x27;most_frequent&#x27;)),\n",
              "                                                                  (&#x27;onehotencoder&#x27;,\n",
              "                                                                   OneHotEncoder(handle_unknown=&#x27;ignore&#x27;,\n",
              "                                                                                 sparse=False))]),\n",
              "                                                  &lt;sklearn.compose._column_transformer.make_column_selector object at 0x7ffaa32b1610&gt;)])),\n",
              "                (&#x27;linearregression&#x27;,\n",
              "                 LinearRegression(fit_intercept=False, normalize=False))])</pre></div></div></div><div class=\"sk-serial\"><div class=\"sk-item sk-dashed-wrapped\"><div class=\"sk-label-container\"><div class=\"sk-label sk-toggleable\"><input class=\"sk-toggleable__control sk-hidden--visually\" id=\"8413d637-60a9-4bc8-9043-cb4e41b89a23\" type=\"checkbox\" ><label for=\"8413d637-60a9-4bc8-9043-cb4e41b89a23\" class=\"sk-toggleable__label sk-toggleable__label-arrow\">columntransformer: ColumnTransformer</label><div class=\"sk-toggleable__content\"><pre>ColumnTransformer(transformers=[(&#x27;pipeline-1&#x27;,\n",
              "                                 Pipeline(steps=[(&#x27;simpleimputer&#x27;,\n",
              "                                                  SimpleImputer()),\n",
              "                                                 (&#x27;standardscaler&#x27;,\n",
              "                                                  StandardScaler())]),\n",
              "                                 &lt;sklearn.compose._column_transformer.make_column_selector object at 0x7ffaa30b7e10&gt;),\n",
              "                                (&#x27;pipeline-2&#x27;,\n",
              "                                 Pipeline(steps=[(&#x27;simpleimputer&#x27;,\n",
              "                                                  SimpleImputer(strategy=&#x27;most_frequent&#x27;)),\n",
              "                                                 (&#x27;onehotencoder&#x27;,\n",
              "                                                  OneHotEncoder(handle_unknown=&#x27;ignore&#x27;,\n",
              "                                                                sparse=False))]),\n",
              "                                 &lt;sklearn.compose._column_transformer.make_column_selector object at 0x7ffaa32b1610&gt;)])</pre></div></div></div><div class=\"sk-parallel\"><div class=\"sk-parallel-item\"><div class=\"sk-item\"><div class=\"sk-label-container\"><div class=\"sk-label sk-toggleable\"><input class=\"sk-toggleable__control sk-hidden--visually\" id=\"81add0e7-a5fe-40b3-9512-5ef8521ff6b8\" type=\"checkbox\" ><label for=\"81add0e7-a5fe-40b3-9512-5ef8521ff6b8\" class=\"sk-toggleable__label sk-toggleable__label-arrow\">pipeline-1</label><div class=\"sk-toggleable__content\"><pre>&lt;sklearn.compose._column_transformer.make_column_selector object at 0x7ffaa30b7e10&gt;</pre></div></div></div><div class=\"sk-serial\"><div class=\"sk-item\"><div class=\"sk-serial\"><div class=\"sk-item\"><div class=\"sk-estimator sk-toggleable\"><input class=\"sk-toggleable__control sk-hidden--visually\" id=\"858b6672-96d2-47bf-81c8-33e30b9d1fc6\" type=\"checkbox\" ><label for=\"858b6672-96d2-47bf-81c8-33e30b9d1fc6\" class=\"sk-toggleable__label sk-toggleable__label-arrow\">SimpleImputer</label><div class=\"sk-toggleable__content\"><pre>SimpleImputer()</pre></div></div></div><div class=\"sk-item\"><div class=\"sk-estimator sk-toggleable\"><input class=\"sk-toggleable__control sk-hidden--visually\" id=\"31d6a204-aced-4dc2-877c-8b1cfe5319f7\" type=\"checkbox\" ><label for=\"31d6a204-aced-4dc2-877c-8b1cfe5319f7\" class=\"sk-toggleable__label sk-toggleable__label-arrow\">StandardScaler</label><div class=\"sk-toggleable__content\"><pre>StandardScaler()</pre></div></div></div></div></div></div></div></div><div class=\"sk-parallel-item\"><div class=\"sk-item\"><div class=\"sk-label-container\"><div class=\"sk-label sk-toggleable\"><input class=\"sk-toggleable__control sk-hidden--visually\" id=\"f2444eb1-432e-4382-bae5-5f02144afd95\" type=\"checkbox\" ><label for=\"f2444eb1-432e-4382-bae5-5f02144afd95\" class=\"sk-toggleable__label sk-toggleable__label-arrow\">pipeline-2</label><div class=\"sk-toggleable__content\"><pre>&lt;sklearn.compose._column_transformer.make_column_selector object at 0x7ffaa32b1610&gt;</pre></div></div></div><div class=\"sk-serial\"><div class=\"sk-item\"><div class=\"sk-serial\"><div class=\"sk-item\"><div class=\"sk-estimator sk-toggleable\"><input class=\"sk-toggleable__control sk-hidden--visually\" id=\"8030de22-2bf3-48c3-a8a8-e818e39a041c\" type=\"checkbox\" ><label for=\"8030de22-2bf3-48c3-a8a8-e818e39a041c\" class=\"sk-toggleable__label sk-toggleable__label-arrow\">SimpleImputer</label><div class=\"sk-toggleable__content\"><pre>SimpleImputer(strategy=&#x27;most_frequent&#x27;)</pre></div></div></div><div class=\"sk-item\"><div class=\"sk-estimator sk-toggleable\"><input class=\"sk-toggleable__control sk-hidden--visually\" id=\"79d4948b-8553-4497-b5e0-b94cea45c916\" type=\"checkbox\" ><label for=\"79d4948b-8553-4497-b5e0-b94cea45c916\" class=\"sk-toggleable__label sk-toggleable__label-arrow\">OneHotEncoder</label><div class=\"sk-toggleable__content\"><pre>OneHotEncoder(handle_unknown=&#x27;ignore&#x27;, sparse=False)</pre></div></div></div></div></div></div></div></div></div></div><div class=\"sk-item\"><div class=\"sk-estimator sk-toggleable\"><input class=\"sk-toggleable__control sk-hidden--visually\" id=\"d66014bd-c4dd-494f-b713-c8e8e1d981c7\" type=\"checkbox\" ><label for=\"d66014bd-c4dd-494f-b713-c8e8e1d981c7\" class=\"sk-toggleable__label sk-toggleable__label-arrow\">LinearRegression</label><div class=\"sk-toggleable__content\"><pre>LinearRegression(fit_intercept=False, normalize=False)</pre></div></div></div></div></div></div></div>"
            ]
          },
          "metadata": {},
          "execution_count": 147
        }
      ]
    },
    {
      "cell_type": "code",
      "source": [
        "#Evaluate the tuned model performance on both the training set and the test set using the R-squared score.\n",
        "print('Training')\n",
        "evaluate_regression(y_train, lin_reg_pipe.predict(X_train))\n",
        "print('Testing')\n",
        "evaluate_regression(y_test, lin_reg_pipe.predict(X_test))"
      ],
      "metadata": {
        "colab": {
          "base_uri": "https://localhost:8080/"
        },
        "id": "CD8zeaHuZ-ZD",
        "outputId": "1dc042b4-a5ac-4102-96df-1fa8219f7d1c"
      },
      "execution_count": 148,
      "outputs": [
        {
          "output_type": "stream",
          "name": "stdout",
          "text": [
            "Training\n",
            "scores: \n",
            "MAE: 72.84 \n",
            "MSE: 9,747.75 \n",
            "RMSE: 98.73 \n",
            "R2: 0.92\n",
            "Testing\n",
            "scores: \n",
            "MAE: 72.71 \n",
            "MSE: 14,858.21 \n",
            "RMSE: 121.89 \n",
            "R2: 0.89\n"
          ]
        }
      ]
    },
    {
      "cell_type": "markdown",
      "source": [
        "Model 2:"
      ],
      "metadata": {
        "id": "sDCRShN3b5hz"
      }
    },
    {
      "cell_type": "code",
      "source": [
        "Ran_Forest = RandomForestRegressor()"
      ],
      "metadata": {
        "id": "X4VO3tmob_99"
      },
      "execution_count": 164,
      "outputs": []
    },
    {
      "cell_type": "code",
      "source": [
        "#Using preprocessed data from Above with Random Forest Regression in pipeline\n",
        "Ran_Forest_pipe = make_pipeline(preprocessing, Ran_Forest)"
      ],
      "metadata": {
        "id": "IsaftGITdnMZ"
      },
      "execution_count": 165,
      "outputs": []
    },
    {
      "cell_type": "code",
      "source": [
        "Ran_Forest_pipe.fit(X_train, y_train)"
      ],
      "metadata": {
        "colab": {
          "base_uri": "https://localhost:8080/",
          "height": 230
        },
        "id": "C5f4H6U9d44u",
        "outputId": "3cb0f4f6-2e85-4e89-99c0-c167eb53743a"
      },
      "execution_count": 166,
      "outputs": [
        {
          "output_type": "execute_result",
          "data": {
            "text/plain": [
              "Pipeline(steps=[('columntransformer',\n",
              "                 ColumnTransformer(transformers=[('pipeline-1',\n",
              "                                                  Pipeline(steps=[('simpleimputer',\n",
              "                                                                   SimpleImputer()),\n",
              "                                                                  ('standardscaler',\n",
              "                                                                   StandardScaler())]),\n",
              "                                                  <sklearn.compose._column_transformer.make_column_selector object at 0x7ffaa30b7e10>),\n",
              "                                                 ('pipeline-2',\n",
              "                                                  Pipeline(steps=[('simpleimputer',\n",
              "                                                                   SimpleImputer(strategy='most_frequent')),\n",
              "                                                                  ('onehotencoder',\n",
              "                                                                   OneHotEncoder(handle_unknown='ignore',\n",
              "                                                                                 sparse=False))]),\n",
              "                                                  <sklearn.compose._column_transformer.make_column_selector object at 0x7ffaa32b1610>)])),\n",
              "                ('randomforestregressor', RandomForestRegressor())])"
            ],
            "text/html": [
              "<style>#sk-c629bc65-936c-460f-9a3f-140720e313b2 {color: black;background-color: white;}#sk-c629bc65-936c-460f-9a3f-140720e313b2 pre{padding: 0;}#sk-c629bc65-936c-460f-9a3f-140720e313b2 div.sk-toggleable {background-color: white;}#sk-c629bc65-936c-460f-9a3f-140720e313b2 label.sk-toggleable__label {cursor: pointer;display: block;width: 100%;margin-bottom: 0;padding: 0.3em;box-sizing: border-box;text-align: center;}#sk-c629bc65-936c-460f-9a3f-140720e313b2 label.sk-toggleable__label-arrow:before {content: \"▸\";float: left;margin-right: 0.25em;color: #696969;}#sk-c629bc65-936c-460f-9a3f-140720e313b2 label.sk-toggleable__label-arrow:hover:before {color: black;}#sk-c629bc65-936c-460f-9a3f-140720e313b2 div.sk-estimator:hover label.sk-toggleable__label-arrow:before {color: black;}#sk-c629bc65-936c-460f-9a3f-140720e313b2 div.sk-toggleable__content {max-height: 0;max-width: 0;overflow: hidden;text-align: left;background-color: #f0f8ff;}#sk-c629bc65-936c-460f-9a3f-140720e313b2 div.sk-toggleable__content pre {margin: 0.2em;color: black;border-radius: 0.25em;background-color: #f0f8ff;}#sk-c629bc65-936c-460f-9a3f-140720e313b2 input.sk-toggleable__control:checked~div.sk-toggleable__content {max-height: 200px;max-width: 100%;overflow: auto;}#sk-c629bc65-936c-460f-9a3f-140720e313b2 input.sk-toggleable__control:checked~label.sk-toggleable__label-arrow:before {content: \"▾\";}#sk-c629bc65-936c-460f-9a3f-140720e313b2 div.sk-estimator input.sk-toggleable__control:checked~label.sk-toggleable__label {background-color: #d4ebff;}#sk-c629bc65-936c-460f-9a3f-140720e313b2 div.sk-label input.sk-toggleable__control:checked~label.sk-toggleable__label {background-color: #d4ebff;}#sk-c629bc65-936c-460f-9a3f-140720e313b2 input.sk-hidden--visually {border: 0;clip: rect(1px 1px 1px 1px);clip: rect(1px, 1px, 1px, 1px);height: 1px;margin: -1px;overflow: hidden;padding: 0;position: absolute;width: 1px;}#sk-c629bc65-936c-460f-9a3f-140720e313b2 div.sk-estimator {font-family: monospace;background-color: #f0f8ff;border: 1px dotted black;border-radius: 0.25em;box-sizing: border-box;margin-bottom: 0.5em;}#sk-c629bc65-936c-460f-9a3f-140720e313b2 div.sk-estimator:hover {background-color: #d4ebff;}#sk-c629bc65-936c-460f-9a3f-140720e313b2 div.sk-parallel-item::after {content: \"\";width: 100%;border-bottom: 1px solid gray;flex-grow: 1;}#sk-c629bc65-936c-460f-9a3f-140720e313b2 div.sk-label:hover label.sk-toggleable__label {background-color: #d4ebff;}#sk-c629bc65-936c-460f-9a3f-140720e313b2 div.sk-serial::before {content: \"\";position: absolute;border-left: 1px solid gray;box-sizing: border-box;top: 2em;bottom: 0;left: 50%;}#sk-c629bc65-936c-460f-9a3f-140720e313b2 div.sk-serial {display: flex;flex-direction: column;align-items: center;background-color: white;padding-right: 0.2em;padding-left: 0.2em;}#sk-c629bc65-936c-460f-9a3f-140720e313b2 div.sk-item {z-index: 1;}#sk-c629bc65-936c-460f-9a3f-140720e313b2 div.sk-parallel {display: flex;align-items: stretch;justify-content: center;background-color: white;}#sk-c629bc65-936c-460f-9a3f-140720e313b2 div.sk-parallel::before {content: \"\";position: absolute;border-left: 1px solid gray;box-sizing: border-box;top: 2em;bottom: 0;left: 50%;}#sk-c629bc65-936c-460f-9a3f-140720e313b2 div.sk-parallel-item {display: flex;flex-direction: column;position: relative;background-color: white;}#sk-c629bc65-936c-460f-9a3f-140720e313b2 div.sk-parallel-item:first-child::after {align-self: flex-end;width: 50%;}#sk-c629bc65-936c-460f-9a3f-140720e313b2 div.sk-parallel-item:last-child::after {align-self: flex-start;width: 50%;}#sk-c629bc65-936c-460f-9a3f-140720e313b2 div.sk-parallel-item:only-child::after {width: 0;}#sk-c629bc65-936c-460f-9a3f-140720e313b2 div.sk-dashed-wrapped {border: 1px dashed gray;margin: 0 0.4em 0.5em 0.4em;box-sizing: border-box;padding-bottom: 0.4em;background-color: white;position: relative;}#sk-c629bc65-936c-460f-9a3f-140720e313b2 div.sk-label label {font-family: monospace;font-weight: bold;background-color: white;display: inline-block;line-height: 1.2em;}#sk-c629bc65-936c-460f-9a3f-140720e313b2 div.sk-label-container {position: relative;z-index: 2;text-align: center;}#sk-c629bc65-936c-460f-9a3f-140720e313b2 div.sk-container {/* jupyter's `normalize.less` sets `[hidden] { display: none; }` but bootstrap.min.css set `[hidden] { display: none !important; }` so we also need the `!important` here to be able to override the default hidden behavior on the sphinx rendered scikit-learn.org. See: https://github.com/scikit-learn/scikit-learn/issues/21755 */display: inline-block !important;position: relative;}#sk-c629bc65-936c-460f-9a3f-140720e313b2 div.sk-text-repr-fallback {display: none;}</style><div id=\"sk-c629bc65-936c-460f-9a3f-140720e313b2\" class=\"sk-top-container\"><div class=\"sk-text-repr-fallback\"><pre>Pipeline(steps=[(&#x27;columntransformer&#x27;,\n",
              "                 ColumnTransformer(transformers=[(&#x27;pipeline-1&#x27;,\n",
              "                                                  Pipeline(steps=[(&#x27;simpleimputer&#x27;,\n",
              "                                                                   SimpleImputer()),\n",
              "                                                                  (&#x27;standardscaler&#x27;,\n",
              "                                                                   StandardScaler())]),\n",
              "                                                  &lt;sklearn.compose._column_transformer.make_column_selector object at 0x7ffaa30b7e10&gt;),\n",
              "                                                 (&#x27;pipeline-2&#x27;,\n",
              "                                                  Pipeline(steps=[(&#x27;simpleimputer&#x27;,\n",
              "                                                                   SimpleImputer(strategy=&#x27;most_frequent&#x27;)),\n",
              "                                                                  (&#x27;onehotencoder&#x27;,\n",
              "                                                                   OneHotEncoder(handle_unknown=&#x27;ignore&#x27;,\n",
              "                                                                                 sparse=False))]),\n",
              "                                                  &lt;sklearn.compose._column_transformer.make_column_selector object at 0x7ffaa32b1610&gt;)])),\n",
              "                (&#x27;randomforestregressor&#x27;, RandomForestRegressor())])</pre><b>Please rerun this cell to show the HTML repr or trust the notebook.</b></div><div class=\"sk-container\" hidden><div class=\"sk-item sk-dashed-wrapped\"><div class=\"sk-label-container\"><div class=\"sk-label sk-toggleable\"><input class=\"sk-toggleable__control sk-hidden--visually\" id=\"6851ab86-2f6a-4ea8-ad53-fe88ac59e7dd\" type=\"checkbox\" ><label for=\"6851ab86-2f6a-4ea8-ad53-fe88ac59e7dd\" class=\"sk-toggleable__label sk-toggleable__label-arrow\">Pipeline</label><div class=\"sk-toggleable__content\"><pre>Pipeline(steps=[(&#x27;columntransformer&#x27;,\n",
              "                 ColumnTransformer(transformers=[(&#x27;pipeline-1&#x27;,\n",
              "                                                  Pipeline(steps=[(&#x27;simpleimputer&#x27;,\n",
              "                                                                   SimpleImputer()),\n",
              "                                                                  (&#x27;standardscaler&#x27;,\n",
              "                                                                   StandardScaler())]),\n",
              "                                                  &lt;sklearn.compose._column_transformer.make_column_selector object at 0x7ffaa30b7e10&gt;),\n",
              "                                                 (&#x27;pipeline-2&#x27;,\n",
              "                                                  Pipeline(steps=[(&#x27;simpleimputer&#x27;,\n",
              "                                                                   SimpleImputer(strategy=&#x27;most_frequent&#x27;)),\n",
              "                                                                  (&#x27;onehotencoder&#x27;,\n",
              "                                                                   OneHotEncoder(handle_unknown=&#x27;ignore&#x27;,\n",
              "                                                                                 sparse=False))]),\n",
              "                                                  &lt;sklearn.compose._column_transformer.make_column_selector object at 0x7ffaa32b1610&gt;)])),\n",
              "                (&#x27;randomforestregressor&#x27;, RandomForestRegressor())])</pre></div></div></div><div class=\"sk-serial\"><div class=\"sk-item sk-dashed-wrapped\"><div class=\"sk-label-container\"><div class=\"sk-label sk-toggleable\"><input class=\"sk-toggleable__control sk-hidden--visually\" id=\"ed39a3ad-6d44-4eec-8e9d-0c06341c1715\" type=\"checkbox\" ><label for=\"ed39a3ad-6d44-4eec-8e9d-0c06341c1715\" class=\"sk-toggleable__label sk-toggleable__label-arrow\">columntransformer: ColumnTransformer</label><div class=\"sk-toggleable__content\"><pre>ColumnTransformer(transformers=[(&#x27;pipeline-1&#x27;,\n",
              "                                 Pipeline(steps=[(&#x27;simpleimputer&#x27;,\n",
              "                                                  SimpleImputer()),\n",
              "                                                 (&#x27;standardscaler&#x27;,\n",
              "                                                  StandardScaler())]),\n",
              "                                 &lt;sklearn.compose._column_transformer.make_column_selector object at 0x7ffaa30b7e10&gt;),\n",
              "                                (&#x27;pipeline-2&#x27;,\n",
              "                                 Pipeline(steps=[(&#x27;simpleimputer&#x27;,\n",
              "                                                  SimpleImputer(strategy=&#x27;most_frequent&#x27;)),\n",
              "                                                 (&#x27;onehotencoder&#x27;,\n",
              "                                                  OneHotEncoder(handle_unknown=&#x27;ignore&#x27;,\n",
              "                                                                sparse=False))]),\n",
              "                                 &lt;sklearn.compose._column_transformer.make_column_selector object at 0x7ffaa32b1610&gt;)])</pre></div></div></div><div class=\"sk-parallel\"><div class=\"sk-parallel-item\"><div class=\"sk-item\"><div class=\"sk-label-container\"><div class=\"sk-label sk-toggleable\"><input class=\"sk-toggleable__control sk-hidden--visually\" id=\"c3199772-ee07-4c8b-870d-8335355a6e27\" type=\"checkbox\" ><label for=\"c3199772-ee07-4c8b-870d-8335355a6e27\" class=\"sk-toggleable__label sk-toggleable__label-arrow\">pipeline-1</label><div class=\"sk-toggleable__content\"><pre>&lt;sklearn.compose._column_transformer.make_column_selector object at 0x7ffaa30b7e10&gt;</pre></div></div></div><div class=\"sk-serial\"><div class=\"sk-item\"><div class=\"sk-serial\"><div class=\"sk-item\"><div class=\"sk-estimator sk-toggleable\"><input class=\"sk-toggleable__control sk-hidden--visually\" id=\"8a3e628b-af07-436e-adb4-aa2d9d8f69fd\" type=\"checkbox\" ><label for=\"8a3e628b-af07-436e-adb4-aa2d9d8f69fd\" class=\"sk-toggleable__label sk-toggleable__label-arrow\">SimpleImputer</label><div class=\"sk-toggleable__content\"><pre>SimpleImputer()</pre></div></div></div><div class=\"sk-item\"><div class=\"sk-estimator sk-toggleable\"><input class=\"sk-toggleable__control sk-hidden--visually\" id=\"ee87eb4f-46e1-4e8b-b479-fa175e4f73fc\" type=\"checkbox\" ><label for=\"ee87eb4f-46e1-4e8b-b479-fa175e4f73fc\" class=\"sk-toggleable__label sk-toggleable__label-arrow\">StandardScaler</label><div class=\"sk-toggleable__content\"><pre>StandardScaler()</pre></div></div></div></div></div></div></div></div><div class=\"sk-parallel-item\"><div class=\"sk-item\"><div class=\"sk-label-container\"><div class=\"sk-label sk-toggleable\"><input class=\"sk-toggleable__control sk-hidden--visually\" id=\"115f0f03-4583-41e7-a67a-cba38b0efea8\" type=\"checkbox\" ><label for=\"115f0f03-4583-41e7-a67a-cba38b0efea8\" class=\"sk-toggleable__label sk-toggleable__label-arrow\">pipeline-2</label><div class=\"sk-toggleable__content\"><pre>&lt;sklearn.compose._column_transformer.make_column_selector object at 0x7ffaa32b1610&gt;</pre></div></div></div><div class=\"sk-serial\"><div class=\"sk-item\"><div class=\"sk-serial\"><div class=\"sk-item\"><div class=\"sk-estimator sk-toggleable\"><input class=\"sk-toggleable__control sk-hidden--visually\" id=\"e0dfc3ed-f7e2-4715-a145-8e26167a1bd5\" type=\"checkbox\" ><label for=\"e0dfc3ed-f7e2-4715-a145-8e26167a1bd5\" class=\"sk-toggleable__label sk-toggleable__label-arrow\">SimpleImputer</label><div class=\"sk-toggleable__content\"><pre>SimpleImputer(strategy=&#x27;most_frequent&#x27;)</pre></div></div></div><div class=\"sk-item\"><div class=\"sk-estimator sk-toggleable\"><input class=\"sk-toggleable__control sk-hidden--visually\" id=\"7eb7f258-f7df-4e51-905e-586a38be6bf1\" type=\"checkbox\" ><label for=\"7eb7f258-f7df-4e51-905e-586a38be6bf1\" class=\"sk-toggleable__label sk-toggleable__label-arrow\">OneHotEncoder</label><div class=\"sk-toggleable__content\"><pre>OneHotEncoder(handle_unknown=&#x27;ignore&#x27;, sparse=False)</pre></div></div></div></div></div></div></div></div></div></div><div class=\"sk-item\"><div class=\"sk-estimator sk-toggleable\"><input class=\"sk-toggleable__control sk-hidden--visually\" id=\"87ea459e-c2ae-417a-b710-88c935e33bc5\" type=\"checkbox\" ><label for=\"87ea459e-c2ae-417a-b710-88c935e33bc5\" class=\"sk-toggleable__label sk-toggleable__label-arrow\">RandomForestRegressor</label><div class=\"sk-toggleable__content\"><pre>RandomForestRegressor()</pre></div></div></div></div></div></div></div>"
            ]
          },
          "metadata": {},
          "execution_count": 166
        }
      ]
    },
    {
      "cell_type": "code",
      "source": [
        "#Evaluating the Random Forest model performance on both the training set and the test set using the R-squared score.\n",
        "print('Training')\n",
        "evaluate_regression(y_train, Ran_Forest_pipe.predict(X_train))\n",
        "print('Testing')\n",
        "evaluate_regression(y_test, Ran_Forest_pipe.predict(X_test))"
      ],
      "metadata": {
        "colab": {
          "base_uri": "https://localhost:8080/"
        },
        "id": "p3xLQE_yfntf",
        "outputId": "e0b0419f-329f-4273-bc3d-76e6a3fa1b76"
      },
      "execution_count": 167,
      "outputs": [
        {
          "output_type": "stream",
          "name": "stdout",
          "text": [
            "Training\n",
            "scores: \n",
            "MAE: 17.36 \n",
            "MSE: 1,154.31 \n",
            "RMSE: 33.98 \n",
            "R2: 0.99\n",
            "Testing\n",
            "scores: \n",
            "MAE: 49.55 \n",
            "MSE: 5,945.02 \n",
            "RMSE: 77.10 \n",
            "R2: 0.95\n"
          ]
        }
      ]
    },
    {
      "cell_type": "markdown",
      "source": [
        "Tuning Model 2:"
      ],
      "metadata": {
        "id": "jPMU8u1_gEwn"
      }
    },
    {
      "cell_type": "code",
      "source": [
        "Ran_Forest.get_params()"
      ],
      "metadata": {
        "colab": {
          "base_uri": "https://localhost:8080/"
        },
        "id": "2EtxlfNYgRBj",
        "outputId": "98656b38-32e5-48c1-9de2-ee68a8113e84"
      },
      "execution_count": 168,
      "outputs": [
        {
          "output_type": "execute_result",
          "data": {
            "text/plain": [
              "{'bootstrap': True,\n",
              " 'ccp_alpha': 0.0,\n",
              " 'criterion': 'squared_error',\n",
              " 'max_depth': None,\n",
              " 'max_features': 'auto',\n",
              " 'max_leaf_nodes': None,\n",
              " 'max_samples': None,\n",
              " 'min_impurity_decrease': 0.0,\n",
              " 'min_samples_leaf': 1,\n",
              " 'min_samples_split': 2,\n",
              " 'min_weight_fraction_leaf': 0.0,\n",
              " 'n_estimators': 100,\n",
              " 'n_jobs': None,\n",
              " 'oob_score': False,\n",
              " 'random_state': None,\n",
              " 'verbose': 0,\n",
              " 'warm_start': False}"
            ]
          },
          "metadata": {},
          "execution_count": 168
        }
      ]
    },
    {
      "cell_type": "code",
      "source": [
        "Ran_Forest_2 = RandomForestRegressor(max_depth=7, n_estimators=50, max_samples=50)"
      ],
      "metadata": {
        "id": "pmnJphtxjGjY"
      },
      "execution_count": 335,
      "outputs": []
    },
    {
      "cell_type": "code",
      "source": [
        "#Using preprocessed data from Above with tuned Random Forest Regression in pipeline\n",
        "Ran_Forest_pipe_2 = make_pipeline(preprocessing, Ran_Forest_2)"
      ],
      "metadata": {
        "id": "8pKSsEGZiKL_"
      },
      "execution_count": 336,
      "outputs": []
    },
    {
      "cell_type": "code",
      "source": [
        "Ran_Forest_pipe_2.fit(X_train,y_train)"
      ],
      "metadata": {
        "colab": {
          "base_uri": "https://localhost:8080/",
          "height": 230
        },
        "id": "IHPwiuslibjO",
        "outputId": "8fc33371-b561-4dfb-9a76-d99d92112d58"
      },
      "execution_count": 337,
      "outputs": [
        {
          "output_type": "execute_result",
          "data": {
            "text/plain": [
              "Pipeline(steps=[('columntransformer',\n",
              "                 ColumnTransformer(transformers=[('pipeline-1',\n",
              "                                                  Pipeline(steps=[('simpleimputer',\n",
              "                                                                   SimpleImputer()),\n",
              "                                                                  ('standardscaler',\n",
              "                                                                   StandardScaler())]),\n",
              "                                                  <sklearn.compose._column_transformer.make_column_selector object at 0x7ffaa30b7e10>),\n",
              "                                                 ('pipeline-2',\n",
              "                                                  Pipeline(steps=[('simpleimputer',\n",
              "                                                                   SimpleImputer(strategy='most_frequent')),\n",
              "                                                                  ('onehotencoder',\n",
              "                                                                   OneHotEncoder(handle_unknown='ignore',\n",
              "                                                                                 sparse=False))]),\n",
              "                                                  <sklearn.compose._column_transformer.make_column_selector object at 0x7ffaa32b1610>)])),\n",
              "                ('randomforestregressor',\n",
              "                 RandomForestRegressor(max_depth=7, max_samples=50,\n",
              "                                       n_estimators=50))])"
            ],
            "text/html": [
              "<style>#sk-338b7a88-99e6-4023-b970-1c4ab7b55e23 {color: black;background-color: white;}#sk-338b7a88-99e6-4023-b970-1c4ab7b55e23 pre{padding: 0;}#sk-338b7a88-99e6-4023-b970-1c4ab7b55e23 div.sk-toggleable {background-color: white;}#sk-338b7a88-99e6-4023-b970-1c4ab7b55e23 label.sk-toggleable__label {cursor: pointer;display: block;width: 100%;margin-bottom: 0;padding: 0.3em;box-sizing: border-box;text-align: center;}#sk-338b7a88-99e6-4023-b970-1c4ab7b55e23 label.sk-toggleable__label-arrow:before {content: \"▸\";float: left;margin-right: 0.25em;color: #696969;}#sk-338b7a88-99e6-4023-b970-1c4ab7b55e23 label.sk-toggleable__label-arrow:hover:before {color: black;}#sk-338b7a88-99e6-4023-b970-1c4ab7b55e23 div.sk-estimator:hover label.sk-toggleable__label-arrow:before {color: black;}#sk-338b7a88-99e6-4023-b970-1c4ab7b55e23 div.sk-toggleable__content {max-height: 0;max-width: 0;overflow: hidden;text-align: left;background-color: #f0f8ff;}#sk-338b7a88-99e6-4023-b970-1c4ab7b55e23 div.sk-toggleable__content pre {margin: 0.2em;color: black;border-radius: 0.25em;background-color: #f0f8ff;}#sk-338b7a88-99e6-4023-b970-1c4ab7b55e23 input.sk-toggleable__control:checked~div.sk-toggleable__content {max-height: 200px;max-width: 100%;overflow: auto;}#sk-338b7a88-99e6-4023-b970-1c4ab7b55e23 input.sk-toggleable__control:checked~label.sk-toggleable__label-arrow:before {content: \"▾\";}#sk-338b7a88-99e6-4023-b970-1c4ab7b55e23 div.sk-estimator input.sk-toggleable__control:checked~label.sk-toggleable__label {background-color: #d4ebff;}#sk-338b7a88-99e6-4023-b970-1c4ab7b55e23 div.sk-label input.sk-toggleable__control:checked~label.sk-toggleable__label {background-color: #d4ebff;}#sk-338b7a88-99e6-4023-b970-1c4ab7b55e23 input.sk-hidden--visually {border: 0;clip: rect(1px 1px 1px 1px);clip: rect(1px, 1px, 1px, 1px);height: 1px;margin: -1px;overflow: hidden;padding: 0;position: absolute;width: 1px;}#sk-338b7a88-99e6-4023-b970-1c4ab7b55e23 div.sk-estimator {font-family: monospace;background-color: #f0f8ff;border: 1px dotted black;border-radius: 0.25em;box-sizing: border-box;margin-bottom: 0.5em;}#sk-338b7a88-99e6-4023-b970-1c4ab7b55e23 div.sk-estimator:hover {background-color: #d4ebff;}#sk-338b7a88-99e6-4023-b970-1c4ab7b55e23 div.sk-parallel-item::after {content: \"\";width: 100%;border-bottom: 1px solid gray;flex-grow: 1;}#sk-338b7a88-99e6-4023-b970-1c4ab7b55e23 div.sk-label:hover label.sk-toggleable__label {background-color: #d4ebff;}#sk-338b7a88-99e6-4023-b970-1c4ab7b55e23 div.sk-serial::before {content: \"\";position: absolute;border-left: 1px solid gray;box-sizing: border-box;top: 2em;bottom: 0;left: 50%;}#sk-338b7a88-99e6-4023-b970-1c4ab7b55e23 div.sk-serial {display: flex;flex-direction: column;align-items: center;background-color: white;padding-right: 0.2em;padding-left: 0.2em;}#sk-338b7a88-99e6-4023-b970-1c4ab7b55e23 div.sk-item {z-index: 1;}#sk-338b7a88-99e6-4023-b970-1c4ab7b55e23 div.sk-parallel {display: flex;align-items: stretch;justify-content: center;background-color: white;}#sk-338b7a88-99e6-4023-b970-1c4ab7b55e23 div.sk-parallel::before {content: \"\";position: absolute;border-left: 1px solid gray;box-sizing: border-box;top: 2em;bottom: 0;left: 50%;}#sk-338b7a88-99e6-4023-b970-1c4ab7b55e23 div.sk-parallel-item {display: flex;flex-direction: column;position: relative;background-color: white;}#sk-338b7a88-99e6-4023-b970-1c4ab7b55e23 div.sk-parallel-item:first-child::after {align-self: flex-end;width: 50%;}#sk-338b7a88-99e6-4023-b970-1c4ab7b55e23 div.sk-parallel-item:last-child::after {align-self: flex-start;width: 50%;}#sk-338b7a88-99e6-4023-b970-1c4ab7b55e23 div.sk-parallel-item:only-child::after {width: 0;}#sk-338b7a88-99e6-4023-b970-1c4ab7b55e23 div.sk-dashed-wrapped {border: 1px dashed gray;margin: 0 0.4em 0.5em 0.4em;box-sizing: border-box;padding-bottom: 0.4em;background-color: white;position: relative;}#sk-338b7a88-99e6-4023-b970-1c4ab7b55e23 div.sk-label label {font-family: monospace;font-weight: bold;background-color: white;display: inline-block;line-height: 1.2em;}#sk-338b7a88-99e6-4023-b970-1c4ab7b55e23 div.sk-label-container {position: relative;z-index: 2;text-align: center;}#sk-338b7a88-99e6-4023-b970-1c4ab7b55e23 div.sk-container {/* jupyter's `normalize.less` sets `[hidden] { display: none; }` but bootstrap.min.css set `[hidden] { display: none !important; }` so we also need the `!important` here to be able to override the default hidden behavior on the sphinx rendered scikit-learn.org. See: https://github.com/scikit-learn/scikit-learn/issues/21755 */display: inline-block !important;position: relative;}#sk-338b7a88-99e6-4023-b970-1c4ab7b55e23 div.sk-text-repr-fallback {display: none;}</style><div id=\"sk-338b7a88-99e6-4023-b970-1c4ab7b55e23\" class=\"sk-top-container\"><div class=\"sk-text-repr-fallback\"><pre>Pipeline(steps=[(&#x27;columntransformer&#x27;,\n",
              "                 ColumnTransformer(transformers=[(&#x27;pipeline-1&#x27;,\n",
              "                                                  Pipeline(steps=[(&#x27;simpleimputer&#x27;,\n",
              "                                                                   SimpleImputer()),\n",
              "                                                                  (&#x27;standardscaler&#x27;,\n",
              "                                                                   StandardScaler())]),\n",
              "                                                  &lt;sklearn.compose._column_transformer.make_column_selector object at 0x7ffaa30b7e10&gt;),\n",
              "                                                 (&#x27;pipeline-2&#x27;,\n",
              "                                                  Pipeline(steps=[(&#x27;simpleimputer&#x27;,\n",
              "                                                                   SimpleImputer(strategy=&#x27;most_frequent&#x27;)),\n",
              "                                                                  (&#x27;onehotencoder&#x27;,\n",
              "                                                                   OneHotEncoder(handle_unknown=&#x27;ignore&#x27;,\n",
              "                                                                                 sparse=False))]),\n",
              "                                                  &lt;sklearn.compose._column_transformer.make_column_selector object at 0x7ffaa32b1610&gt;)])),\n",
              "                (&#x27;randomforestregressor&#x27;,\n",
              "                 RandomForestRegressor(max_depth=7, max_samples=50,\n",
              "                                       n_estimators=50))])</pre><b>Please rerun this cell to show the HTML repr or trust the notebook.</b></div><div class=\"sk-container\" hidden><div class=\"sk-item sk-dashed-wrapped\"><div class=\"sk-label-container\"><div class=\"sk-label sk-toggleable\"><input class=\"sk-toggleable__control sk-hidden--visually\" id=\"52558098-a1a8-43f2-a80a-cfb6de0c0dc7\" type=\"checkbox\" ><label for=\"52558098-a1a8-43f2-a80a-cfb6de0c0dc7\" class=\"sk-toggleable__label sk-toggleable__label-arrow\">Pipeline</label><div class=\"sk-toggleable__content\"><pre>Pipeline(steps=[(&#x27;columntransformer&#x27;,\n",
              "                 ColumnTransformer(transformers=[(&#x27;pipeline-1&#x27;,\n",
              "                                                  Pipeline(steps=[(&#x27;simpleimputer&#x27;,\n",
              "                                                                   SimpleImputer()),\n",
              "                                                                  (&#x27;standardscaler&#x27;,\n",
              "                                                                   StandardScaler())]),\n",
              "                                                  &lt;sklearn.compose._column_transformer.make_column_selector object at 0x7ffaa30b7e10&gt;),\n",
              "                                                 (&#x27;pipeline-2&#x27;,\n",
              "                                                  Pipeline(steps=[(&#x27;simpleimputer&#x27;,\n",
              "                                                                   SimpleImputer(strategy=&#x27;most_frequent&#x27;)),\n",
              "                                                                  (&#x27;onehotencoder&#x27;,\n",
              "                                                                   OneHotEncoder(handle_unknown=&#x27;ignore&#x27;,\n",
              "                                                                                 sparse=False))]),\n",
              "                                                  &lt;sklearn.compose._column_transformer.make_column_selector object at 0x7ffaa32b1610&gt;)])),\n",
              "                (&#x27;randomforestregressor&#x27;,\n",
              "                 RandomForestRegressor(max_depth=7, max_samples=50,\n",
              "                                       n_estimators=50))])</pre></div></div></div><div class=\"sk-serial\"><div class=\"sk-item sk-dashed-wrapped\"><div class=\"sk-label-container\"><div class=\"sk-label sk-toggleable\"><input class=\"sk-toggleable__control sk-hidden--visually\" id=\"07fc8111-0fec-4f25-9d14-88bd84edb68c\" type=\"checkbox\" ><label for=\"07fc8111-0fec-4f25-9d14-88bd84edb68c\" class=\"sk-toggleable__label sk-toggleable__label-arrow\">columntransformer: ColumnTransformer</label><div class=\"sk-toggleable__content\"><pre>ColumnTransformer(transformers=[(&#x27;pipeline-1&#x27;,\n",
              "                                 Pipeline(steps=[(&#x27;simpleimputer&#x27;,\n",
              "                                                  SimpleImputer()),\n",
              "                                                 (&#x27;standardscaler&#x27;,\n",
              "                                                  StandardScaler())]),\n",
              "                                 &lt;sklearn.compose._column_transformer.make_column_selector object at 0x7ffaa30b7e10&gt;),\n",
              "                                (&#x27;pipeline-2&#x27;,\n",
              "                                 Pipeline(steps=[(&#x27;simpleimputer&#x27;,\n",
              "                                                  SimpleImputer(strategy=&#x27;most_frequent&#x27;)),\n",
              "                                                 (&#x27;onehotencoder&#x27;,\n",
              "                                                  OneHotEncoder(handle_unknown=&#x27;ignore&#x27;,\n",
              "                                                                sparse=False))]),\n",
              "                                 &lt;sklearn.compose._column_transformer.make_column_selector object at 0x7ffaa32b1610&gt;)])</pre></div></div></div><div class=\"sk-parallel\"><div class=\"sk-parallel-item\"><div class=\"sk-item\"><div class=\"sk-label-container\"><div class=\"sk-label sk-toggleable\"><input class=\"sk-toggleable__control sk-hidden--visually\" id=\"bc3e878e-2256-4a72-8c01-0d8abbaba002\" type=\"checkbox\" ><label for=\"bc3e878e-2256-4a72-8c01-0d8abbaba002\" class=\"sk-toggleable__label sk-toggleable__label-arrow\">pipeline-1</label><div class=\"sk-toggleable__content\"><pre>&lt;sklearn.compose._column_transformer.make_column_selector object at 0x7ffaa30b7e10&gt;</pre></div></div></div><div class=\"sk-serial\"><div class=\"sk-item\"><div class=\"sk-serial\"><div class=\"sk-item\"><div class=\"sk-estimator sk-toggleable\"><input class=\"sk-toggleable__control sk-hidden--visually\" id=\"8ae0034b-42f0-4ff9-89b4-31fa956d3c39\" type=\"checkbox\" ><label for=\"8ae0034b-42f0-4ff9-89b4-31fa956d3c39\" class=\"sk-toggleable__label sk-toggleable__label-arrow\">SimpleImputer</label><div class=\"sk-toggleable__content\"><pre>SimpleImputer()</pre></div></div></div><div class=\"sk-item\"><div class=\"sk-estimator sk-toggleable\"><input class=\"sk-toggleable__control sk-hidden--visually\" id=\"730c48c0-774b-4ba8-a858-c0e650b1ebf5\" type=\"checkbox\" ><label for=\"730c48c0-774b-4ba8-a858-c0e650b1ebf5\" class=\"sk-toggleable__label sk-toggleable__label-arrow\">StandardScaler</label><div class=\"sk-toggleable__content\"><pre>StandardScaler()</pre></div></div></div></div></div></div></div></div><div class=\"sk-parallel-item\"><div class=\"sk-item\"><div class=\"sk-label-container\"><div class=\"sk-label sk-toggleable\"><input class=\"sk-toggleable__control sk-hidden--visually\" id=\"92d2a880-03c0-4cce-9c21-6a7bb8507ee0\" type=\"checkbox\" ><label for=\"92d2a880-03c0-4cce-9c21-6a7bb8507ee0\" class=\"sk-toggleable__label sk-toggleable__label-arrow\">pipeline-2</label><div class=\"sk-toggleable__content\"><pre>&lt;sklearn.compose._column_transformer.make_column_selector object at 0x7ffaa32b1610&gt;</pre></div></div></div><div class=\"sk-serial\"><div class=\"sk-item\"><div class=\"sk-serial\"><div class=\"sk-item\"><div class=\"sk-estimator sk-toggleable\"><input class=\"sk-toggleable__control sk-hidden--visually\" id=\"60cc8cb4-b437-4f6c-b7e4-79112ffc759a\" type=\"checkbox\" ><label for=\"60cc8cb4-b437-4f6c-b7e4-79112ffc759a\" class=\"sk-toggleable__label sk-toggleable__label-arrow\">SimpleImputer</label><div class=\"sk-toggleable__content\"><pre>SimpleImputer(strategy=&#x27;most_frequent&#x27;)</pre></div></div></div><div class=\"sk-item\"><div class=\"sk-estimator sk-toggleable\"><input class=\"sk-toggleable__control sk-hidden--visually\" id=\"ea423b2a-dd51-443f-bd6d-8a2af6e7442e\" type=\"checkbox\" ><label for=\"ea423b2a-dd51-443f-bd6d-8a2af6e7442e\" class=\"sk-toggleable__label sk-toggleable__label-arrow\">OneHotEncoder</label><div class=\"sk-toggleable__content\"><pre>OneHotEncoder(handle_unknown=&#x27;ignore&#x27;, sparse=False)</pre></div></div></div></div></div></div></div></div></div></div><div class=\"sk-item\"><div class=\"sk-estimator sk-toggleable\"><input class=\"sk-toggleable__control sk-hidden--visually\" id=\"7cbc7040-51f9-4781-948c-f924fcd97fcd\" type=\"checkbox\" ><label for=\"7cbc7040-51f9-4781-948c-f924fcd97fcd\" class=\"sk-toggleable__label sk-toggleable__label-arrow\">RandomForestRegressor</label><div class=\"sk-toggleable__content\"><pre>RandomForestRegressor(max_depth=7, max_samples=50, n_estimators=50)</pre></div></div></div></div></div></div></div>"
            ]
          },
          "metadata": {},
          "execution_count": 337
        }
      ]
    },
    {
      "cell_type": "code",
      "source": [
        "#Evaluating the tuned Random Forest model performance on both the training set and the test set using the R-squared score.\n",
        "#did a little better than default settings when using max_depth at 7, max_sample =50\n",
        "print('Training')\n",
        "evaluate_regression(y_train, Ran_Forest_pipe_2.predict(X_train))\n",
        "print('Testing')\n",
        "evaluate_regression(y_test, Ran_Forest_pipe_2.predict(X_test))"
      ],
      "metadata": {
        "colab": {
          "base_uri": "https://localhost:8080/"
        },
        "id": "b9WFylSXj4N_",
        "outputId": "91784496-2f54-4bfa-bb2a-102ff2c6d5f4"
      },
      "execution_count": 338,
      "outputs": [
        {
          "output_type": "stream",
          "name": "stdout",
          "text": [
            "Training\n",
            "scores: \n",
            "MAE: 35.93 \n",
            "MSE: 5,074.87 \n",
            "RMSE: 71.24 \n",
            "R2: 0.96\n",
            "Testing\n",
            "scores: \n",
            "MAE: 44.98 \n",
            "MSE: 4,528.55 \n",
            "RMSE: 67.29 \n",
            "R2: 0.97\n"
          ]
        }
      ]
    }
  ]
}