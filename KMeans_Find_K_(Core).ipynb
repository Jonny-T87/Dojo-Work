{
  "nbformat": 4,
  "nbformat_minor": 0,
  "metadata": {
    "colab": {
      "name": "KMeans: Find K (Core).ipynb",
      "provenance": [],
      "collapsed_sections": [],
      "mount_file_id": "1JgnwOLTUFh7qJxBmzjSZeSGRnRt2QLdP",
      "authorship_tag": "ABX9TyNwpn4K9LvhIvjOetnYLc4p",
      "include_colab_link": true
    },
    "kernelspec": {
      "name": "python3",
      "display_name": "Python 3"
    },
    "language_info": {
      "name": "python"
    }
  },
  "cells": [
    {
      "cell_type": "markdown",
      "metadata": {
        "id": "view-in-github",
        "colab_type": "text"
      },
      "source": [
        "<a href=\"https://colab.research.google.com/github/Jonny-T87/Dojo-Work/blob/main/KMeans_Find_K_(Core).ipynb\" target=\"_parent\"><img src=\"https://colab.research.google.com/assets/colab-badge.svg\" alt=\"Open In Colab\"/></a>"
      ]
    },
    {
      "cell_type": "markdown",
      "source": [
        "Jonny Tesfahun\n",
        "- 07/18/22"
      ],
      "metadata": {
        "id": "fCvBl7IkHym5"
      }
    },
    {
      "cell_type": "markdown",
      "source": [
        "1. Use KMeans to create various customer segments.\n",
        "- Use an Elbow Plot of inertia\n",
        "- And a plot of Silhouette Scores\n",
        "- Choose a K based on the results.\n",
        "2. Submit your notebook below."
      ],
      "metadata": {
        "id": "0ireQDtJH_El"
      }
    },
    {
      "cell_type": "markdown",
      "source": [
        "##Loading and Cleaning Data"
      ],
      "metadata": {
        "id": "A1E8q7g0V_PI"
      }
    },
    {
      "cell_type": "code",
      "source": [
        "import numpy as np\n",
        "import matplotlib.pyplot as plt\n",
        "import pandas as pd\n",
        "\n",
        "from sklearn.preprocessing import StandardScaler\n",
        "from sklearn.cluster import KMeans\n",
        "from sklearn.metrics import silhouette_score"
      ],
      "metadata": {
        "id": "AsHV2nIAIpR3"
      },
      "execution_count": 112,
      "outputs": []
    },
    {
      "cell_type": "code",
      "execution_count": 113,
      "metadata": {
        "colab": {
          "base_uri": "https://localhost:8080/",
          "height": 206
        },
        "id": "4gG2zaw_HtCP",
        "outputId": "c3437c2d-9c3f-4e36-bec3-3a6f45b939a1"
      },
      "outputs": [
        {
          "output_type": "execute_result",
          "data": {
            "text/plain": [
              "   Other Debt  Age  DebtIncomeRatio  Edu  Defaulted  Card Debt  Income  \\\n",
              "0       1.073   41              6.3    2        0.0      0.124      19   \n",
              "1       8.218   47             12.8    1        0.0      4.582     100   \n",
              "2       5.802   33             20.9    2        1.0      6.111      57   \n",
              "3       0.516   29              6.3    2        0.0      0.681      19   \n",
              "4       8.908   47              7.2    1        0.0      9.308     253   \n",
              "\n",
              "   Years Employed  \n",
              "0               6  \n",
              "1              26  \n",
              "2              10  \n",
              "3               4  \n",
              "4              31  "
            ],
            "text/html": [
              "\n",
              "  <div id=\"df-4822346d-91c0-402d-993b-53326e43bbd8\">\n",
              "    <div class=\"colab-df-container\">\n",
              "      <div>\n",
              "<style scoped>\n",
              "    .dataframe tbody tr th:only-of-type {\n",
              "        vertical-align: middle;\n",
              "    }\n",
              "\n",
              "    .dataframe tbody tr th {\n",
              "        vertical-align: top;\n",
              "    }\n",
              "\n",
              "    .dataframe thead th {\n",
              "        text-align: right;\n",
              "    }\n",
              "</style>\n",
              "<table border=\"1\" class=\"dataframe\">\n",
              "  <thead>\n",
              "    <tr style=\"text-align: right;\">\n",
              "      <th></th>\n",
              "      <th>Other Debt</th>\n",
              "      <th>Age</th>\n",
              "      <th>DebtIncomeRatio</th>\n",
              "      <th>Edu</th>\n",
              "      <th>Defaulted</th>\n",
              "      <th>Card Debt</th>\n",
              "      <th>Income</th>\n",
              "      <th>Years Employed</th>\n",
              "    </tr>\n",
              "  </thead>\n",
              "  <tbody>\n",
              "    <tr>\n",
              "      <th>0</th>\n",
              "      <td>1.073</td>\n",
              "      <td>41</td>\n",
              "      <td>6.3</td>\n",
              "      <td>2</td>\n",
              "      <td>0.0</td>\n",
              "      <td>0.124</td>\n",
              "      <td>19</td>\n",
              "      <td>6</td>\n",
              "    </tr>\n",
              "    <tr>\n",
              "      <th>1</th>\n",
              "      <td>8.218</td>\n",
              "      <td>47</td>\n",
              "      <td>12.8</td>\n",
              "      <td>1</td>\n",
              "      <td>0.0</td>\n",
              "      <td>4.582</td>\n",
              "      <td>100</td>\n",
              "      <td>26</td>\n",
              "    </tr>\n",
              "    <tr>\n",
              "      <th>2</th>\n",
              "      <td>5.802</td>\n",
              "      <td>33</td>\n",
              "      <td>20.9</td>\n",
              "      <td>2</td>\n",
              "      <td>1.0</td>\n",
              "      <td>6.111</td>\n",
              "      <td>57</td>\n",
              "      <td>10</td>\n",
              "    </tr>\n",
              "    <tr>\n",
              "      <th>3</th>\n",
              "      <td>0.516</td>\n",
              "      <td>29</td>\n",
              "      <td>6.3</td>\n",
              "      <td>2</td>\n",
              "      <td>0.0</td>\n",
              "      <td>0.681</td>\n",
              "      <td>19</td>\n",
              "      <td>4</td>\n",
              "    </tr>\n",
              "    <tr>\n",
              "      <th>4</th>\n",
              "      <td>8.908</td>\n",
              "      <td>47</td>\n",
              "      <td>7.2</td>\n",
              "      <td>1</td>\n",
              "      <td>0.0</td>\n",
              "      <td>9.308</td>\n",
              "      <td>253</td>\n",
              "      <td>31</td>\n",
              "    </tr>\n",
              "  </tbody>\n",
              "</table>\n",
              "</div>\n",
              "      <button class=\"colab-df-convert\" onclick=\"convertToInteractive('df-4822346d-91c0-402d-993b-53326e43bbd8')\"\n",
              "              title=\"Convert this dataframe to an interactive table.\"\n",
              "              style=\"display:none;\">\n",
              "        \n",
              "  <svg xmlns=\"http://www.w3.org/2000/svg\" height=\"24px\"viewBox=\"0 0 24 24\"\n",
              "       width=\"24px\">\n",
              "    <path d=\"M0 0h24v24H0V0z\" fill=\"none\"/>\n",
              "    <path d=\"M18.56 5.44l.94 2.06.94-2.06 2.06-.94-2.06-.94-.94-2.06-.94 2.06-2.06.94zm-11 1L8.5 8.5l.94-2.06 2.06-.94-2.06-.94L8.5 2.5l-.94 2.06-2.06.94zm10 10l.94 2.06.94-2.06 2.06-.94-2.06-.94-.94-2.06-.94 2.06-2.06.94z\"/><path d=\"M17.41 7.96l-1.37-1.37c-.4-.4-.92-.59-1.43-.59-.52 0-1.04.2-1.43.59L10.3 9.45l-7.72 7.72c-.78.78-.78 2.05 0 2.83L4 21.41c.39.39.9.59 1.41.59.51 0 1.02-.2 1.41-.59l7.78-7.78 2.81-2.81c.8-.78.8-2.07 0-2.86zM5.41 20L4 18.59l7.72-7.72 1.47 1.35L5.41 20z\"/>\n",
              "  </svg>\n",
              "      </button>\n",
              "      \n",
              "  <style>\n",
              "    .colab-df-container {\n",
              "      display:flex;\n",
              "      flex-wrap:wrap;\n",
              "      gap: 12px;\n",
              "    }\n",
              "\n",
              "    .colab-df-convert {\n",
              "      background-color: #E8F0FE;\n",
              "      border: none;\n",
              "      border-radius: 50%;\n",
              "      cursor: pointer;\n",
              "      display: none;\n",
              "      fill: #1967D2;\n",
              "      height: 32px;\n",
              "      padding: 0 0 0 0;\n",
              "      width: 32px;\n",
              "    }\n",
              "\n",
              "    .colab-df-convert:hover {\n",
              "      background-color: #E2EBFA;\n",
              "      box-shadow: 0px 1px 2px rgba(60, 64, 67, 0.3), 0px 1px 3px 1px rgba(60, 64, 67, 0.15);\n",
              "      fill: #174EA6;\n",
              "    }\n",
              "\n",
              "    [theme=dark] .colab-df-convert {\n",
              "      background-color: #3B4455;\n",
              "      fill: #D2E3FC;\n",
              "    }\n",
              "\n",
              "    [theme=dark] .colab-df-convert:hover {\n",
              "      background-color: #434B5C;\n",
              "      box-shadow: 0px 1px 3px 1px rgba(0, 0, 0, 0.15);\n",
              "      filter: drop-shadow(0px 1px 2px rgba(0, 0, 0, 0.3));\n",
              "      fill: #FFFFFF;\n",
              "    }\n",
              "  </style>\n",
              "\n",
              "      <script>\n",
              "        const buttonEl =\n",
              "          document.querySelector('#df-4822346d-91c0-402d-993b-53326e43bbd8 button.colab-df-convert');\n",
              "        buttonEl.style.display =\n",
              "          google.colab.kernel.accessAllowed ? 'block' : 'none';\n",
              "\n",
              "        async function convertToInteractive(key) {\n",
              "          const element = document.querySelector('#df-4822346d-91c0-402d-993b-53326e43bbd8');\n",
              "          const dataTable =\n",
              "            await google.colab.kernel.invokeFunction('convertToInteractive',\n",
              "                                                     [key], {});\n",
              "          if (!dataTable) return;\n",
              "\n",
              "          const docLinkHtml = 'Like what you see? Visit the ' +\n",
              "            '<a target=\"_blank\" href=https://colab.research.google.com/notebooks/data_table.ipynb>data table notebook</a>'\n",
              "            + ' to learn more about interactive tables.';\n",
              "          element.innerHTML = '';\n",
              "          dataTable['output_type'] = 'display_data';\n",
              "          await google.colab.output.renderOutput(dataTable, element);\n",
              "          const docLink = document.createElement('div');\n",
              "          docLink.innerHTML = docLinkHtml;\n",
              "          element.appendChild(docLink);\n",
              "        }\n",
              "      </script>\n",
              "    </div>\n",
              "  </div>\n",
              "  "
            ]
          },
          "metadata": {},
          "execution_count": 113
        }
      ],
      "source": [
        "customer = pd.read_csv('/content/drive/MyDrive/DojoBootCamp/Project Files/cust_seg.csv')\n",
        "df = customer[{'Age', 'Edu', 'Years Employed', 'Income', 'Card Debt', 'Other Debt', 'Defaulted', 'DebtIncomeRatio'}]\n",
        "df.head()"
      ]
    },
    {
      "cell_type": "code",
      "source": [
        "df.info()"
      ],
      "metadata": {
        "colab": {
          "base_uri": "https://localhost:8080/"
        },
        "id": "3HPkibT7SgNA",
        "outputId": "40a9e80a-33d5-4176-9018-e8a31b8b007c"
      },
      "execution_count": 114,
      "outputs": [
        {
          "output_type": "stream",
          "name": "stdout",
          "text": [
            "<class 'pandas.core.frame.DataFrame'>\n",
            "RangeIndex: 850 entries, 0 to 849\n",
            "Data columns (total 8 columns):\n",
            " #   Column           Non-Null Count  Dtype  \n",
            "---  ------           --------------  -----  \n",
            " 0   Other Debt       850 non-null    float64\n",
            " 1   Age              850 non-null    int64  \n",
            " 2   DebtIncomeRatio  850 non-null    float64\n",
            " 3   Edu              850 non-null    int64  \n",
            " 4   Defaulted        700 non-null    float64\n",
            " 5   Card Debt        850 non-null    float64\n",
            " 6   Income           850 non-null    int64  \n",
            " 7   Years Employed   850 non-null    int64  \n",
            "dtypes: float64(4), int64(4)\n",
            "memory usage: 53.2 KB\n"
          ]
        }
      ]
    },
    {
      "cell_type": "code",
      "source": [
        "#checking duplicates\n",
        "df.duplicated().sum()"
      ],
      "metadata": {
        "colab": {
          "base_uri": "https://localhost:8080/"
        },
        "id": "Khc97dwyRn_4",
        "outputId": "69283d76-e6c4-4d57-b549-0674e81278c6"
      },
      "execution_count": 115,
      "outputs": [
        {
          "output_type": "execute_result",
          "data": {
            "text/plain": [
              "0"
            ]
          },
          "metadata": {},
          "execution_count": 115
        }
      ]
    },
    {
      "cell_type": "code",
      "source": [
        "#checked NaN\n",
        "df.isna().sum()"
      ],
      "metadata": {
        "colab": {
          "base_uri": "https://localhost:8080/"
        },
        "id": "4vSeQe82RzJa",
        "outputId": "017ea9b6-476d-4e96-b468-4eefd60e0568"
      },
      "execution_count": 116,
      "outputs": [
        {
          "output_type": "execute_result",
          "data": {
            "text/plain": [
              "Other Debt           0\n",
              "Age                  0\n",
              "DebtIncomeRatio      0\n",
              "Edu                  0\n",
              "Defaulted          150\n",
              "Card Debt            0\n",
              "Income               0\n",
              "Years Employed       0\n",
              "dtype: int64"
            ]
          },
          "metadata": {},
          "execution_count": 116
        }
      ]
    },
    {
      "cell_type": "code",
      "source": [
        "#checking value counts\n",
        "df['Defaulted'].value_counts()"
      ],
      "metadata": {
        "colab": {
          "base_uri": "https://localhost:8080/"
        },
        "id": "pprT2AZJSVV9",
        "outputId": "e8c1d21c-e064-413c-9bab-7d9f7ad7ce8f"
      },
      "execution_count": 117,
      "outputs": [
        {
          "output_type": "execute_result",
          "data": {
            "text/plain": [
              "0.0    517\n",
              "1.0    183\n",
              "Name: Defaulted, dtype: int64"
            ]
          },
          "metadata": {},
          "execution_count": 117
        }
      ]
    },
    {
      "cell_type": "code",
      "source": [
        "#droping NaN because less than 17% of the data\n",
        "df.dropna(inplace=True)"
      ],
      "metadata": {
        "colab": {
          "base_uri": "https://localhost:8080/"
        },
        "id": "QLjWd-ULT-Lc",
        "outputId": "399b4877-62ae-4dc8-a178-564d6e1d1bf4"
      },
      "execution_count": 118,
      "outputs": [
        {
          "output_type": "stream",
          "name": "stderr",
          "text": [
            "/usr/local/lib/python3.7/dist-packages/pandas/util/_decorators.py:311: SettingWithCopyWarning: \n",
            "A value is trying to be set on a copy of a slice from a DataFrame\n",
            "\n",
            "See the caveats in the documentation: https://pandas.pydata.org/pandas-docs/stable/user_guide/indexing.html#returning-a-view-versus-a-copy\n",
            "  return func(*args, **kwargs)\n"
          ]
        }
      ]
    },
    {
      "cell_type": "code",
      "source": [
        "#making sure NaN are dropped \n",
        "df.isna().sum()"
      ],
      "metadata": {
        "colab": {
          "base_uri": "https://localhost:8080/"
        },
        "id": "ba-fIUGAUX2E",
        "outputId": "d7963324-e6e7-42e1-8499-e3ff9be1b479"
      },
      "execution_count": 119,
      "outputs": [
        {
          "output_type": "execute_result",
          "data": {
            "text/plain": [
              "Other Debt         0\n",
              "Age                0\n",
              "DebtIncomeRatio    0\n",
              "Edu                0\n",
              "Defaulted          0\n",
              "Card Debt          0\n",
              "Income             0\n",
              "Years Employed     0\n",
              "dtype: int64"
            ]
          },
          "metadata": {},
          "execution_count": 119
        }
      ]
    },
    {
      "cell_type": "markdown",
      "source": [
        "##Inertia - Elbow Plot"
      ],
      "metadata": {
        "id": "YmfYFyHmRt2r"
      }
    },
    {
      "cell_type": "code",
      "source": [
        "#setting scaler\n",
        "scaler = StandardScaler()"
      ],
      "metadata": {
        "id": "q4A7IWu4KuwJ"
      },
      "execution_count": 120,
      "outputs": []
    },
    {
      "cell_type": "code",
      "source": [
        "# Fit & transform dataframe\n",
        "scaled_df = scaler.fit_transform(df)"
      ],
      "metadata": {
        "id": "KRjRiTTeLRX1"
      },
      "execution_count": 121,
      "outputs": []
    },
    {
      "cell_type": "code",
      "source": [
        "#Creating an empty list of inertias\n",
        "#Loop through k values between 2 and 11 and store the inertias in the list.\n",
        "inertias = []\n",
        "\n",
        "for k in range(2,12):\n",
        "    kmeans = KMeans(n_clusters=k)\n",
        "    kmeans.fit(scaled_df)\n",
        "    inertias.append(kmeans.inertia_)"
      ],
      "metadata": {
        "id": "gVRyYk0fLdH6"
      },
      "execution_count": 122,
      "outputs": []
    },
    {
      "cell_type": "code",
      "source": [
        "#Visualizing scores\n",
        "plt.plot(range(2,12), inertias, marker = '.')\n",
        "plt.xlabel('clusters')\n",
        "plt.ylabel('inertia')"
      ],
      "metadata": {
        "colab": {
          "base_uri": "https://localhost:8080/",
          "height": 296
        },
        "id": "lPjt7B5UW4cA",
        "outputId": "0aa9c4af-aa0f-450c-a844-c764b7ff4a27"
      },
      "execution_count": 123,
      "outputs": [
        {
          "output_type": "execute_result",
          "data": {
            "text/plain": [
              "Text(0, 0.5, 'inertia')"
            ]
          },
          "metadata": {},
          "execution_count": 123
        },
        {
          "output_type": "display_data",
          "data": {
            "text/plain": [
              "<Figure size 432x288 with 1 Axes>"
            ],
            "image/png": "[encoded data removed]"
          },
          "metadata": {
            "needs_background": "light"
          }
        }
      ]
    },
    {
      "cell_type": "markdown",
      "source": [
        "1. Elbow Plot of inertia shows that elbow may be between 2 and 3. Thus, the graph starts to level off at those clusters."
      ],
      "metadata": {
        "id": "A2NS3_66VB4b"
      }
    },
    {
      "cell_type": "markdown",
      "source": [
        "##Silhouette Score - KMeans"
      ],
      "metadata": {
        "id": "wwPwY7SGWSet"
      }
    },
    {
      "cell_type": "code",
      "source": [
        "# Saving silhouette scores for various cluster numbers in list between 2-11\n",
        "kmeans_silhouette_scores = []\n",
        "for i in range(2, 12):\n",
        "  kmeans = KMeans(n_clusters = i)\n",
        "  kmeans.fit(scaled_df)\n",
        "  kmeans_silhouette_scores.append(silhouette_score(scaled_df, kmeans.labels_))\n"
      ],
      "metadata": {
        "id": "xCN1FXe6V6gI"
      },
      "execution_count": 124,
      "outputs": []
    },
    {
      "cell_type": "code",
      "source": [
        "# Visualize scores\n",
        "plt.plot(range(2, 12), kmeans_silhouette_scores, marker = '.')\n",
        "plt.xlabel('Number of Clusters')\n",
        "plt.ylabel('Silhouette Score');"
      ],
      "metadata": {
        "colab": {
          "base_uri": "https://localhost:8080/",
          "height": 281
        },
        "id": "2PlJY7OaeLux",
        "outputId": "59431471-85cf-4b22-aaab-ab256e8c0452"
      },
      "execution_count": 125,
      "outputs": [
        {
          "output_type": "display_data",
          "data": {
            "text/plain": [
              "<Figure size 432x288 with 1 Axes>"
            ],
            "image/png": "[encoded data removed]"
          },
          "metadata": {
            "needs_background": "light"
          }
        }
      ]
    },
    {
      "cell_type": "markdown",
      "source": [
        "1. The Silhouette Score gives another suggestion for clustering than the elbow plot of inertias. This is showing that between 2 and 3 as clusters, 2 is the best option."
      ],
      "metadata": {
        "id": "JW5ePVNueigq"
      }
    },
    {
      "cell_type": "markdown",
      "source": [
        "##Choosing K based on the Results"
      ],
      "metadata": {
        "id": "nvNv1WdchaZY"
      }
    },
    {
      "cell_type": "code",
      "source": [
        "#Silhouette score for Cluster 2, Since above data shows that is the best option\n",
        "kmeans = KMeans(n_clusters=2)\n",
        "kmeans.fit(scaled_df)\n",
        "silhouette_score(scaled_df, kmeans.labels_)"
      ],
      "metadata": {
        "colab": {
          "base_uri": "https://localhost:8080/"
        },
        "id": "cnnSnAqVgZN8",
        "outputId": "9585a5e6-e841-4344-9188-307ed7282122"
      },
      "execution_count": 126,
      "outputs": [
        {
          "output_type": "execute_result",
          "data": {
            "text/plain": [
              "0.33496643365707623"
            ]
          },
          "metadata": {},
          "execution_count": 126
        }
      ]
    }
  ]
}