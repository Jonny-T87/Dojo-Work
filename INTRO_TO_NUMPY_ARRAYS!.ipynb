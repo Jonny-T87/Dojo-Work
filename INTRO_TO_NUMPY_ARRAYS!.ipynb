{
  "nbformat": 4,
  "nbformat_minor": 0,
  "metadata": {
    "colab": {
      "name": "INTRO TO NUMPY ARRAYS!.ipynb",
      "provenance": [],
      "collapsed_sections": [],
      "authorship_tag": "ABX9TyPIT6wE3VKUi3TWz4gR7DYz"
    },
    "kernelspec": {
      "name": "python3",
      "display_name": "Python 3"
    },
    "language_info": {
      "name": "python"
    }
  },
  "cells": [
    {
      "cell_type": "code",
      "execution_count": null,
      "metadata": {
        "colab": {
          "base_uri": "https://localhost:8080/"
        },
        "id": "NwxCtyEkOThK",
        "outputId": "74c87c18-dd7f-4743-bf58-7b5969a6832d"
      },
      "outputs": [
        {
          "output_type": "execute_result",
          "data": {
            "text/plain": [
              "list"
            ]
          },
          "metadata": {},
          "execution_count": 1
        }
      ],
      "source": [
        "price = [2, 1, 10]\n",
        "type(price)\n"
      ]
    },
    {
      "cell_type": "code",
      "source": [
        "quantity_sold = [17, 40, 1]\n",
        "type(quantity_sold)\n"
      ],
      "metadata": {
        "colab": {
          "base_uri": "https://localhost:8080/"
        },
        "id": "iQswsvyVOjtf",
        "outputId": "0c407d4e-dd56-468e-ddaa-05e108807cb7"
      },
      "execution_count": null,
      "outputs": [
        {
          "output_type": "execute_result",
          "data": {
            "text/plain": [
              "list"
            ]
          },
          "metadata": {},
          "execution_count": 2
        }
      ]
    },
    {
      "cell_type": "code",
      "source": [
        "import numpy as np\n"
      ],
      "metadata": {
        "id": "1b7nRCzWOp8Y"
      },
      "execution_count": null,
      "outputs": []
    },
    {
      "cell_type": "code",
      "source": [
        "#multiply arrays\n",
        "price_array = np.array(price)\n",
        "quantity_sold_array = np.array(quantity_sold)\n",
        "type(price_array)\n",
        "\n",
        "price_array*quantity_sold_array"
      ],
      "metadata": {
        "colab": {
          "base_uri": "https://localhost:8080/"
        },
        "id": "WiUgs5WKPJl5",
        "outputId": "310e8ff9-fd95-4deb-af52-2bc85a5f0e82"
      },
      "execution_count": null,
      "outputs": [
        {
          "output_type": "execute_result",
          "data": {
            "text/plain": [
              "array([34, 40, 10])"
            ]
          },
          "metadata": {},
          "execution_count": 5
        }
      ]
    },
    {
      "cell_type": "code",
      "source": [
        "cost_array = np.array([0.25, 0.50, 5.00])\n",
        "#finding profit by multip diff arrays\n",
        "profit_array = price_array - cost_array\n",
        "print(profit_array)\n"
      ],
      "metadata": {
        "colab": {
          "base_uri": "https://localhost:8080/"
        },
        "id": "65o4bRU6PpGk",
        "outputId": "ef45b5fb-30ee-4354-ffc4-3b3245c5331a"
      },
      "execution_count": null,
      "outputs": [
        {
          "output_type": "stream",
          "name": "stdout",
          "text": [
            "[1.75 0.5  5.  ]\n"
          ]
        }
      ]
    },
    {
      "cell_type": "code",
      "source": [
        "profit_array > 2.00\n"
      ],
      "metadata": {
        "colab": {
          "base_uri": "https://localhost:8080/"
        },
        "id": "Wg7ne8K-P9ei",
        "outputId": "47f0fe81-ac90-4769-bad3-cfdde11955e3"
      },
      "execution_count": null,
      "outputs": [
        {
          "output_type": "execute_result",
          "data": {
            "text/plain": [
              "array([False, False,  True])"
            ]
          },
          "metadata": {},
          "execution_count": 8
        }
      ]
    },
    {
      "cell_type": "code",
      "source": [
        "#adding item\n",
        "price_array = np.append(price_array, 7)\n",
        "print(price_array)"
      ],
      "metadata": {
        "colab": {
          "base_uri": "https://localhost:8080/"
        },
        "id": "bXZFasRxQVKY",
        "outputId": "d0578f3b-de14-4442-d2db-24da91654e08"
      },
      "execution_count": null,
      "outputs": [
        {
          "output_type": "stream",
          "name": "stdout",
          "text": [
            "[ 2  1 10  7]\n"
          ]
        }
      ]
    },
    {
      "cell_type": "code",
      "source": [
        "#adding mulyiple items\n",
        "price_array = np.append(price_array, [4.50, 3, 4, 9])\n",
        "print(price_array)\n",
        "\n",
        "#check data type\n",
        "print(price_array.dtype)\n"
      ],
      "metadata": {
        "colab": {
          "base_uri": "https://localhost:8080/"
        },
        "id": "0dYvWEQlQh1D",
        "outputId": "7e5a93b1-5103-492e-c3bd-4ef175a0feb4"
      },
      "execution_count": null,
      "outputs": [
        {
          "output_type": "stream",
          "name": "stdout",
          "text": [
            "[ 2.   1.  10.   7.   4.5  3.   4.   9.   4.5  3.   4.   9. ]\n",
            "float64\n"
          ]
        }
      ]
    },
    {
      "cell_type": "code",
      "source": [
        "#deleting price\n",
        "price_array = np.delete(price_array, -1)\n",
        "print(price_array)\n"
      ],
      "metadata": {
        "colab": {
          "base_uri": "https://localhost:8080/"
        },
        "id": "JjPnq2D6QtVH",
        "outputId": "92d49ebc-8557-4e2d-b870-0df9134517b1"
      },
      "execution_count": null,
      "outputs": [
        {
          "output_type": "stream",
          "name": "stdout",
          "text": [
            "[ 2.   1.  10.   7.   4.5  3.   4.   9.   4.5  3.   4. ]\n"
          ]
        }
      ]
    },
    {
      "cell_type": "code",
      "source": [
        "#Changing price \n",
        "price_array[2] = 12\n",
        "print(price_array)\n"
      ],
      "metadata": {
        "colab": {
          "base_uri": "https://localhost:8080/"
        },
        "id": "oim676EkRIEg",
        "outputId": "5acb337c-d5f6-45f1-a7ff-f59b02a8e10c"
      },
      "execution_count": null,
      "outputs": [
        {
          "output_type": "stream",
          "name": "stdout",
          "text": [
            "[ 2.   1.  12.   7.   4.5  3.   4.   9.   4.5  3.   4. ]\n"
          ]
        }
      ]
    },
    {
      "cell_type": "code",
      "source": [
        "#2) Update the quantity_sold_array to include the sale of 2 pies, 3 trays of fudge, 16 cupcakes, and 5 loaves of banana bread. \n",
        "\n",
        "quantity_sold_array = np.append(quantity_sold_array, [2, 3, 16, 5])\n",
        "print(quantity_sold_array)\n"
      ],
      "metadata": {
        "colab": {
          "base_uri": "https://localhost:8080/"
        },
        "id": "kWkqr5UOSqU5",
        "outputId": "15840aaa-80cc-4920-eae0-d9af9ca0e48b"
      },
      "execution_count": null,
      "outputs": [
        {
          "output_type": "stream",
          "name": "stdout",
          "text": [
            "[17 40  1  2  3 16  5]\n"
          ]
        }
      ]
    },
    {
      "cell_type": "code",
      "source": [
        "#2)You also realize that one of the cookies you thought was sold had actually fallen on the ground, \n",
        "#so edit the quantity_sold_array from 40 to 39.\n",
        "\n",
        "quantity_sold_array[1] = 39\n",
        "print(quantity_sold_array)"
      ],
      "metadata": {
        "colab": {
          "base_uri": "https://localhost:8080/"
        },
        "id": "Z6DGApPwVhGz",
        "outputId": "35aa9573-02ed-46af-bcc6-0c2cf9f228ed"
      },
      "execution_count": null,
      "outputs": [
        {
          "output_type": "stream",
          "name": "stdout",
          "text": [
            "[17 39  1  2  3 16  5]\n"
          ]
        }
      ]
    },
    {
      "cell_type": "code",
      "source": [
        "#3) Determine the amount of money collected from the sale of each item at the bake sale.\n",
        "\n",
        "money_collected=price_array*quantity_sold_array\n",
        "print(money_collected)\n",
        "sum(money_collected)"
      ],
      "metadata": {
        "colab": {
          "base_uri": "https://localhost:8080/"
        },
        "id": "wZTb1-nXWAHn",
        "outputId": "958208ca-3b5e-4bdd-98f6-f30ad47c7958"
      },
      "execution_count": null,
      "outputs": [
        {
          "output_type": "stream",
          "name": "stdout",
          "text": [
            "[34.  39.  12.  14.  13.5 48.  20. ]\n"
          ]
        },
        {
          "output_type": "execute_result",
          "data": {
            "text/plain": [
              "180.5"
            ]
          },
          "metadata": {},
          "execution_count": 32
        }
      ]
    },
    {
      "cell_type": "code",
      "source": [
        "print(price_array)\n",
        "print(cost_array)\n",
        "print(quantity_sold_array)\n",
        "print(quantity_leftover_array)"
      ],
      "metadata": {
        "colab": {
          "base_uri": "https://localhost:8080/"
        },
        "id": "ZcLExFGyWDTq",
        "outputId": "61213209-cafc-4214-df69-49b883039373"
      },
      "execution_count": null,
      "outputs": [
        {
          "output_type": "stream",
          "name": "stdout",
          "text": [
            "[ 2.   1.  12.   7.   4.5  3.   4. ]\n",
            "[0.25 0.5  5.  ]\n",
            "[17 39  1  2  3 16  5]\n",
            "[0 0 2 1 6 0 2]\n"
          ]
        }
      ]
    },
    {
      "cell_type": "code",
      "source": [
        "#4) Create a NumPy array \"quantity_leftover\" that includes the quantity of each item remaining at the end of the sale: \n",
        "#2 cakes, 1 pie, 6 trays of fudge, 2 loaves of banana bread. Hint: Make sure to include \"0\" for any item that was sold out.\n",
        "# Why is this important when creating the array?\n",
        "\n",
        "quantity_leftover = [0,0,2,1,6,0,2]\n",
        "quantity_leftover_array = np.array(quantity_leftover)\n",
        "print(quantity_leftover_array)\n",
        "\n",
        "#o's are important when creating array because they keep the index correct and aligned with each item\n"
      ],
      "metadata": {
        "colab": {
          "base_uri": "https://localhost:8080/"
        },
        "id": "wrlV73nuX1do",
        "outputId": "0a005cbb-cd4c-4e27-d33c-8b05548a7c10"
      },
      "execution_count": null,
      "outputs": [
        {
          "output_type": "stream",
          "name": "stdout",
          "text": [
            "[0 0 2 1 6 0 2]\n"
          ]
        }
      ]
    },
    {
      "cell_type": "code",
      "source": [
        "#5)The club decides to sell the leftover items at half price and everything quickly sells out! \n",
        "#Determine how much money was collected from the clearance sale.\n",
        "\n",
        "half_price= [0,0,6.0,3.5,2.25,0,2.0]\n",
        "half_price_array= np.array(half_price)\n",
        "print(half_price_array)\n",
        "print(quantity_leftover_array)\n",
        "sum(half_price_array*quantity_leftover_array)\n"
      ],
      "metadata": {
        "colab": {
          "base_uri": "https://localhost:8080/"
        },
        "id": "xi-RlEcKciTd",
        "outputId": "6ff697d2-29ba-4b4d-e99b-bec363fe182e"
      },
      "execution_count": null,
      "outputs": [
        {
          "output_type": "stream",
          "name": "stdout",
          "text": [
            "[0.   0.   6.   3.5  2.25 0.   2.  ]\n",
            "[0 0 2 1 6 0 2]\n"
          ]
        },
        {
          "output_type": "execute_result",
          "data": {
            "text/plain": [
              "33.0"
            ]
          },
          "metadata": {},
          "execution_count": 33
        }
      ]
    },
    {
      "cell_type": "code",
      "source": [
        "#6) How much total money was collected from the bake sale (including the sale of full price and clearance items)?\n",
        "#Hint: Your final answer should be $213.50, but you must make sure you get this answer with your NumPy coding skills!!\n",
        "\n",
        "clearance_sold= sum(half_price_array*quantity_leftover_array)\n",
        "full_price_sold= sum(money_collected)\n",
        "money_collected= clearance_sold+full_price_sold\n",
        "print(money_collected)"
      ],
      "metadata": {
        "colab": {
          "base_uri": "https://localhost:8080/"
        },
        "id": "N6_8XSLkeXQN",
        "outputId": "29b8fc6a-c436-42c4-c215-a3faa7b8a989"
      },
      "execution_count": null,
      "outputs": [
        {
          "output_type": "stream",
          "name": "stdout",
          "text": [
            "213.5\n"
          ]
        }
      ]
    }
  ]
}