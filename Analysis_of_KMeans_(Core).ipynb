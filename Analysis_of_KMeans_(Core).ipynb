{
  "nbformat": 4,
  "nbformat_minor": 0,
  "metadata": {
    "colab": {
      "name": "Analysis of KMeans (Core).ipynb",
      "provenance": [],
      "collapsed_sections": [
        "A1E8q7g0V_PI"
      ],
      "mount_file_id": "1mmNVkVLtsmtpfcGbz0b6HXvCJ1h5Yv2D",
      "authorship_tag": "ABX9TyNdq4NqhMa+958t6qT7YhNb",
      "include_colab_link": true
    },
    "kernelspec": {
      "name": "python3",
      "display_name": "Python 3"
    },
    "language_info": {
      "name": "python"
    }
  },
  "cells": [
    {
      "cell_type": "markdown",
      "metadata": {
        "id": "view-in-github",
        "colab_type": "text"
      },
      "source": [
        "<a href=\"https://colab.research.google.com/github/Jonny-T87/Dojo-Work/blob/main/Analysis_of_KMeans_(Core).ipynb\" target=\"_parent\"><img src=\"https://colab.research.google.com/assets/colab-badge.svg\" alt=\"Open In Colab\"/></a>"
      ]
    },
    {
      "cell_type": "markdown",
      "source": [
        "Jonny Tesfahun\n",
        "\n",
        "- 07/19/22"
      ],
      "metadata": {
        "id": "9IoDlhY4X4FL"
      }
    },
    {
      "cell_type": "markdown",
      "source": [
        "##Analysis of KMeans (Core)\n",
        "\n",
        "Task\n",
        "1. Make a copy of your code file from KMeans Exercise Part 1.\n"
      ],
      "metadata": {
        "id": "Uwn0wJ3tYBlk"
      }
    },
    {
      "cell_type": "markdown",
      "source": [
        "##Part 1:\n"
      ],
      "metadata": {
        "id": "A1E8q7g0V_PI"
      }
    },
    {
      "cell_type": "markdown",
      "source": [
        "Loading and Cleaning Data:"
      ],
      "metadata": {
        "id": "WmX2MUn-e2Ck"
      }
    },
    {
      "cell_type": "code",
      "source": [
        "import numpy as np\n",
        "import matplotlib.pyplot as plt\n",
        "import pandas as pd\n",
        "\n",
        "from sklearn.preprocessing import StandardScaler\n",
        "from sklearn.cluster import KMeans\n",
        "from sklearn.metrics import silhouette_score"
      ],
      "metadata": {
        "id": "AsHV2nIAIpR3"
      },
      "execution_count": 22,
      "outputs": []
    },
    {
      "cell_type": "code",
      "execution_count": 23,
      "metadata": {
        "colab": {
          "base_uri": "https://localhost:8080/",
          "height": 206
        },
        "id": "4gG2zaw_HtCP",
        "outputId": "fbfe6e31-cf56-4f74-f9ad-1f443db585f3"
      },
      "outputs": [
        {
          "output_type": "execute_result",
          "data": {
            "text/plain": [
              "   Card Debt  Income  Edu  Other Debt  Defaulted  Age  Years Employed  \\\n",
              "0      0.124      19    2       1.073        0.0   41               6   \n",
              "1      4.582     100    1       8.218        0.0   47              26   \n",
              "2      6.111      57    2       5.802        1.0   33              10   \n",
              "3      0.681      19    2       0.516        0.0   29               4   \n",
              "4      9.308     253    1       8.908        0.0   47              31   \n",
              "\n",
              "   DebtIncomeRatio  \n",
              "0              6.3  \n",
              "1             12.8  \n",
              "2             20.9  \n",
              "3              6.3  \n",
              "4              7.2  "
            ],
            "text/html": [
              "\n",
              "  <div id=\"df-ce19fc73-2b47-41b8-9c65-3dd9f203f0dc\">\n",
              "    <div class=\"colab-df-container\">\n",
              "      <div>\n",
              "<style scoped>\n",
              "    .dataframe tbody tr th:only-of-type {\n",
              "        vertical-align: middle;\n",
              "    }\n",
              "\n",
              "    .dataframe tbody tr th {\n",
              "        vertical-align: top;\n",
              "    }\n",
              "\n",
              "    .dataframe thead th {\n",
              "        text-align: right;\n",
              "    }\n",
              "</style>\n",
              "<table border=\"1\" class=\"dataframe\">\n",
              "  <thead>\n",
              "    <tr style=\"text-align: right;\">\n",
              "      <th></th>\n",
              "      <th>Card Debt</th>\n",
              "      <th>Income</th>\n",
              "      <th>Edu</th>\n",
              "      <th>Other Debt</th>\n",
              "      <th>Defaulted</th>\n",
              "      <th>Age</th>\n",
              "      <th>Years Employed</th>\n",
              "      <th>DebtIncomeRatio</th>\n",
              "    </tr>\n",
              "  </thead>\n",
              "  <tbody>\n",
              "    <tr>\n",
              "      <th>0</th>\n",
              "      <td>0.124</td>\n",
              "      <td>19</td>\n",
              "      <td>2</td>\n",
              "      <td>1.073</td>\n",
              "      <td>0.0</td>\n",
              "      <td>41</td>\n",
              "      <td>6</td>\n",
              "      <td>6.3</td>\n",
              "    </tr>\n",
              "    <tr>\n",
              "      <th>1</th>\n",
              "      <td>4.582</td>\n",
              "      <td>100</td>\n",
              "      <td>1</td>\n",
              "      <td>8.218</td>\n",
              "      <td>0.0</td>\n",
              "      <td>47</td>\n",
              "      <td>26</td>\n",
              "      <td>12.8</td>\n",
              "    </tr>\n",
              "    <tr>\n",
              "      <th>2</th>\n",
              "      <td>6.111</td>\n",
              "      <td>57</td>\n",
              "      <td>2</td>\n",
              "      <td>5.802</td>\n",
              "      <td>1.0</td>\n",
              "      <td>33</td>\n",
              "      <td>10</td>\n",
              "      <td>20.9</td>\n",
              "    </tr>\n",
              "    <tr>\n",
              "      <th>3</th>\n",
              "      <td>0.681</td>\n",
              "      <td>19</td>\n",
              "      <td>2</td>\n",
              "      <td>0.516</td>\n",
              "      <td>0.0</td>\n",
              "      <td>29</td>\n",
              "      <td>4</td>\n",
              "      <td>6.3</td>\n",
              "    </tr>\n",
              "    <tr>\n",
              "      <th>4</th>\n",
              "      <td>9.308</td>\n",
              "      <td>253</td>\n",
              "      <td>1</td>\n",
              "      <td>8.908</td>\n",
              "      <td>0.0</td>\n",
              "      <td>47</td>\n",
              "      <td>31</td>\n",
              "      <td>7.2</td>\n",
              "    </tr>\n",
              "  </tbody>\n",
              "</table>\n",
              "</div>\n",
              "      <button class=\"colab-df-convert\" onclick=\"convertToInteractive('df-ce19fc73-2b47-41b8-9c65-3dd9f203f0dc')\"\n",
              "              title=\"Convert this dataframe to an interactive table.\"\n",
              "              style=\"display:none;\">\n",
              "        \n",
              "  <svg xmlns=\"http://www.w3.org/2000/svg\" height=\"24px\"viewBox=\"0 0 24 24\"\n",
              "       width=\"24px\">\n",
              "    <path d=\"M0 0h24v24H0V0z\" fill=\"none\"/>\n",
              "    <path d=\"M18.56 5.44l.94 2.06.94-2.06 2.06-.94-2.06-.94-.94-2.06-.94 2.06-2.06.94zm-11 1L8.5 8.5l.94-2.06 2.06-.94-2.06-.94L8.5 2.5l-.94 2.06-2.06.94zm10 10l.94 2.06.94-2.06 2.06-.94-2.06-.94-.94-2.06-.94 2.06-2.06.94z\"/><path d=\"M17.41 7.96l-1.37-1.37c-.4-.4-.92-.59-1.43-.59-.52 0-1.04.2-1.43.59L10.3 9.45l-7.72 7.72c-.78.78-.78 2.05 0 2.83L4 21.41c.39.39.9.59 1.41.59.51 0 1.02-.2 1.41-.59l7.78-7.78 2.81-2.81c.8-.78.8-2.07 0-2.86zM5.41 20L4 18.59l7.72-7.72 1.47 1.35L5.41 20z\"/>\n",
              "  </svg>\n",
              "      </button>\n",
              "      \n",
              "  <style>\n",
              "    .colab-df-container {\n",
              "      display:flex;\n",
              "      flex-wrap:wrap;\n",
              "      gap: 12px;\n",
              "    }\n",
              "\n",
              "    .colab-df-convert {\n",
              "      background-color: #E8F0FE;\n",
              "      border: none;\n",
              "      border-radius: 50%;\n",
              "      cursor: pointer;\n",
              "      display: none;\n",
              "      fill: #1967D2;\n",
              "      height: 32px;\n",
              "      padding: 0 0 0 0;\n",
              "      width: 32px;\n",
              "    }\n",
              "\n",
              "    .colab-df-convert:hover {\n",
              "      background-color: #E2EBFA;\n",
              "      box-shadow: 0px 1px 2px rgba(60, 64, 67, 0.3), 0px 1px 3px 1px rgba(60, 64, 67, 0.15);\n",
              "      fill: #174EA6;\n",
              "    }\n",
              "\n",
              "    [theme=dark] .colab-df-convert {\n",
              "      background-color: #3B4455;\n",
              "      fill: #D2E3FC;\n",
              "    }\n",
              "\n",
              "    [theme=dark] .colab-df-convert:hover {\n",
              "      background-color: #434B5C;\n",
              "      box-shadow: 0px 1px 3px 1px rgba(0, 0, 0, 0.15);\n",
              "      filter: drop-shadow(0px 1px 2px rgba(0, 0, 0, 0.3));\n",
              "      fill: #FFFFFF;\n",
              "    }\n",
              "  </style>\n",
              "\n",
              "      <script>\n",
              "        const buttonEl =\n",
              "          document.querySelector('#df-ce19fc73-2b47-41b8-9c65-3dd9f203f0dc button.colab-df-convert');\n",
              "        buttonEl.style.display =\n",
              "          google.colab.kernel.accessAllowed ? 'block' : 'none';\n",
              "\n",
              "        async function convertToInteractive(key) {\n",
              "          const element = document.querySelector('#df-ce19fc73-2b47-41b8-9c65-3dd9f203f0dc');\n",
              "          const dataTable =\n",
              "            await google.colab.kernel.invokeFunction('convertToInteractive',\n",
              "                                                     [key], {});\n",
              "          if (!dataTable) return;\n",
              "\n",
              "          const docLinkHtml = 'Like what you see? Visit the ' +\n",
              "            '<a target=\"_blank\" href=https://colab.research.google.com/notebooks/data_table.ipynb>data table notebook</a>'\n",
              "            + ' to learn more about interactive tables.';\n",
              "          element.innerHTML = '';\n",
              "          dataTable['output_type'] = 'display_data';\n",
              "          await google.colab.output.renderOutput(dataTable, element);\n",
              "          const docLink = document.createElement('div');\n",
              "          docLink.innerHTML = docLinkHtml;\n",
              "          element.appendChild(docLink);\n",
              "        }\n",
              "      </script>\n",
              "    </div>\n",
              "  </div>\n",
              "  "
            ]
          },
          "metadata": {},
          "execution_count": 23
        }
      ],
      "source": [
        "customer = pd.read_csv('/content/drive/MyDrive/DojoBootCamp/Project Files/cust_seg.csv')\n",
        "df = customer[{'Age', 'Edu', 'Years Employed', 'Income', 'Card Debt', 'Other Debt', 'Defaulted', 'DebtIncomeRatio'}]\n",
        "df.head()"
      ]
    },
    {
      "cell_type": "code",
      "source": [
        "df.info()"
      ],
      "metadata": {
        "colab": {
          "base_uri": "https://localhost:8080/"
        },
        "id": "3HPkibT7SgNA",
        "outputId": "9ca3c4d1-909b-4909-cb78-d9f9c3adea42"
      },
      "execution_count": 24,
      "outputs": [
        {
          "output_type": "stream",
          "name": "stdout",
          "text": [
            "<class 'pandas.core.frame.DataFrame'>\n",
            "RangeIndex: 850 entries, 0 to 849\n",
            "Data columns (total 8 columns):\n",
            " #   Column           Non-Null Count  Dtype  \n",
            "---  ------           --------------  -----  \n",
            " 0   Card Debt        850 non-null    float64\n",
            " 1   Income           850 non-null    int64  \n",
            " 2   Edu              850 non-null    int64  \n",
            " 3   Other Debt       850 non-null    float64\n",
            " 4   Defaulted        700 non-null    float64\n",
            " 5   Age              850 non-null    int64  \n",
            " 6   Years Employed   850 non-null    int64  \n",
            " 7   DebtIncomeRatio  850 non-null    float64\n",
            "dtypes: float64(4), int64(4)\n",
            "memory usage: 53.2 KB\n"
          ]
        }
      ]
    },
    {
      "cell_type": "code",
      "source": [
        "#checking duplicates\n",
        "df.duplicated().sum()"
      ],
      "metadata": {
        "colab": {
          "base_uri": "https://localhost:8080/"
        },
        "id": "Khc97dwyRn_4",
        "outputId": "8174c76c-a076-4439-8cac-d909577aa699"
      },
      "execution_count": 25,
      "outputs": [
        {
          "output_type": "execute_result",
          "data": {
            "text/plain": [
              "0"
            ]
          },
          "metadata": {},
          "execution_count": 25
        }
      ]
    },
    {
      "cell_type": "code",
      "source": [
        "#checked NaN\n",
        "df.isna().sum()"
      ],
      "metadata": {
        "colab": {
          "base_uri": "https://localhost:8080/"
        },
        "id": "4vSeQe82RzJa",
        "outputId": "b226bc48-a926-41aa-a24a-c6b722ec9776"
      },
      "execution_count": 26,
      "outputs": [
        {
          "output_type": "execute_result",
          "data": {
            "text/plain": [
              "Card Debt            0\n",
              "Income               0\n",
              "Edu                  0\n",
              "Other Debt           0\n",
              "Defaulted          150\n",
              "Age                  0\n",
              "Years Employed       0\n",
              "DebtIncomeRatio      0\n",
              "dtype: int64"
            ]
          },
          "metadata": {},
          "execution_count": 26
        }
      ]
    },
    {
      "cell_type": "code",
      "source": [
        "#checking value counts\n",
        "df['Defaulted'].value_counts()"
      ],
      "metadata": {
        "colab": {
          "base_uri": "https://localhost:8080/"
        },
        "id": "pprT2AZJSVV9",
        "outputId": "dd70896d-2e34-4ffc-9cef-1e61bed41a39"
      },
      "execution_count": 27,
      "outputs": [
        {
          "output_type": "execute_result",
          "data": {
            "text/plain": [
              "0.0    517\n",
              "1.0    183\n",
              "Name: Defaulted, dtype: int64"
            ]
          },
          "metadata": {},
          "execution_count": 27
        }
      ]
    },
    {
      "cell_type": "code",
      "source": [
        "#droping NaN because less than 17% of the data\n",
        "df.dropna(inplace=True)"
      ],
      "metadata": {
        "colab": {
          "base_uri": "https://localhost:8080/"
        },
        "id": "QLjWd-ULT-Lc",
        "outputId": "29ee4c27-7100-456c-afe8-95fbd2e7195e"
      },
      "execution_count": 28,
      "outputs": [
        {
          "output_type": "stream",
          "name": "stderr",
          "text": [
            "/usr/local/lib/python3.7/dist-packages/pandas/util/_decorators.py:311: SettingWithCopyWarning: \n",
            "A value is trying to be set on a copy of a slice from a DataFrame\n",
            "\n",
            "See the caveats in the documentation: https://pandas.pydata.org/pandas-docs/stable/user_guide/indexing.html#returning-a-view-versus-a-copy\n",
            "  return func(*args, **kwargs)\n"
          ]
        }
      ]
    },
    {
      "cell_type": "code",
      "source": [
        "#making sure NaN are dropped \n",
        "df.isna().sum()"
      ],
      "metadata": {
        "colab": {
          "base_uri": "https://localhost:8080/"
        },
        "id": "ba-fIUGAUX2E",
        "outputId": "ac1f95b9-fb28-402d-c3ef-b067b9f7fb66"
      },
      "execution_count": 29,
      "outputs": [
        {
          "output_type": "execute_result",
          "data": {
            "text/plain": [
              "Card Debt          0\n",
              "Income             0\n",
              "Edu                0\n",
              "Other Debt         0\n",
              "Defaulted          0\n",
              "Age                0\n",
              "Years Employed     0\n",
              "DebtIncomeRatio    0\n",
              "dtype: int64"
            ]
          },
          "metadata": {},
          "execution_count": 29
        }
      ]
    },
    {
      "cell_type": "markdown",
      "source": [
        "Inertia - Elbow Plot:"
      ],
      "metadata": {
        "id": "YmfYFyHmRt2r"
      }
    },
    {
      "cell_type": "code",
      "source": [
        "#setting scaler\n",
        "scaler = StandardScaler()"
      ],
      "metadata": {
        "id": "q4A7IWu4KuwJ"
      },
      "execution_count": 30,
      "outputs": []
    },
    {
      "cell_type": "code",
      "source": [
        "# Fit & transform dataframe\n",
        "scaled_df = pd.DataFrame(scaler.fit_transform(df), columns=df.columns)"
      ],
      "metadata": {
        "id": "KRjRiTTeLRX1"
      },
      "execution_count": 31,
      "outputs": []
    },
    {
      "cell_type": "code",
      "source": [
        "#checking scaled dataframe\n",
        "scaled_df.head()"
      ],
      "metadata": {
        "colab": {
          "base_uri": "https://localhost:8080/",
          "height": 206
        },
        "id": "UXDPa_9cg-_q",
        "outputId": "22cef293-2bf9-4607-ca93-cf60ef269785"
      },
      "execution_count": 32,
      "outputs": [
        {
          "output_type": "execute_result",
          "data": {
            "text/plain": [
              "   Card Debt    Income       Edu  Other Debt  Defaulted       Age  \\\n",
              "0  -0.675699 -0.723102  0.298793   -0.604284  -0.594950  0.768304   \n",
              "1   1.431421  1.478707 -0.779325    1.570620  -0.594950  1.519090   \n",
              "2   2.154119  0.309845  0.298793    0.835201   1.680814 -0.232744   \n",
              "3  -0.412427 -0.723102  0.298793   -0.773833  -0.594950 -0.733267   \n",
              "4   3.665215  5.637681 -0.779325    1.780653  -0.594950  1.519090   \n",
              "\n",
              "   Years Employed  DebtIncomeRatio  \n",
              "0       -0.359007        -0.580528  \n",
              "1        2.647029         0.372222  \n",
              "2        0.242201         1.559495  \n",
              "3       -0.659610        -0.580528  \n",
              "4        3.398538        -0.448609  "
            ],
            "text/html": [
              "\n",
              "  <div id=\"df-bc356ebd-1b20-4bb6-ad9e-93a7c31ad2c9\">\n",
              "    <div class=\"colab-df-container\">\n",
              "      <div>\n",
              "<style scoped>\n",
              "    .dataframe tbody tr th:only-of-type {\n",
              "        vertical-align: middle;\n",
              "    }\n",
              "\n",
              "    .dataframe tbody tr th {\n",
              "        vertical-align: top;\n",
              "    }\n",
              "\n",
              "    .dataframe thead th {\n",
              "        text-align: right;\n",
              "    }\n",
              "</style>\n",
              "<table border=\"1\" class=\"dataframe\">\n",
              "  <thead>\n",
              "    <tr style=\"text-align: right;\">\n",
              "      <th></th>\n",
              "      <th>Card Debt</th>\n",
              "      <th>Income</th>\n",
              "      <th>Edu</th>\n",
              "      <th>Other Debt</th>\n",
              "      <th>Defaulted</th>\n",
              "      <th>Age</th>\n",
              "      <th>Years Employed</th>\n",
              "      <th>DebtIncomeRatio</th>\n",
              "    </tr>\n",
              "  </thead>\n",
              "  <tbody>\n",
              "    <tr>\n",
              "      <th>0</th>\n",
              "      <td>-0.675699</td>\n",
              "      <td>-0.723102</td>\n",
              "      <td>0.298793</td>\n",
              "      <td>-0.604284</td>\n",
              "      <td>-0.594950</td>\n",
              "      <td>0.768304</td>\n",
              "      <td>-0.359007</td>\n",
              "      <td>-0.580528</td>\n",
              "    </tr>\n",
              "    <tr>\n",
              "      <th>1</th>\n",
              "      <td>1.431421</td>\n",
              "      <td>1.478707</td>\n",
              "      <td>-0.779325</td>\n",
              "      <td>1.570620</td>\n",
              "      <td>-0.594950</td>\n",
              "      <td>1.519090</td>\n",
              "      <td>2.647029</td>\n",
              "      <td>0.372222</td>\n",
              "    </tr>\n",
              "    <tr>\n",
              "      <th>2</th>\n",
              "      <td>2.154119</td>\n",
              "      <td>0.309845</td>\n",
              "      <td>0.298793</td>\n",
              "      <td>0.835201</td>\n",
              "      <td>1.680814</td>\n",
              "      <td>-0.232744</td>\n",
              "      <td>0.242201</td>\n",
              "      <td>1.559495</td>\n",
              "    </tr>\n",
              "    <tr>\n",
              "      <th>3</th>\n",
              "      <td>-0.412427</td>\n",
              "      <td>-0.723102</td>\n",
              "      <td>0.298793</td>\n",
              "      <td>-0.773833</td>\n",
              "      <td>-0.594950</td>\n",
              "      <td>-0.733267</td>\n",
              "      <td>-0.659610</td>\n",
              "      <td>-0.580528</td>\n",
              "    </tr>\n",
              "    <tr>\n",
              "      <th>4</th>\n",
              "      <td>3.665215</td>\n",
              "      <td>5.637681</td>\n",
              "      <td>-0.779325</td>\n",
              "      <td>1.780653</td>\n",
              "      <td>-0.594950</td>\n",
              "      <td>1.519090</td>\n",
              "      <td>3.398538</td>\n",
              "      <td>-0.448609</td>\n",
              "    </tr>\n",
              "  </tbody>\n",
              "</table>\n",
              "</div>\n",
              "      <button class=\"colab-df-convert\" onclick=\"convertToInteractive('df-bc356ebd-1b20-4bb6-ad9e-93a7c31ad2c9')\"\n",
              "              title=\"Convert this dataframe to an interactive table.\"\n",
              "              style=\"display:none;\">\n",
              "        \n",
              "  <svg xmlns=\"http://www.w3.org/2000/svg\" height=\"24px\"viewBox=\"0 0 24 24\"\n",
              "       width=\"24px\">\n",
              "    <path d=\"M0 0h24v24H0V0z\" fill=\"none\"/>\n",
              "    <path d=\"M18.56 5.44l.94 2.06.94-2.06 2.06-.94-2.06-.94-.94-2.06-.94 2.06-2.06.94zm-11 1L8.5 8.5l.94-2.06 2.06-.94-2.06-.94L8.5 2.5l-.94 2.06-2.06.94zm10 10l.94 2.06.94-2.06 2.06-.94-2.06-.94-.94-2.06-.94 2.06-2.06.94z\"/><path d=\"M17.41 7.96l-1.37-1.37c-.4-.4-.92-.59-1.43-.59-.52 0-1.04.2-1.43.59L10.3 9.45l-7.72 7.72c-.78.78-.78 2.05 0 2.83L4 21.41c.39.39.9.59 1.41.59.51 0 1.02-.2 1.41-.59l7.78-7.78 2.81-2.81c.8-.78.8-2.07 0-2.86zM5.41 20L4 18.59l7.72-7.72 1.47 1.35L5.41 20z\"/>\n",
              "  </svg>\n",
              "      </button>\n",
              "      \n",
              "  <style>\n",
              "    .colab-df-container {\n",
              "      display:flex;\n",
              "      flex-wrap:wrap;\n",
              "      gap: 12px;\n",
              "    }\n",
              "\n",
              "    .colab-df-convert {\n",
              "      background-color: #E8F0FE;\n",
              "      border: none;\n",
              "      border-radius: 50%;\n",
              "      cursor: pointer;\n",
              "      display: none;\n",
              "      fill: #1967D2;\n",
              "      height: 32px;\n",
              "      padding: 0 0 0 0;\n",
              "      width: 32px;\n",
              "    }\n",
              "\n",
              "    .colab-df-convert:hover {\n",
              "      background-color: #E2EBFA;\n",
              "      box-shadow: 0px 1px 2px rgba(60, 64, 67, 0.3), 0px 1px 3px 1px rgba(60, 64, 67, 0.15);\n",
              "      fill: #174EA6;\n",
              "    }\n",
              "\n",
              "    [theme=dark] .colab-df-convert {\n",
              "      background-color: #3B4455;\n",
              "      fill: #D2E3FC;\n",
              "    }\n",
              "\n",
              "    [theme=dark] .colab-df-convert:hover {\n",
              "      background-color: #434B5C;\n",
              "      box-shadow: 0px 1px 3px 1px rgba(0, 0, 0, 0.15);\n",
              "      filter: drop-shadow(0px 1px 2px rgba(0, 0, 0, 0.3));\n",
              "      fill: #FFFFFF;\n",
              "    }\n",
              "  </style>\n",
              "\n",
              "      <script>\n",
              "        const buttonEl =\n",
              "          document.querySelector('#df-bc356ebd-1b20-4bb6-ad9e-93a7c31ad2c9 button.colab-df-convert');\n",
              "        buttonEl.style.display =\n",
              "          google.colab.kernel.accessAllowed ? 'block' : 'none';\n",
              "\n",
              "        async function convertToInteractive(key) {\n",
              "          const element = document.querySelector('#df-bc356ebd-1b20-4bb6-ad9e-93a7c31ad2c9');\n",
              "          const dataTable =\n",
              "            await google.colab.kernel.invokeFunction('convertToInteractive',\n",
              "                                                     [key], {});\n",
              "          if (!dataTable) return;\n",
              "\n",
              "          const docLinkHtml = 'Like what you see? Visit the ' +\n",
              "            '<a target=\"_blank\" href=https://colab.research.google.com/notebooks/data_table.ipynb>data table notebook</a>'\n",
              "            + ' to learn more about interactive tables.';\n",
              "          element.innerHTML = '';\n",
              "          dataTable['output_type'] = 'display_data';\n",
              "          await google.colab.output.renderOutput(dataTable, element);\n",
              "          const docLink = document.createElement('div');\n",
              "          docLink.innerHTML = docLinkHtml;\n",
              "          element.appendChild(docLink);\n",
              "        }\n",
              "      </script>\n",
              "    </div>\n",
              "  </div>\n",
              "  "
            ]
          },
          "metadata": {},
          "execution_count": 32
        }
      ]
    },
    {
      "cell_type": "code",
      "source": [
        "#Creating an empty list of inertias\n",
        "#Loop through k values between 2 and 11 and store the inertias in the list.\n",
        "inertias = []\n",
        "\n",
        "for k in range(2,12):\n",
        "    kmeans = KMeans(n_clusters=k, random_state=10)\n",
        "    kmeans.fit(scaled_df)\n",
        "    inertias.append(kmeans.inertia_)"
      ],
      "metadata": {
        "id": "gVRyYk0fLdH6"
      },
      "execution_count": 33,
      "outputs": []
    },
    {
      "cell_type": "code",
      "source": [
        "#Visualizing scores\n",
        "plt.plot(range(2,12), inertias, marker = '.')\n",
        "plt.xlabel('clusters')\n",
        "plt.ylabel('inertia')"
      ],
      "metadata": {
        "colab": {
          "base_uri": "https://localhost:8080/",
          "height": 296
        },
        "id": "lPjt7B5UW4cA",
        "outputId": "7b111614-5162-4f27-d036-2e80be3ce6e7"
      },
      "execution_count": 34,
      "outputs": [
        {
          "output_type": "execute_result",
          "data": {
            "text/plain": [
              "Text(0, 0.5, 'inertia')"
            ]
          },
          "metadata": {},
          "execution_count": 34
        },
        {
          "output_type": "display_data",
          "data": {
            "text/plain": [
              "<Figure size 432x288 with 1 Axes>"
            ],
            "image/png": "[encoded data removed]"
          },
          "metadata": {
            "needs_background": "light"
          }
        }
      ]
    },
    {
      "cell_type": "markdown",
      "source": [
        "1. Elbow Plot of inertia shows that elbow may be between 2 and 3. Thus, the graph starts to level off at those clusters."
      ],
      "metadata": {
        "id": "A2NS3_66VB4b"
      }
    },
    {
      "cell_type": "markdown",
      "source": [
        "Silhouette Score - KMeans:"
      ],
      "metadata": {
        "id": "wwPwY7SGWSet"
      }
    },
    {
      "cell_type": "code",
      "source": [
        "# Saving silhouette scores for various cluster numbers in list between 2-11\n",
        "kmeans_silhouette_scores = []\n",
        "for i in range(2, 12):\n",
        "  kmeans = KMeans(n_clusters = i, random_state=10)\n",
        "  kmeans.fit(scaled_df)\n",
        "  kmeans_silhouette_scores.append(silhouette_score(scaled_df, kmeans.labels_))\n"
      ],
      "metadata": {
        "id": "xCN1FXe6V6gI"
      },
      "execution_count": 35,
      "outputs": []
    },
    {
      "cell_type": "code",
      "source": [
        "# Visualize scores\n",
        "plt.plot(range(2, 12), kmeans_silhouette_scores, marker = '.')\n",
        "plt.xlabel('Number of Clusters')\n",
        "plt.ylabel('Silhouette Score');"
      ],
      "metadata": {
        "colab": {
          "base_uri": "https://localhost:8080/",
          "height": 281
        },
        "id": "2PlJY7OaeLux",
        "outputId": "bc7e1060-1586-4ccf-ec8b-a3dd216c8c6a"
      },
      "execution_count": 36,
      "outputs": [
        {
          "output_type": "display_data",
          "data": {
            "text/plain": [
              "<Figure size 432x288 with 1 Axes>"
            ],
            "image/png": "[encoded data removed]"
          },
          "metadata": {
            "needs_background": "light"
          }
        }
      ]
    },
    {
      "cell_type": "markdown",
      "source": [
        "1. The Silhouette Score gives another suggestion for clustering than the elbow plot of inertias. This is showing that between 2 and 3 as clusters, 2 is the best option."
      ],
      "metadata": {
        "id": "JW5ePVNueigq"
      }
    },
    {
      "cell_type": "markdown",
      "source": [
        "Choosing K based on the Results:"
      ],
      "metadata": {
        "id": "nvNv1WdchaZY"
      }
    },
    {
      "cell_type": "code",
      "source": [
        "#Silhouette score for Cluster 2, Since above data shows that is the best option\n",
        "kmeans = KMeans(n_clusters=2, random_state=10)\n",
        "kmeans.fit(scaled_df)\n",
        "silhouette_score(scaled_df, kmeans.labels_)"
      ],
      "metadata": {
        "colab": {
          "base_uri": "https://localhost:8080/"
        },
        "id": "cnnSnAqVgZN8",
        "outputId": "b284e558-de7c-459a-b843-3f6a998217f8"
      },
      "execution_count": 39,
      "outputs": [
        {
          "output_type": "execute_result",
          "data": {
            "text/plain": [
              "0.33496643365707623"
            ]
          },
          "metadata": {},
          "execution_count": 39
        }
      ]
    },
    {
      "cell_type": "markdown",
      "source": [
        "##Analysis of KMeans:\n",
        "\n",
        "2. Make bar graphs of the means of each feature for each cluster that you created in part 1 of the assignment.  For each plot the X axis should be the clusters and the y axis should be the mean values for each feature.\n",
        "\n",
        "3. Write a description of each cluster, based on the graphs and tables you created.\n",
        "\n",
        "4. Submit your notebook below."
      ],
      "metadata": {
        "id": "Yh3xkxcJfL_Y"
      }
    },
    {
      "cell_type": "code",
      "source": [
        "#checking min, max, and avg\n",
        "df.describe()"
      ],
      "metadata": {
        "colab": {
          "base_uri": "https://localhost:8080/",
          "height": 300
        },
        "id": "wpZXDGVzfT9u",
        "outputId": "d5a35286-2f61-41d6-cb20-715ec3809dfc"
      },
      "execution_count": 38,
      "outputs": [
        {
          "output_type": "execute_result",
          "data": {
            "text/plain": [
              "        Card Debt      Income         Edu  Other Debt   Defaulted         Age  \\\n",
              "count  700.000000  700.000000  700.000000  700.000000  700.000000  700.000000   \n",
              "mean     1.553566   45.601429    1.722857    3.058196    0.261429   34.860000   \n",
              "std      2.117196   36.814226    0.928206    3.287550    0.439727    7.997342   \n",
              "min      0.012000   14.000000    1.000000    0.046000    0.000000   20.000000   \n",
              "25%      0.368750   24.000000    1.000000    1.044000    0.000000   29.000000   \n",
              "50%      0.855000   34.000000    1.000000    1.987500    0.000000   34.000000   \n",
              "75%      1.901750   55.000000    2.000000    3.923250    1.000000   40.000000   \n",
              "max     20.561000  446.000000    5.000000   27.034000    1.000000   56.000000   \n",
              "\n",
              "       Years Employed  DebtIncomeRatio  \n",
              "count      700.000000       700.000000  \n",
              "mean         8.388571        10.260571  \n",
              "std          6.658039         6.827234  \n",
              "min          0.000000         0.400000  \n",
              "25%          3.000000         5.000000  \n",
              "50%          7.000000         8.600000  \n",
              "75%         12.000000        14.125000  \n",
              "max         31.000000        41.300000  "
            ],
            "text/html": [
              "\n",
              "  <div id=\"df-4281e78e-0c1a-4e5b-a02e-32ff98c56d3a\">\n",
              "    <div class=\"colab-df-container\">\n",
              "      <div>\n",
              "<style scoped>\n",
              "    .dataframe tbody tr th:only-of-type {\n",
              "        vertical-align: middle;\n",
              "    }\n",
              "\n",
              "    .dataframe tbody tr th {\n",
              "        vertical-align: top;\n",
              "    }\n",
              "\n",
              "    .dataframe thead th {\n",
              "        text-align: right;\n",
              "    }\n",
              "</style>\n",
              "<table border=\"1\" class=\"dataframe\">\n",
              "  <thead>\n",
              "    <tr style=\"text-align: right;\">\n",
              "      <th></th>\n",
              "      <th>Card Debt</th>\n",
              "      <th>Income</th>\n",
              "      <th>Edu</th>\n",
              "      <th>Other Debt</th>\n",
              "      <th>Defaulted</th>\n",
              "      <th>Age</th>\n",
              "      <th>Years Employed</th>\n",
              "      <th>DebtIncomeRatio</th>\n",
              "    </tr>\n",
              "  </thead>\n",
              "  <tbody>\n",
              "    <tr>\n",
              "      <th>count</th>\n",
              "      <td>700.000000</td>\n",
              "      <td>700.000000</td>\n",
              "      <td>700.000000</td>\n",
              "      <td>700.000000</td>\n",
              "      <td>700.000000</td>\n",
              "      <td>700.000000</td>\n",
              "      <td>700.000000</td>\n",
              "      <td>700.000000</td>\n",
              "    </tr>\n",
              "    <tr>\n",
              "      <th>mean</th>\n",
              "      <td>1.553566</td>\n",
              "      <td>45.601429</td>\n",
              "      <td>1.722857</td>\n",
              "      <td>3.058196</td>\n",
              "      <td>0.261429</td>\n",
              "      <td>34.860000</td>\n",
              "      <td>8.388571</td>\n",
              "      <td>10.260571</td>\n",
              "    </tr>\n",
              "    <tr>\n",
              "      <th>std</th>\n",
              "      <td>2.117196</td>\n",
              "      <td>36.814226</td>\n",
              "      <td>0.928206</td>\n",
              "      <td>3.287550</td>\n",
              "      <td>0.439727</td>\n",
              "      <td>7.997342</td>\n",
              "      <td>6.658039</td>\n",
              "      <td>6.827234</td>\n",
              "    </tr>\n",
              "    <tr>\n",
              "      <th>min</th>\n",
              "      <td>0.012000</td>\n",
              "      <td>14.000000</td>\n",
              "      <td>1.000000</td>\n",
              "      <td>0.046000</td>\n",
              "      <td>0.000000</td>\n",
              "      <td>20.000000</td>\n",
              "      <td>0.000000</td>\n",
              "      <td>0.400000</td>\n",
              "    </tr>\n",
              "    <tr>\n",
              "      <th>25%</th>\n",
              "      <td>0.368750</td>\n",
              "      <td>24.000000</td>\n",
              "      <td>1.000000</td>\n",
              "      <td>1.044000</td>\n",
              "      <td>0.000000</td>\n",
              "      <td>29.000000</td>\n",
              "      <td>3.000000</td>\n",
              "      <td>5.000000</td>\n",
              "    </tr>\n",
              "    <tr>\n",
              "      <th>50%</th>\n",
              "      <td>0.855000</td>\n",
              "      <td>34.000000</td>\n",
              "      <td>1.000000</td>\n",
              "      <td>1.987500</td>\n",
              "      <td>0.000000</td>\n",
              "      <td>34.000000</td>\n",
              "      <td>7.000000</td>\n",
              "      <td>8.600000</td>\n",
              "    </tr>\n",
              "    <tr>\n",
              "      <th>75%</th>\n",
              "      <td>1.901750</td>\n",
              "      <td>55.000000</td>\n",
              "      <td>2.000000</td>\n",
              "      <td>3.923250</td>\n",
              "      <td>1.000000</td>\n",
              "      <td>40.000000</td>\n",
              "      <td>12.000000</td>\n",
              "      <td>14.125000</td>\n",
              "    </tr>\n",
              "    <tr>\n",
              "      <th>max</th>\n",
              "      <td>20.561000</td>\n",
              "      <td>446.000000</td>\n",
              "      <td>5.000000</td>\n",
              "      <td>27.034000</td>\n",
              "      <td>1.000000</td>\n",
              "      <td>56.000000</td>\n",
              "      <td>31.000000</td>\n",
              "      <td>41.300000</td>\n",
              "    </tr>\n",
              "  </tbody>\n",
              "</table>\n",
              "</div>\n",
              "      <button class=\"colab-df-convert\" onclick=\"convertToInteractive('df-4281e78e-0c1a-4e5b-a02e-32ff98c56d3a')\"\n",
              "              title=\"Convert this dataframe to an interactive table.\"\n",
              "              style=\"display:none;\">\n",
              "        \n",
              "  <svg xmlns=\"http://www.w3.org/2000/svg\" height=\"24px\"viewBox=\"0 0 24 24\"\n",
              "       width=\"24px\">\n",
              "    <path d=\"M0 0h24v24H0V0z\" fill=\"none\"/>\n",
              "    <path d=\"M18.56 5.44l.94 2.06.94-2.06 2.06-.94-2.06-.94-.94-2.06-.94 2.06-2.06.94zm-11 1L8.5 8.5l.94-2.06 2.06-.94-2.06-.94L8.5 2.5l-.94 2.06-2.06.94zm10 10l.94 2.06.94-2.06 2.06-.94-2.06-.94-.94-2.06-.94 2.06-2.06.94z\"/><path d=\"M17.41 7.96l-1.37-1.37c-.4-.4-.92-.59-1.43-.59-.52 0-1.04.2-1.43.59L10.3 9.45l-7.72 7.72c-.78.78-.78 2.05 0 2.83L4 21.41c.39.39.9.59 1.41.59.51 0 1.02-.2 1.41-.59l7.78-7.78 2.81-2.81c.8-.78.8-2.07 0-2.86zM5.41 20L4 18.59l7.72-7.72 1.47 1.35L5.41 20z\"/>\n",
              "  </svg>\n",
              "      </button>\n",
              "      \n",
              "  <style>\n",
              "    .colab-df-container {\n",
              "      display:flex;\n",
              "      flex-wrap:wrap;\n",
              "      gap: 12px;\n",
              "    }\n",
              "\n",
              "    .colab-df-convert {\n",
              "      background-color: #E8F0FE;\n",
              "      border: none;\n",
              "      border-radius: 50%;\n",
              "      cursor: pointer;\n",
              "      display: none;\n",
              "      fill: #1967D2;\n",
              "      height: 32px;\n",
              "      padding: 0 0 0 0;\n",
              "      width: 32px;\n",
              "    }\n",
              "\n",
              "    .colab-df-convert:hover {\n",
              "      background-color: #E2EBFA;\n",
              "      box-shadow: 0px 1px 2px rgba(60, 64, 67, 0.3), 0px 1px 3px 1px rgba(60, 64, 67, 0.15);\n",
              "      fill: #174EA6;\n",
              "    }\n",
              "\n",
              "    [theme=dark] .colab-df-convert {\n",
              "      background-color: #3B4455;\n",
              "      fill: #D2E3FC;\n",
              "    }\n",
              "\n",
              "    [theme=dark] .colab-df-convert:hover {\n",
              "      background-color: #434B5C;\n",
              "      box-shadow: 0px 1px 3px 1px rgba(0, 0, 0, 0.15);\n",
              "      filter: drop-shadow(0px 1px 2px rgba(0, 0, 0, 0.3));\n",
              "      fill: #FFFFFF;\n",
              "    }\n",
              "  </style>\n",
              "\n",
              "      <script>\n",
              "        const buttonEl =\n",
              "          document.querySelector('#df-4281e78e-0c1a-4e5b-a02e-32ff98c56d3a button.colab-df-convert');\n",
              "        buttonEl.style.display =\n",
              "          google.colab.kernel.accessAllowed ? 'block' : 'none';\n",
              "\n",
              "        async function convertToInteractive(key) {\n",
              "          const element = document.querySelector('#df-4281e78e-0c1a-4e5b-a02e-32ff98c56d3a');\n",
              "          const dataTable =\n",
              "            await google.colab.kernel.invokeFunction('convertToInteractive',\n",
              "                                                     [key], {});\n",
              "          if (!dataTable) return;\n",
              "\n",
              "          const docLinkHtml = 'Like what you see? Visit the ' +\n",
              "            '<a target=\"_blank\" href=https://colab.research.google.com/notebooks/data_table.ipynb>data table notebook</a>'\n",
              "            + ' to learn more about interactive tables.';\n",
              "          element.innerHTML = '';\n",
              "          dataTable['output_type'] = 'display_data';\n",
              "          await google.colab.output.renderOutput(dataTable, element);\n",
              "          const docLink = document.createElement('div');\n",
              "          docLink.innerHTML = docLinkHtml;\n",
              "          element.appendChild(docLink);\n",
              "        }\n",
              "      </script>\n",
              "    </div>\n",
              "  </div>\n",
              "  "
            ]
          },
          "metadata": {},
          "execution_count": 38
        }
      ]
    },
    {
      "cell_type": "code",
      "source": [
        "#adding cluster row\n",
        "kmeans = KMeans(n_clusters=2, random_state=10)\n",
        "kmeans.fit(scaled_df)\n",
        "df['cluster'] = kmeans.labels_"
      ],
      "metadata": {
        "colab": {
          "base_uri": "https://localhost:8080/"
        },
        "id": "bCyHir5XhmOc",
        "outputId": "127f180b-13e2-4c8b-9987-99b2424635f1"
      },
      "execution_count": 41,
      "outputs": [
        {
          "output_type": "stream",
          "name": "stderr",
          "text": [
            "/usr/local/lib/python3.7/dist-packages/ipykernel_launcher.py:4: SettingWithCopyWarning: \n",
            "A value is trying to be set on a copy of a slice from a DataFrame.\n",
            "Try using .loc[row_indexer,col_indexer] = value instead\n",
            "\n",
            "See the caveats in the documentation: https://pandas.pydata.org/pandas-docs/stable/user_guide/indexing.html#returning-a-view-versus-a-copy\n",
            "  after removing the cwd from sys.path.\n"
          ]
        }
      ]
    },
    {
      "cell_type": "code",
      "source": [
        "#Checking if cluster column was added \n",
        "df.head()"
      ],
      "metadata": {
        "colab": {
          "base_uri": "https://localhost:8080/",
          "height": 206
        },
        "id": "n08t6aIJi2Gq",
        "outputId": "b0ac35d0-04c0-4752-c7d8-f1880b8d6f4a"
      },
      "execution_count": 42,
      "outputs": [
        {
          "output_type": "execute_result",
          "data": {
            "text/plain": [
              "   Card Debt  Income  Edu  Other Debt  Defaulted  Age  Years Employed  \\\n",
              "0      0.124      19    2       1.073        0.0   41               6   \n",
              "1      4.582     100    1       8.218        0.0   47              26   \n",
              "2      6.111      57    2       5.802        1.0   33              10   \n",
              "3      0.681      19    2       0.516        0.0   29               4   \n",
              "4      9.308     253    1       8.908        0.0   47              31   \n",
              "\n",
              "   DebtIncomeRatio  cluster  \n",
              "0              6.3        1  \n",
              "1             12.8        0  \n",
              "2             20.9        0  \n",
              "3              6.3        1  \n",
              "4              7.2        0  "
            ],
            "text/html": [
              "\n",
              "  <div id=\"df-c689f039-058f-40ae-80e2-28492af6c49a\">\n",
              "    <div class=\"colab-df-container\">\n",
              "      <div>\n",
              "<style scoped>\n",
              "    .dataframe tbody tr th:only-of-type {\n",
              "        vertical-align: middle;\n",
              "    }\n",
              "\n",
              "    .dataframe tbody tr th {\n",
              "        vertical-align: top;\n",
              "    }\n",
              "\n",
              "    .dataframe thead th {\n",
              "        text-align: right;\n",
              "    }\n",
              "</style>\n",
              "<table border=\"1\" class=\"dataframe\">\n",
              "  <thead>\n",
              "    <tr style=\"text-align: right;\">\n",
              "      <th></th>\n",
              "      <th>Card Debt</th>\n",
              "      <th>Income</th>\n",
              "      <th>Edu</th>\n",
              "      <th>Other Debt</th>\n",
              "      <th>Defaulted</th>\n",
              "      <th>Age</th>\n",
              "      <th>Years Employed</th>\n",
              "      <th>DebtIncomeRatio</th>\n",
              "      <th>cluster</th>\n",
              "    </tr>\n",
              "  </thead>\n",
              "  <tbody>\n",
              "    <tr>\n",
              "      <th>0</th>\n",
              "      <td>0.124</td>\n",
              "      <td>19</td>\n",
              "      <td>2</td>\n",
              "      <td>1.073</td>\n",
              "      <td>0.0</td>\n",
              "      <td>41</td>\n",
              "      <td>6</td>\n",
              "      <td>6.3</td>\n",
              "      <td>1</td>\n",
              "    </tr>\n",
              "    <tr>\n",
              "      <th>1</th>\n",
              "      <td>4.582</td>\n",
              "      <td>100</td>\n",
              "      <td>1</td>\n",
              "      <td>8.218</td>\n",
              "      <td>0.0</td>\n",
              "      <td>47</td>\n",
              "      <td>26</td>\n",
              "      <td>12.8</td>\n",
              "      <td>0</td>\n",
              "    </tr>\n",
              "    <tr>\n",
              "      <th>2</th>\n",
              "      <td>6.111</td>\n",
              "      <td>57</td>\n",
              "      <td>2</td>\n",
              "      <td>5.802</td>\n",
              "      <td>1.0</td>\n",
              "      <td>33</td>\n",
              "      <td>10</td>\n",
              "      <td>20.9</td>\n",
              "      <td>0</td>\n",
              "    </tr>\n",
              "    <tr>\n",
              "      <th>3</th>\n",
              "      <td>0.681</td>\n",
              "      <td>19</td>\n",
              "      <td>2</td>\n",
              "      <td>0.516</td>\n",
              "      <td>0.0</td>\n",
              "      <td>29</td>\n",
              "      <td>4</td>\n",
              "      <td>6.3</td>\n",
              "      <td>1</td>\n",
              "    </tr>\n",
              "    <tr>\n",
              "      <th>4</th>\n",
              "      <td>9.308</td>\n",
              "      <td>253</td>\n",
              "      <td>1</td>\n",
              "      <td>8.908</td>\n",
              "      <td>0.0</td>\n",
              "      <td>47</td>\n",
              "      <td>31</td>\n",
              "      <td>7.2</td>\n",
              "      <td>0</td>\n",
              "    </tr>\n",
              "  </tbody>\n",
              "</table>\n",
              "</div>\n",
              "      <button class=\"colab-df-convert\" onclick=\"convertToInteractive('df-c689f039-058f-40ae-80e2-28492af6c49a')\"\n",
              "              title=\"Convert this dataframe to an interactive table.\"\n",
              "              style=\"display:none;\">\n",
              "        \n",
              "  <svg xmlns=\"http://www.w3.org/2000/svg\" height=\"24px\"viewBox=\"0 0 24 24\"\n",
              "       width=\"24px\">\n",
              "    <path d=\"M0 0h24v24H0V0z\" fill=\"none\"/>\n",
              "    <path d=\"M18.56 5.44l.94 2.06.94-2.06 2.06-.94-2.06-.94-.94-2.06-.94 2.06-2.06.94zm-11 1L8.5 8.5l.94-2.06 2.06-.94-2.06-.94L8.5 2.5l-.94 2.06-2.06.94zm10 10l.94 2.06.94-2.06 2.06-.94-2.06-.94-.94-2.06-.94 2.06-2.06.94z\"/><path d=\"M17.41 7.96l-1.37-1.37c-.4-.4-.92-.59-1.43-.59-.52 0-1.04.2-1.43.59L10.3 9.45l-7.72 7.72c-.78.78-.78 2.05 0 2.83L4 21.41c.39.39.9.59 1.41.59.51 0 1.02-.2 1.41-.59l7.78-7.78 2.81-2.81c.8-.78.8-2.07 0-2.86zM5.41 20L4 18.59l7.72-7.72 1.47 1.35L5.41 20z\"/>\n",
              "  </svg>\n",
              "      </button>\n",
              "      \n",
              "  <style>\n",
              "    .colab-df-container {\n",
              "      display:flex;\n",
              "      flex-wrap:wrap;\n",
              "      gap: 12px;\n",
              "    }\n",
              "\n",
              "    .colab-df-convert {\n",
              "      background-color: #E8F0FE;\n",
              "      border: none;\n",
              "      border-radius: 50%;\n",
              "      cursor: pointer;\n",
              "      display: none;\n",
              "      fill: #1967D2;\n",
              "      height: 32px;\n",
              "      padding: 0 0 0 0;\n",
              "      width: 32px;\n",
              "    }\n",
              "\n",
              "    .colab-df-convert:hover {\n",
              "      background-color: #E2EBFA;\n",
              "      box-shadow: 0px 1px 2px rgba(60, 64, 67, 0.3), 0px 1px 3px 1px rgba(60, 64, 67, 0.15);\n",
              "      fill: #174EA6;\n",
              "    }\n",
              "\n",
              "    [theme=dark] .colab-df-convert {\n",
              "      background-color: #3B4455;\n",
              "      fill: #D2E3FC;\n",
              "    }\n",
              "\n",
              "    [theme=dark] .colab-df-convert:hover {\n",
              "      background-color: #434B5C;\n",
              "      box-shadow: 0px 1px 3px 1px rgba(0, 0, 0, 0.15);\n",
              "      filter: drop-shadow(0px 1px 2px rgba(0, 0, 0, 0.3));\n",
              "      fill: #FFFFFF;\n",
              "    }\n",
              "  </style>\n",
              "\n",
              "      <script>\n",
              "        const buttonEl =\n",
              "          document.querySelector('#df-c689f039-058f-40ae-80e2-28492af6c49a button.colab-df-convert');\n",
              "        buttonEl.style.display =\n",
              "          google.colab.kernel.accessAllowed ? 'block' : 'none';\n",
              "\n",
              "        async function convertToInteractive(key) {\n",
              "          const element = document.querySelector('#df-c689f039-058f-40ae-80e2-28492af6c49a');\n",
              "          const dataTable =\n",
              "            await google.colab.kernel.invokeFunction('convertToInteractive',\n",
              "                                                     [key], {});\n",
              "          if (!dataTable) return;\n",
              "\n",
              "          const docLinkHtml = 'Like what you see? Visit the ' +\n",
              "            '<a target=\"_blank\" href=https://colab.research.google.com/notebooks/data_table.ipynb>data table notebook</a>'\n",
              "            + ' to learn more about interactive tables.';\n",
              "          element.innerHTML = '';\n",
              "          dataTable['output_type'] = 'display_data';\n",
              "          await google.colab.output.renderOutput(dataTable, element);\n",
              "          const docLink = document.createElement('div');\n",
              "          docLink.innerHTML = docLinkHtml;\n",
              "          element.appendChild(docLink);\n",
              "        }\n",
              "      </script>\n",
              "    </div>\n",
              "  </div>\n",
              "  "
            ]
          },
          "metadata": {},
          "execution_count": 42
        }
      ]
    },
    {
      "cell_type": "code",
      "source": [
        "#creating group by of clusters for analyzing the avg\n",
        "cluster_groups = df.groupby('cluster', as_index=False).mean()\n",
        "cluster_groups"
      ],
      "metadata": {
        "colab": {
          "base_uri": "https://localhost:8080/",
          "height": 112
        },
        "id": "4InTTKCZi9Em",
        "outputId": "89318075-5e28-4e76-e08a-ecedca6fab70"
      },
      "execution_count": 43,
      "outputs": [
        {
          "output_type": "execute_result",
          "data": {
            "text/plain": [
              "   cluster  Card Debt     Income       Edu  Other Debt  Defaulted        Age  \\\n",
              "0        0   3.886994  88.238994  1.955975    7.257063   0.301887  41.855346   \n",
              "1        1   0.867771  33.070240  1.654344    1.824148   0.249538  32.804067   \n",
              "\n",
              "   Years Employed  DebtIncomeRatio  \n",
              "0       15.503145        14.754717  \n",
              "1        6.297597         8.939741  "
            ],
            "text/html": [
              "\n",
              "  <div id=\"df-5995a3e6-15d5-45b3-9033-6bdff4ba4ba5\">\n",
              "    <div class=\"colab-df-container\">\n",
              "      <div>\n",
              "<style scoped>\n",
              "    .dataframe tbody tr th:only-of-type {\n",
              "        vertical-align: middle;\n",
              "    }\n",
              "\n",
              "    .dataframe tbody tr th {\n",
              "        vertical-align: top;\n",
              "    }\n",
              "\n",
              "    .dataframe thead th {\n",
              "        text-align: right;\n",
              "    }\n",
              "</style>\n",
              "<table border=\"1\" class=\"dataframe\">\n",
              "  <thead>\n",
              "    <tr style=\"text-align: right;\">\n",
              "      <th></th>\n",
              "      <th>cluster</th>\n",
              "      <th>Card Debt</th>\n",
              "      <th>Income</th>\n",
              "      <th>Edu</th>\n",
              "      <th>Other Debt</th>\n",
              "      <th>Defaulted</th>\n",
              "      <th>Age</th>\n",
              "      <th>Years Employed</th>\n",
              "      <th>DebtIncomeRatio</th>\n",
              "    </tr>\n",
              "  </thead>\n",
              "  <tbody>\n",
              "    <tr>\n",
              "      <th>0</th>\n",
              "      <td>0</td>\n",
              "      <td>3.886994</td>\n",
              "      <td>88.238994</td>\n",
              "      <td>1.955975</td>\n",
              "      <td>7.257063</td>\n",
              "      <td>0.301887</td>\n",
              "      <td>41.855346</td>\n",
              "      <td>15.503145</td>\n",
              "      <td>14.754717</td>\n",
              "    </tr>\n",
              "    <tr>\n",
              "      <th>1</th>\n",
              "      <td>1</td>\n",
              "      <td>0.867771</td>\n",
              "      <td>33.070240</td>\n",
              "      <td>1.654344</td>\n",
              "      <td>1.824148</td>\n",
              "      <td>0.249538</td>\n",
              "      <td>32.804067</td>\n",
              "      <td>6.297597</td>\n",
              "      <td>8.939741</td>\n",
              "    </tr>\n",
              "  </tbody>\n",
              "</table>\n",
              "</div>\n",
              "      <button class=\"colab-df-convert\" onclick=\"convertToInteractive('df-5995a3e6-15d5-45b3-9033-6bdff4ba4ba5')\"\n",
              "              title=\"Convert this dataframe to an interactive table.\"\n",
              "              style=\"display:none;\">\n",
              "        \n",
              "  <svg xmlns=\"http://www.w3.org/2000/svg\" height=\"24px\"viewBox=\"0 0 24 24\"\n",
              "       width=\"24px\">\n",
              "    <path d=\"M0 0h24v24H0V0z\" fill=\"none\"/>\n",
              "    <path d=\"M18.56 5.44l.94 2.06.94-2.06 2.06-.94-2.06-.94-.94-2.06-.94 2.06-2.06.94zm-11 1L8.5 8.5l.94-2.06 2.06-.94-2.06-.94L8.5 2.5l-.94 2.06-2.06.94zm10 10l.94 2.06.94-2.06 2.06-.94-2.06-.94-.94-2.06-.94 2.06-2.06.94z\"/><path d=\"M17.41 7.96l-1.37-1.37c-.4-.4-.92-.59-1.43-.59-.52 0-1.04.2-1.43.59L10.3 9.45l-7.72 7.72c-.78.78-.78 2.05 0 2.83L4 21.41c.39.39.9.59 1.41.59.51 0 1.02-.2 1.41-.59l7.78-7.78 2.81-2.81c.8-.78.8-2.07 0-2.86zM5.41 20L4 18.59l7.72-7.72 1.47 1.35L5.41 20z\"/>\n",
              "  </svg>\n",
              "      </button>\n",
              "      \n",
              "  <style>\n",
              "    .colab-df-container {\n",
              "      display:flex;\n",
              "      flex-wrap:wrap;\n",
              "      gap: 12px;\n",
              "    }\n",
              "\n",
              "    .colab-df-convert {\n",
              "      background-color: #E8F0FE;\n",
              "      border: none;\n",
              "      border-radius: 50%;\n",
              "      cursor: pointer;\n",
              "      display: none;\n",
              "      fill: #1967D2;\n",
              "      height: 32px;\n",
              "      padding: 0 0 0 0;\n",
              "      width: 32px;\n",
              "    }\n",
              "\n",
              "    .colab-df-convert:hover {\n",
              "      background-color: #E2EBFA;\n",
              "      box-shadow: 0px 1px 2px rgba(60, 64, 67, 0.3), 0px 1px 3px 1px rgba(60, 64, 67, 0.15);\n",
              "      fill: #174EA6;\n",
              "    }\n",
              "\n",
              "    [theme=dark] .colab-df-convert {\n",
              "      background-color: #3B4455;\n",
              "      fill: #D2E3FC;\n",
              "    }\n",
              "\n",
              "    [theme=dark] .colab-df-convert:hover {\n",
              "      background-color: #434B5C;\n",
              "      box-shadow: 0px 1px 3px 1px rgba(0, 0, 0, 0.15);\n",
              "      filter: drop-shadow(0px 1px 2px rgba(0, 0, 0, 0.3));\n",
              "      fill: #FFFFFF;\n",
              "    }\n",
              "  </style>\n",
              "\n",
              "      <script>\n",
              "        const buttonEl =\n",
              "          document.querySelector('#df-5995a3e6-15d5-45b3-9033-6bdff4ba4ba5 button.colab-df-convert');\n",
              "        buttonEl.style.display =\n",
              "          google.colab.kernel.accessAllowed ? 'block' : 'none';\n",
              "\n",
              "        async function convertToInteractive(key) {\n",
              "          const element = document.querySelector('#df-5995a3e6-15d5-45b3-9033-6bdff4ba4ba5');\n",
              "          const dataTable =\n",
              "            await google.colab.kernel.invokeFunction('convertToInteractive',\n",
              "                                                     [key], {});\n",
              "          if (!dataTable) return;\n",
              "\n",
              "          const docLinkHtml = 'Like what you see? Visit the ' +\n",
              "            '<a target=\"_blank\" href=https://colab.research.google.com/notebooks/data_table.ipynb>data table notebook</a>'\n",
              "            + ' to learn more about interactive tables.';\n",
              "          element.innerHTML = '';\n",
              "          dataTable['output_type'] = 'display_data';\n",
              "          await google.colab.output.renderOutput(dataTable, element);\n",
              "          const docLink = document.createElement('div');\n",
              "          docLink.innerHTML = docLinkHtml;\n",
              "          element.appendChild(docLink);\n",
              "        }\n",
              "      </script>\n",
              "    </div>\n",
              "  </div>\n",
              "  "
            ]
          },
          "metadata": {},
          "execution_count": 43
        }
      ]
    },
    {
      "cell_type": "code",
      "source": [
        "#Making bar graphs of the means of each feature for each cluster for Visual\n",
        "fig, axes = plt.subplots(2,4, figsize=(20,10))\n",
        "axes = axes.ravel()\n",
        "\n",
        "for g, col in enumerate(cluster_groups.columns[1:]):\n",
        "  axes[g].bar(cluster_groups['cluster'], cluster_groups[col])\n",
        "  axes[g].set_title(f'Mean {col}')\n",
        "  axes[g].set_xticks(cluster_groups['cluster'])\n",
        "  plt.tight_layout();"
      ],
      "metadata": {
        "colab": {
          "base_uri": "https://localhost:8080/",
          "height": 547
        },
        "id": "86P7ha2Gkovt",
        "outputId": "e65f28c4-9052-4eb0-a48e-a40c5f5eaf6d"
      },
      "execution_count": 57,
      "outputs": [
        {
          "output_type": "display_data",
          "data": {
            "text/plain": [
              "<Figure size 1440x720 with 8 Axes>"
            ],
            "image/png": "[encoded data removed]"
          },
          "metadata": {
            "needs_background": "light"
          }
        }
      ]
    },
    {
      "cell_type": "markdown",
      "source": [
        "From the visual bar plots, we can see that there are unique features of customer groups that could help the marketing department. But first there are a few close similarities. These include avg. Education and avg. Default on Debt. Both of these features are close enough for both customer clusters that it can be somewhat ignored in this visual presentation. \n",
        "\n",
        "For customers in cluster 0, we can see that these customers are older with avg age being over 40 years old and their avg. year of employment is over 14 years which is high. There avg. income is also high being over $80k. However, their Card Debt and Other Debt is very high compared to customers in cluster 1. The bar graphs also show that this group has a high avg. Debt-to-Income Ratio and are more likely to be Defaulted. This means customer group 0 is more likely to purchase something on debt knowing that they don't have the money to pay for it just yet. Seems to be a pay check to pay check purchasing style. \n",
        "\n",
        "For customers in cluster 1, we can see that these customers are younger with avg age being just over 30 years old and their avg. year of employment is 6 years.\n",
        "That is the complete opposite of the other customer group. Also, their avg. income is also very low being under $40k. However, their Card Debt and Other Debt is also very low compared to customers in cluster 1. In addition, their Debt-to-Income Ratio is also low. This means customers in group 1 spend within their means.\n",
        "\n",
        "Based on this information, the marketing team should focus their advertisement on customers in cluster group 0. The biggest reason being is that these customers are more likely to spend on things they like and do not care if that puts them in more debt or not. "
      ],
      "metadata": {
        "id": "WWMLwe_spd3_"
      }
    }
  ]
}